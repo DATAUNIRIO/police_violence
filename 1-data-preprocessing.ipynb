{
 "cells": [
  {
   "cell_type": "markdown",
   "metadata": {},
   "source": [
    "## Data\n",
    "\n",
    "- https://www.governing.com/gov-data/safety-justice/law-enforcement-police-department-employee-totals-for-cities.html\n",
    "- https://www.census.gov/data/tables/time-series/demo/popest/2010s-total-cities-and-towns.html#ds\n",
    "- https://simplemaps.com/data/us-cities\n",
    "- https://killedbypolice.net/\n",
    "- https://docs.google.com/spreadsheets/d/1dKmaV_JiWcG8XBoRgP8b4e9Eopkpgt7FL7nyspvzAsE/edit#gid=0\n",
    "- https://mappingpoliceviolence.org/aboutthedata\n",
    "- https://www.taxpolicycenter.org/statistics/state-and-local-general-expenditures-capita\n",
    "- https://public.opendatasoft.com/explore/dataset/us-cities-demographics/table/?dataChart=eyJxdWVyaWVzIjpbeyJjb25maWciOnsiZGF0YXNldCI6InVzLWNpdGllcy1kZW1vZ3JhcGhpY3MiLCJvcHRpb25zIjp7fX0sImNoYXJ0cyI6W3siYWxpZ25Nb250aCI6dHJ1ZSwidHlwZSI6ImNvbHVtbiIsImZ1bmMiOiJBVkciLCJ5QXhpcyI6Im1lZGlhbl9hZ2UiLCJzY2llbnRpZmljRGlzcGxheSI6dHJ1ZSwiY29sb3IiOiIjRkY1MTVBIn1dLCJ4QXhpcyI6ImNpdHkiLCJtYXhwb2ludHMiOjUwLCJzb3J0IjoiIn1dLCJ0aW1lc2NhbGUiOiIiLCJkaXNwbGF5TGVnZW5kIjp0cnVlLCJhbGlnbk1vbnRoIjp0cnVlfQ%3D%3D"
   ]
  },
  {
   "cell_type": "code",
   "execution_count": 1,
   "metadata": {},
   "outputs": [],
   "source": [
    "import pandas as pd\n",
    "import geopandas as gpd\n",
    "import numpy as np"
   ]
  },
  {
   "cell_type": "code",
   "execution_count": 214,
   "metadata": {},
   "outputs": [
    {
     "data": {
      "text/plain": [
       "(29360, 28)"
      ]
     },
     "execution_count": 214,
     "metadata": {},
     "output_type": "execute_result"
    }
   ],
   "source": [
    "data_cov = \"28122020\"\n",
    "# clean fatal encounters from missing values\n",
    "pop = pd.read_csv('data/raw/uscities.csv') #, encoding = \"ISO-8859-1\"\n",
    "us_pop = pd.read_csv('data/raw/POPTOTUSA647NWDB.csv')\n",
    "pop_race = pd.read_csv('data/raw/us-cities-demographics.csv', sep=\";\")\n",
    "state_abr = pd.read_csv('data/raw/abbr-name-list.csv')\n",
    "police_officers = pd.read_csv('data/raw/police_officers.csv')\n",
    "votes = pd.read_csv('data/raw/countypres_2000-2016.csv')\n",
    "spending = pd.read_csv('data/raw/results.csv', skiprows=[0,1])\n",
    "df = pd.read_csv(f\"data/raw/fatal_encounters_{data_cov}.csv\")\n",
    "# get counties centroids\n",
    "counties = gpd.read_file(\"data/raw/counties/tl_2017_us_county.shp\")\n",
    "df.shape"
   ]
  },
  {
   "cell_type": "code",
   "execution_count": 215,
   "metadata": {},
   "outputs": [
    {
     "data": {
      "text/plain": [
       "(29359, 28)"
      ]
     },
     "execution_count": 215,
     "metadata": {},
     "output_type": "execute_result"
    }
   ],
   "source": [
    "df = df.dropna(subset=['Longitude', 'Latitude'])\n",
    "df.shape"
   ]
  },
  {
   "cell_type": "code",
   "execution_count": 14,
   "metadata": {},
   "outputs": [],
   "source": [
    "df.to_csv(f'data/processed/fatal_encounters_cl_{data_cov}.csv')"
   ]
  },
  {
   "cell_type": "code",
   "execution_count": 209,
   "metadata": {},
   "outputs": [],
   "source": [
    "# counties['NAME'] = counties['name']"
   ]
  },
  {
   "cell_type": "code",
   "execution_count": 163,
   "metadata": {},
   "outputs": [],
   "source": [
    "# counties['centroid'] = counties['geometry'].centroid"
   ]
  },
  {
   "cell_type": "code",
   "execution_count": 61,
   "metadata": {},
   "outputs": [],
   "source": [
    "# aggregated since 2000\n",
    "df['death_count'] = 1 \n",
    "# df = df[[\"Subject's name\", \"Subject's age\", \"Subject's race\", \"Subject's gender\", \n",
    "#          \"Date of injury resulting in death (month/day/year)\", \n",
    "#          \"Location of death (county)\", \"Latitude\", \"Longitude\",\n",
    "#          \"Date (Year)\", \"death_count\"]]\n",
    "df[[\"Latitude\", \"Longitude\",\"death_count\"]] = df[[\"Latitude\", \"Longitude\",\"death_count\"]].apply(pd.to_numeric)\n",
    "\n",
    "\n",
    "\n",
    "df = df.groupby(\"Location of death (county)\").agg(\n",
    "    { \"Latitude\": \"mean\", \"Longitude\": \"mean\", \"death_count\": \"sum\"}).reset_index()\n",
    "df.columns = [\"county\", \"Latitude\", \"Longitude\",\"death_count\"]\n",
    "\n",
    "df = df.dropna(subset=['Longitude', 'Latitude'])\n",
    "\n",
    "df.to_csv(\"data/countiesDeaths.csv\")"
   ]
  },
  {
   "cell_type": "code",
   "execution_count": 77,
   "metadata": {},
   "outputs": [],
   "source": [
    "# by month/year\n",
    "df['death_count'] = 1 \n",
    "# df = df[[\"Subject's name\", \"Subject's age\", \"Subject's race\", \"Subject's gender\", \n",
    "#          \"Date of injury resulting in death (month/day/year)\", \n",
    "#          \"Location of death (county)\", \"Latitude\", \"Longitude\",\n",
    "#          \"Date (Year)\", \"death_count\"]]\n",
    "\n",
    "df['month'] = df['Date of injury resulting in death (month/day/year)'].str[:2]\n",
    "\n",
    "df['month_year'] = df['month'].astype('str') + \"/\" + df['Date (Year)'].astype('str')\n",
    "\n",
    "df[[\"Latitude\", \"Longitude\",\"death_count\"]] = df[[\"Latitude\", \"Longitude\",\"death_count\"]].apply(pd.to_numeric)\n",
    "\n",
    "\n",
    "\n",
    "df = df.groupby([\"Location of death (county)\", \"month_year\"]).agg(\n",
    "    { \"Latitude\": \"mean\", \"Longitude\": \"mean\", \"death_count\": \"sum\"}).reset_index()\n",
    "df.columns = [\"county\", \"date\", \"Latitude\", \"Longitude\",\"death_count\"]\n",
    "\n",
    "df = df.dropna(subset=['Longitude', 'Latitude'])\n",
    "\n",
    "df.to_csv(\"data/citiesYearDeaths.csv\")"
   ]
  },
  {
   "cell_type": "markdown",
   "metadata": {},
   "source": [
    "### Clean data for Bubble Map"
   ]
  },
  {
   "cell_type": "code",
   "execution_count": 38,
   "metadata": {},
   "outputs": [],
   "source": [
    "# by year\n",
    "df['Latitude'] = df['Latitude'].str.strip(\", \")\n",
    "df['Date (Year)'] = pd.to_datetime(df['Date of injury resulting in death (month/day/year)']).dt.year\n",
    "df = df[df['Date (Year)']<=2020]\n",
    "df['death_count'] = 1 \n",
    "# df = df[[\"Subject's name\", \"Subject's age\", \"Subject's race\", \"Subject's gender\", \n",
    "#          \"Date of injury resulting in death (month/day/year)\", \n",
    "#          \"Location of death (county)\", \"Latitude\", \"Longitude\",\n",
    "#          \"Date (Year)\", \"death_count\"]]\n",
    "\n",
    "df[[\"Latitude\", \"Longitude\",\"death_count\"]] = df[[\"Latitude\", \"Longitude\",\"death_count\"]].apply(pd.to_numeric)\n",
    "\n",
    "\n",
    "\n",
    "df = df.groupby([\"Location of death (city)\", \"Date (Year)\"]).agg(\n",
    "    { \"Latitude\": \"mean\", \"Longitude\": \"mean\", \"death_count\": \"sum\"}).reset_index()\n",
    "df.columns = [\"county\", \"date\", \"Latitude\", \"Longitude\",\"death_count\"]"
   ]
  },
  {
   "cell_type": "code",
   "execution_count": 7,
   "metadata": {},
   "outputs": [],
   "source": [
    "# add population for that city\n"
   ]
  },
  {
   "cell_type": "code",
   "execution_count": 39,
   "metadata": {},
   "outputs": [],
   "source": [
    "df = df.dropna(subset=['Longitude', 'Latitude'])\n",
    "\n",
    "df.to_csv(f\"data/citiesYearDeaths_{data_cov}.csv\")"
   ]
  },
  {
   "cell_type": "markdown",
   "metadata": {},
   "source": [
    "### Clean data for Cartogram"
   ]
  },
  {
   "cell_type": "code",
   "execution_count": 45,
   "metadata": {},
   "outputs": [],
   "source": [
    "df['0'] = 1 \n",
    "df['1'] = 1 \n",
    "# df = df[[\"Subject's name\", \"Subject's age\", \"Subject's race\", \"Subject's gender\", \n",
    "#          \"Date of injury resulting in death (month/day/year)\", \n",
    "#          \"Location of death (county)\", \"Latitude\", \"Longitude\",\n",
    "#          \"Date (Year)\", \"death_count\"]]\n",
    "\n",
    "# df[[\"Latitude\", \"Longitude\",\"death_count\"]] = df[[\"Latitude\", \"Longitude\",\"death_count\"]].apply(pd.to_numeric)\n",
    "\n",
    "\n",
    "\n",
    "df_tot = df.groupby([\"State\"]).sum()\n",
    "df_tot = df_tot[[\"0\", \"1\"]]"
   ]
  },
  {
   "cell_type": "code",
   "execution_count": 46,
   "metadata": {},
   "outputs": [
    {
     "data": {
      "text/plain": [
       "{'AK': {'0': 121, '1': 121},\n",
       " 'AL': {'0': 647, '1': 647},\n",
       " 'AR': {'0': 364, '1': 364},\n",
       " 'AZ': {'0': 856, '1': 856},\n",
       " 'CA': {'0': 4688, '1': 4688},\n",
       " 'CO': {'0': 639, '1': 639},\n",
       " 'CT': {'0': 137, '1': 137},\n",
       " 'DC': {'0': 83, '1': 83},\n",
       " 'DE': {'0': 60, '1': 60},\n",
       " 'FL': {'0': 1782, '1': 1782},\n",
       " 'GA': {'0': 1109, '1': 1109},\n",
       " 'HI': {'0': 107, '1': 107},\n",
       " 'IA': {'0': 271, '1': 271},\n",
       " 'ID': {'0': 143, '1': 143},\n",
       " 'IL': {'0': 1070, '1': 1070},\n",
       " 'IN': {'0': 557, '1': 557},\n",
       " 'KS': {'0': 401, '1': 401},\n",
       " 'KY': {'0': 398, '1': 398},\n",
       " 'LA': {'0': 617, '1': 617},\n",
       " 'MA': {'0': 195, '1': 195},\n",
       " 'MD': {'0': 521, '1': 521},\n",
       " 'ME': {'0': 99, '1': 99},\n",
       " 'MI': {'0': 857, '1': 857},\n",
       " 'MN': {'0': 332, '1': 332},\n",
       " 'MO': {'0': 894, '1': 894},\n",
       " 'MS': {'0': 416, '1': 416},\n",
       " 'MT': {'0': 103, '1': 103},\n",
       " 'NC': {'0': 620, '1': 620},\n",
       " 'ND': {'0': 38, '1': 38},\n",
       " 'NE': {'0': 198, '1': 198},\n",
       " 'NH': {'0': 56, '1': 56},\n",
       " 'NJ': {'0': 520, '1': 520},\n",
       " 'NM': {'0': 404, '1': 404},\n",
       " 'NV': {'0': 391, '1': 391},\n",
       " 'NY': {'0': 667, '1': 667},\n",
       " 'OH': {'0': 961, '1': 961},\n",
       " 'OK': {'0': 679, '1': 679},\n",
       " 'OR': {'0': 328, '1': 328},\n",
       " 'PA': {'0': 941, '1': 941},\n",
       " 'RI': {'0': 28, '1': 28},\n",
       " 'SC': {'0': 559, '1': 559},\n",
       " 'SD': {'0': 57, '1': 57},\n",
       " 'TN': {'0': 632, '1': 632},\n",
       " 'TX': {'0': 2597, '1': 2597},\n",
       " 'UT': {'0': 247, '1': 247},\n",
       " 'VA': {'0': 601, '1': 601},\n",
       " 'VT': {'0': 40, '1': 40},\n",
       " 'WA': {'0': 646, '1': 646},\n",
       " 'WI': {'0': 445, '1': 445},\n",
       " 'WV': {'0': 179, '1': 179},\n",
       " 'WY': {'0': 58, '1': 58}}"
      ]
     },
     "execution_count": 46,
     "metadata": {},
     "output_type": "execute_result"
    }
   ],
   "source": [
    "df_tot.to_dict(\"index\")"
   ]
  },
  {
   "cell_type": "code",
   "execution_count": 171,
   "metadata": {},
   "outputs": [],
   "source": [
    "df_tot.to_csv(f\"data/processed/StateDeaths_{data_cov}.csv\")"
   ]
  },
  {
   "cell_type": "code",
   "execution_count": 61,
   "metadata": {},
   "outputs": [],
   "source": [
    "df_tot.columns = ['total_deaths', 'total']"
   ]
  },
  {
   "cell_type": "code",
   "execution_count": 62,
   "metadata": {},
   "outputs": [],
   "source": [
    "state_spend = pd.read_csv(\"data/raw/spending_state.csv\")"
   ]
  },
  {
   "cell_type": "code",
   "execution_count": 71,
   "metadata": {},
   "outputs": [],
   "source": [
    "state_pop = pd.read_html(\"https://worldpopulationreview.com/states\")[0]"
   ]
  },
  {
   "cell_type": "code",
   "execution_count": 72,
   "metadata": {},
   "outputs": [],
   "source": [
    "state_pop = pd.merge(state_pop[['State', '2020 Pop.']], state_abr, right_on=\"name\", left_on=\"State\").drop([\"name\", \"State\"], axis=1).rename(columns={\"abbreviation\": \"state\"})"
   ]
  },
  {
   "cell_type": "code",
   "execution_count": 63,
   "metadata": {},
   "outputs": [],
   "source": [
    "state_spend['Policing Per Capita Spend'] = pd.to_numeric(state_spend['Policing Per Capita Spend'].str.strip(\"$\"))\n",
    "state_spend['Policing % of Total Spend'] = pd.to_numeric(state_spend['Policing % of Total Spend'].str.strip(\"%\"))/100\n",
    "state_spend['Policing Expenditures ($ Millions)'] = pd.to_numeric(state_spend['Policing Expenditures ($ Millions)'].str.strip(\"$\").str.replace(',', ''))\n",
    "state_spend = pd.merge(state_abr, state_spend, left_on=\"name\", right_on=\"State\").drop([\"name\", \"State\", \"Rank\", \"Score\"], axis=1).rename(columns={\"abbreviation\": \"state\"})\n",
    "spend_deaths = pd.merge(df_tot.reset_index(), state_spend, left_on=\"State\", right_on=\"state\")\n",
    "spend_deaths = pd.merge(spend_deaths, state_pop, on=\"state\")"
   ]
  },
  {
   "cell_type": "code",
   "execution_count": 76,
   "metadata": {},
   "outputs": [],
   "source": [
    "spend_deaths['deaths_capita'] = spend_deaths['total_deaths']/spend_deaths['2020 Pop.']"
   ]
  },
  {
   "cell_type": "code",
   "execution_count": 65,
   "metadata": {},
   "outputs": [
    {
     "data": {
      "text/plain": [
       "<matplotlib.axes._subplots.AxesSubplot at 0x2013bddde80>"
      ]
     },
     "execution_count": 65,
     "metadata": {},
     "output_type": "execute_result"
    },
    {
     "data": {
      "image/png": "[encoded data removed]",
      "text/plain": [
       "<Figure size 432x288 with 1 Axes>"
      ]
     },
     "metadata": {
      "needs_background": "light"
     },
     "output_type": "display_data"
    }
   ],
   "source": [
    "import seaborn as sns\n",
    "sns.scatterplot(data=spend_deaths, x=\"total_deaths\", y=\"Policing Expenditures ($ Millions)\")"
   ]
  },
  {
   "cell_type": "code",
   "execution_count": 77,
   "metadata": {},
   "outputs": [
    {
     "data": {
      "text/plain": [
       "<matplotlib.axes._subplots.AxesSubplot at 0x20136574fd0>"
      ]
     },
     "execution_count": 77,
     "metadata": {},
     "output_type": "execute_result"
    },
    {
     "data": {
      "image/png": "[encoded data removed]",
      "text/plain": [
       "<Figure size 432x288 with 1 Axes>"
      ]
     },
     "metadata": {
      "needs_background": "light"
     },
     "output_type": "display_data"
    }
   ],
   "source": [
    "import seaborn as sns\n",
    "sns.scatterplot(data=spend_deaths, x=\"deaths_capita\", y=\"Policing Per Capita Spend\")"
   ]
  },
  {
   "cell_type": "code",
   "execution_count": 82,
   "metadata": {},
   "outputs": [],
   "source": [
    "# https://www.americashealthrankings.org/explore/annual/measure/Crime/state/ALL\n",
    "crime = pd.read_csv(\"data/raw/2020-Annual.csv\") "
   ]
  },
  {
   "cell_type": "code",
   "execution_count": 84,
   "metadata": {},
   "outputs": [],
   "source": [
    "crime = pd.merge(state_abr, crime[crime['Measure Name'] == 'Violent Crime'][['State Name', 'Value']], \n",
    "                 left_on=\"name\", right_on='State Name').drop([\"name\", \"State Name\"], axis=1).rename(columns={\"abbreviation\": \"state\", \"Value\":\"crime_hthou\"})"
   ]
  },
  {
   "cell_type": "code",
   "execution_count": 93,
   "metadata": {},
   "outputs": [],
   "source": [
    "spend_deaths_crime = pd.merge(spend_deaths, crime, on=\"state\")"
   ]
  },
  {
   "cell_type": "code",
   "execution_count": 89,
   "metadata": {},
   "outputs": [],
   "source": [
    "spend_deaths_crime['crime_hthou'] = pd.to_numeric(spend_deaths_crime['crime_hthou'])"
   ]
  },
  {
   "cell_type": "code",
   "execution_count": 97,
   "metadata": {},
   "outputs": [
    {
     "data": {
      "text/plain": [
       "<matplotlib.axes._subplots.AxesSubplot at 0x201364584e0>"
      ]
     },
     "execution_count": 97,
     "metadata": {},
     "output_type": "execute_result"
    },
    {
     "data": {
      "image/png": "[encoded data removed]",
      "text/plain": [
       "<Figure size 432x288 with 1 Axes>"
      ]
     },
     "metadata": {
      "needs_background": "light"
     },
     "output_type": "display_data"
    }
   ],
   "source": [
    "sns.scatterplot(data=spend_deaths_crime, x=\"deaths_capita\", y=\"crime_hthou\")"
   ]
  },
  {
   "cell_type": "code",
   "execution_count": 98,
   "metadata": {},
   "outputs": [
    {
     "data": {
      "text/plain": [
       "<matplotlib.axes._subplots.AxesSubplot at 0x201364834a8>"
      ]
     },
     "execution_count": 98,
     "metadata": {},
     "output_type": "execute_result"
    },
    {
     "data": {
      "image/png": "[encoded data removed]",
      "text/plain": [
       "<Figure size 432x288 with 1 Axes>"
      ]
     },
     "metadata": {
      "needs_background": "light"
     },
     "output_type": "display_data"
    }
   ],
   "source": [
    "sns.scatterplot(data=spend_deaths_crime, x=\"Policing Expenditures ($ Millions)\", y=\"crime_hthou\")"
   ]
  },
  {
   "cell_type": "code",
   "execution_count": 123,
   "metadata": {},
   "outputs": [
    {
     "data": {
      "text/plain": [
       "<matplotlib.axes._subplots.AxesSubplot at 0x2013bb19860>"
      ]
     },
     "execution_count": 123,
     "metadata": {},
     "output_type": "execute_result"
    },
    {
     "data": {
      "image/png": "[encoded data removed]",
      "text/plain": [
       "<Figure size 432x288 with 1 Axes>"
      ]
     },
     "metadata": {
      "needs_background": "light"
     },
     "output_type": "display_data"
    }
   ],
   "source": [
    "sns.scatterplot(data=spend_deaths_crime, x=\"Policing Per Capita Spend\", y=\"crime_hthou\")"
   ]
  },
  {
   "cell_type": "markdown",
   "metadata": {},
   "source": [
    "### Clean data for line chart"
   ]
  },
  {
   "cell_type": "code",
   "execution_count": 216,
   "metadata": {},
   "outputs": [],
   "source": [
    "import requests\n",
    "import pandas as pd\n",
    "from zipfile import ZipFile\n",
    "\n",
    "#scrape police officers by city\n",
    "# police_officers = pd.read_html('https://www.governing.com/gov-data/safety-justice/law-enforcement-police-department-employee-totals-for-cities.html')[0]\n",
    "police_officers = pd.read_html('https://www.governing.com/gov-data/safety-justice/police-officers-per-capita-rates-employment-for-city-departments.html')\n",
    "police_officers[2].to_csv(f'data/raw/police_officers_{data_cov}.csv')\n",
    "police_officers = police_officers[2]\n",
    "\n",
    "police_officers = pd.read_csv(f'data/raw/police_officers_{data_cov}.csv')"
   ]
  },
  {
   "cell_type": "code",
   "execution_count": 217,
   "metadata": {},
   "outputs": [
    {
     "name": "stderr",
     "output_type": "stream",
     "text": [
      "C:\\Users\\Leonardo\\Anaconda3\\lib\\site-packages\\ipykernel_launcher.py:4: SettingWithCopyWarning: \n",
      "A value is trying to be set on a copy of a slice from a DataFrame\n",
      "\n",
      "See the caveats in the documentation: https://pandas.pydata.org/pandas-docs/stable/user_guide/indexing.html#returning-a-view-versus-a-copy\n",
      "  after removing the cwd from sys.path.\n",
      "C:\\Users\\Leonardo\\Anaconda3\\lib\\site-packages\\ipykernel_launcher.py:5: SettingWithCopyWarning: \n",
      "A value is trying to be set on a copy of a slice from a DataFrame\n",
      "\n",
      "See the caveats in the documentation: https://pandas.pydata.org/pandas-docs/stable/user_guide/indexing.html#returning-a-view-versus-a-copy\n",
      "  \"\"\"\n",
      "C:\\Users\\Leonardo\\Anaconda3\\lib\\site-packages\\ipykernel_launcher.py:6: SettingWithCopyWarning: \n",
      "A value is trying to be set on a copy of a slice from a DataFrame\n",
      "\n",
      "See the caveats in the documentation: https://pandas.pydata.org/pandas-docs/stable/user_guide/indexing.html#returning-a-view-versus-a-copy\n",
      "  \n"
     ]
    }
   ],
   "source": [
    "# population by race for US cities\n",
    "# change race names to match fatal encounters\n",
    "pop_race[\"Location of death (city)\"] =  pop_race[\"City\"] + \", \" + pop_race[\"State Code\"]\n",
    "pop_race['Race'][pop_race['Race']=='Black or African-American'] = 'African-American/Black'\n",
    "pop_race['Race'][pop_race['Race']=='White'] = 'European-American/White'\n",
    "pop_race['Race'][pop_race['Race']=='Hispanic or Latino'] = 'Hispanic/Latino'\n",
    "\n",
    "# subset race data for black white hispanic only and population only\n",
    "pop_race = pop_race[pop_race['Race'].isin(['African-American/Black', 'European-American/White', 'Hispanic/Latino'])]\n",
    "pop_race = pop_race[['Location of death (city)', 'Count', 'Total Population', \"Race\"]]"
   ]
  },
  {
   "cell_type": "code",
   "execution_count": 218,
   "metadata": {},
   "outputs": [],
   "source": [
    "df = pd.read_csv(f'data/processed/fatal_encounters_cl_{data_cov}.csv')"
   ]
  },
  {
   "cell_type": "code",
   "execution_count": 13,
   "metadata": {},
   "outputs": [],
   "source": [
    "# spending on police by state\n",
    "spending = spending.replace({\"DC\":\"District Of Columbia\"})[~spending.State.str.contains(\"Data may be unavailable for some years\")]\n",
    "spending = pd.merge(state_abr.append({'name': 'United States', 'abbreviation': 'United States'}, ignore_index=True), spending, \n",
    "                    left_on='name', right_on='State', how='right')\n",
    "\n",
    "spending['police_exp'] = pd.to_numeric(spending['(E019) Police & Fire Protection-Dir Exp'].str[1:]) + pd.to_numeric(spending['(E087) Police Prot-Direct Exp'].str[1:]) + pd.to_numeric(spending['(E088) Police Prot-Cur Oper (E62)'].str[1:]) + pd.to_numeric(spending['(E089) Police Prot-Cap Outlay'].str[1:])\n",
    "spending = spending[['abbreviation', 'Year', 'police_exp']]\n",
    "# spending = spending.drop(columns=[\"name\", \"State\"])\n",
    "# spending['State'][spending['State']!= 'United States'] = spending['State'] + \", \" + spending['abbreviation']"
   ]
  },
  {
   "cell_type": "code",
   "execution_count": 219,
   "metadata": {},
   "outputs": [
    {
     "name": "stderr",
     "output_type": "stream",
     "text": [
      "C:\\Users\\Leonardo\\Anaconda3\\lib\\site-packages\\ipykernel_launcher.py:8: SettingWithCopyWarning: \n",
      "A value is trying to be set on a copy of a slice from a DataFrame\n",
      "\n",
      "See the caveats in the documentation: https://pandas.pydata.org/pandas-docs/stable/user_guide/indexing.html#returning-a-view-versus-a-copy\n",
      "  \n",
      "C:\\Users\\Leonardo\\Anaconda3\\lib\\site-packages\\ipykernel_launcher.py:9: SettingWithCopyWarning: \n",
      "A value is trying to be set on a copy of a slice from a DataFrame\n",
      "\n",
      "See the caveats in the documentation: https://pandas.pydata.org/pandas-docs/stable/user_guide/indexing.html#returning-a-view-versus-a-copy\n",
      "  if __name__ == '__main__':\n",
      "C:\\Users\\Leonardo\\Anaconda3\\lib\\site-packages\\ipykernel_launcher.py:13: SettingWithCopyWarning: \n",
      "A value is trying to be set on a copy of a slice from a DataFrame.\n",
      "Try using .loc[row_indexer,col_indexer] = value instead\n",
      "\n",
      "See the caveats in the documentation: https://pandas.pydata.org/pandas-docs/stable/user_guide/indexing.html#returning-a-view-versus-a-copy\n",
      "  del sys.path[0]\n"
     ]
    }
   ],
   "source": [
    "# compute majority party by city\n",
    "votes = votes[votes['year'] == 2016]\n",
    "votes['county'] = votes['county'] + \", \" + votes['state_po']\n",
    "votes = votes[['county', 'party', 'candidatevotes']].dropna()\n",
    "\n",
    "votes = votes.pivot_table(index = 'county', columns='party', values='candidatevotes').reset_index()\n",
    "votes['party'] = \"r\"\n",
    "votes['party'][votes['democrat']>votes['republican']] = 'blue'\n",
    "votes['party'][votes['democrat']<votes['republican']] = 'red'\n",
    "votes = votes[['county', 'party']].dropna()\n",
    "\n",
    "city_key = pop[['city', 'county_name', 'state_id']]\n",
    "city_key['city'], city_key['county_name'] = city_key[\"city\"] + \", \" + city_key[\"state_id\"], city_key[\"county_name\"] + \", \" + city_key[\"state_id\"]\n",
    "votes = pd.merge(votes, city_key, left_on='county', right_on='county_name', how='left')\n",
    "votes = votes[['city', 'party']].dropna()\n",
    "\n",
    "# police officers by city\n",
    "police_officers['State'] = police_officers['Police Department'].str.split(', ').str[1]\n",
    "police_officers['City'] = police_officers['Police Department'].str.split(', ').str[0]\n",
    "police_officers = pd.merge(police_officers, state_abr, left_on='State', right_on='name')\n",
    "police_officers['city'] = police_officers['City'] + \", \" + police_officers['abbreviation']\n",
    "police_officers = police_officers[['city', 'Total Employees']]\n",
    "\n",
    "df['Date (Year)'] = pd.to_datetime(df['Date of injury resulting in death (month/day/year)']).dt.year\n",
    "df = df[df['Date (Year)']<=2020]\n",
    "\n",
    "df = df[[\"Name\", \"Age\", \"Race\", \"Gender\", \n",
    "         \"Date of injury resulting in death (month/day/year)\", \n",
    "         \"Latitude\", \"Longitude\", \"Date (Year)\", \"Location of death (city)\", \"State\"]]"
   ]
  },
  {
   "cell_type": "code",
   "execution_count": 66,
   "metadata": {},
   "outputs": [],
   "source": [
    "# # group by everything, month\n",
    "# df['death_count'] = 1 \n",
    "\n",
    "# df['month'] = df['Date of injury resulting in death (month/day/year)'].str[:2]\n",
    "\n",
    "# df['month_year'] = df['month'].astype('str') + \"/\" + df['Date (Year)'].astype('str')\n",
    "\n",
    "# df = df.groupby(\"month_year\").agg(\n",
    "#     { \"Latitude\": \"mean\", \"Longitude\": \"mean\", \"death_count\": \"sum\", \"Date (Year)\": \"mean\"}).reset_index()"
   ]
  },
  {
   "cell_type": "code",
   "execution_count": 21,
   "metadata": {},
   "outputs": [],
   "source": [
    "# # group by race, month\n",
    "# df['death_count'] = 1 \n",
    "\n",
    "# df['month'] = df['Date of injury resulting in death (month/day/year)'].str[:2]\n",
    "\n",
    "# df['month_year'] = df['month'].astype('str') + \"/\" + df['Date (Year)'].astype('str')\n",
    "\n",
    "# df['Location of death (city)'] = df['Location of death (city)'].astype('str') + \" city\"\n",
    "\n",
    "# df_month = df.groupby([\"month_year\", \"Subject's race\"]).agg(\n",
    "#     { \"Latitude\": \"mean\", \"Longitude\": \"mean\", \"death_count\": \"sum\", \"Date (Year)\": \"mean\"}).reset_index()\n",
    "\n",
    "# df = df.groupby([\"Date (Year)\", \"Subject's race\"]).agg(\n",
    "#     { \"Latitude\": \"mean\", \"Longitude\": \"mean\", \"death_count\": \"sum\"}).reset_index()"
   ]
  },
  {
   "cell_type": "code",
   "execution_count": 220,
   "metadata": {},
   "outputs": [],
   "source": [
    "# group by race, month, county\n",
    "\n",
    "pop['city'] = pop['city'] + \", \" + pop['state_id']\n",
    "pop = pop[['city', 'population']]\n",
    "\n",
    "# pop_race['City'] = pop_race['City'] + \", \" + pop_race['State Code']\n",
    "# pop = pop_race[['City', 'Total Population']]\n",
    "# pop.columns = ['city', 'population']\n",
    "# pop = pop.groupby('city').mean().reset_index()\n",
    "\n",
    "df[\"Location of death (city)\"] = df[\"Location of death (city)\"] + \", \" + df[\"State\"]\n",
    "\n",
    "df = pd.merge(df, pop, left_on='Location of death (city)', right_on='city')\n",
    "\n",
    "police_officers = pd.merge(police_officers, pop, left_on='city', right_on='city')\n",
    "\n",
    "# df = df[df['population']!=0][df['population']>100000]\n",
    "\n",
    "df['death_count'] = 1 \n",
    "\n",
    "df['month'] = df['Date of injury resulting in death (month/day/year)'].str[:2]\n",
    "\n",
    "df['month_year'] = df['month'].astype('str') + \"/\" + df['Date (Year)'].astype('str')\n",
    "\n",
    "# to numeric\n",
    "df['Latitude'] = pd.to_numeric(df['Latitude'])\n",
    "df['Longitude'] = pd.to_numeric(df['Longitude'])\n",
    "df['death_count'] = pd.to_numeric(df['death_count'])\n",
    "df['Date (Year)'] = pd.to_numeric(df['Date (Year)'])\n",
    "\n",
    "df_month = df.groupby([\"month_year\", \"Race\", \"Location of death (city)\"]).agg(\n",
    "    { \"Latitude\": \"mean\", \"Longitude\": \"mean\", \"death_count\": \"sum\", \"Date (Year)\": \"mean\"}).reset_index()\n",
    "\n",
    "# Aggregated Line chart by race\n",
    "df_race = df.groupby([\"Date (Year)\", \"Race\", \"Location of death (city)\"]).agg(\n",
    "    { \"Latitude\": \"mean\", \"Longitude\": \"mean\", \"death_count\": \"sum\", \"population\": \"mean\"}).reset_index()\n",
    "\n",
    "df_race = df_race[df_race[\"Race\"].isin(['African-American/Black', 'Hispanic/Latino', 'European-American/White'])]\n",
    "\n",
    "df_race = pd.merge(df_race, pop_race,  how='inner', left_on=[\"Race\",'Location of death (city)'], right_on = ['Race','Location of death (city)'])\n",
    "\n",
    "df_race = df_race.drop(\"population\", axis = 1)\n",
    "# test[test['Location of death (city)']==\"Atlanta, GA\"]\n",
    "df_race_usa = df_race.groupby([\"Date (Year)\", \"Race\"]).agg(\n",
    "        {\"Latitude\": \"mean\", \"Longitude\": \"mean\", \"death_count\": \"sum\", \"Total Population\": \"mean\", \"Count\": \"sum\"}).reset_index()\n",
    "\n",
    "df_race_usa['Location of death (city)'] = \"National Total\"\n",
    "df_race = df_race.append(df_race_usa)\n",
    "\n",
    "df_race['death_hthou'] = df_race['death_count']/df_race['Count']*100000\n",
    "\n",
    "# city year only\n",
    "df = df.groupby([\"Date (Year)\", \"Location of death (city)\"]).agg(\n",
    "    { \"Latitude\": \"mean\", \"Longitude\": \"mean\", \"death_count\": \"sum\", \"population\": \"mean\"}).reset_index()\n",
    "\n",
    "# compute total for United States\n",
    "us_tot = df.groupby(\"Date (Year)\").agg(\n",
    "    { \"Latitude\": \"mean\", \"Longitude\": \"mean\", \"death_count\": \"sum\"}).reset_index()\n",
    "us_pop = us_pop.append(pd.DataFrame([['2020-01-01',331002651]], columns=['DATE', 'POPTOTUSA647NWDB']), ignore_index=True)\n",
    "us_tot['population'] = np.array(us_pop[us_pop['DATE']>'1999-01-01']['POPTOTUSA647NWDB'])\n",
    "us_tot['Location of death (city)'] = 'United States'\n",
    "\n",
    "# # compute total for United States by race\n",
    "# us_tot_race = df_race.groupby([\"Date (Year)\", \"Race\"]).agg(\n",
    "#     { \"Latitude\": \"mean\", \"Longitude\": \"mean\", \"death_count\": \"sum\"}).reset_index()\n",
    "# us_tot_race['population'] = np.append(np.array(us_pop[us_pop['DATE']>'1999-01-01']['POPTOTUSA647NWDB']), 0)\n",
    "# us_tot_race['Location of death (city)'] = 'United States'\n",
    "\n",
    "# police officers\n",
    "# df = pd.merge(df, police_officers, left_on='Location of death (city)', right_on='city')\n",
    "# df['population'] = df['population_x']\n",
    "# df = df.drop(columns=['population_x', 'population_y', 'city'])\n",
    "\n",
    "df = df.append(us_tot)\n",
    "# df_race = df_race.append(us_tot_race)\n",
    "\n",
    "df['death_hthou'] = df['death_count']/df['population']*100000\n",
    "# df_race['death_hthou'] = df_race['death_count']/df_race['population']*1000000\n",
    "police_officers['police_hthou'] = police_officers['Total Employees']/police_officers['population']*100000"
   ]
  },
  {
   "cell_type": "markdown",
   "metadata": {},
   "source": [
    "### City Spending vs Police deaths"
   ]
  },
  {
   "cell_type": "code",
   "execution_count": 139,
   "metadata": {},
   "outputs": [],
   "source": [
    "city_spending = pd.read_csv(\"data/raw/spending_city.csv\")"
   ]
  },
  {
   "cell_type": "code",
   "execution_count": 140,
   "metadata": {},
   "outputs": [],
   "source": [
    "city_spending['CITY $ PER RESIDENT FOR POLICE'] = pd.to_numeric(city_spending['CITY $ PER RESIDENT FOR POLICE'].str.strip(\"$\"))\n",
    "city_spending['PERCENT OF CITY FUNDS SPENT ON POLICING'] = pd.to_numeric(city_spending['PERCENT OF CITY FUNDS SPENT ON POLICING'].str.strip(\"%\"))/100\n",
    "city_spending['OVERALL POLICING BUDGET'] = city_spending['OVERALL POLICING BUDGET'].str.strip(\"$\").str.replace(\",\", \"\")"
   ]
  },
  {
   "cell_type": "code",
   "execution_count": 147,
   "metadata": {},
   "outputs": [],
   "source": [
    "city_spend_deaths = pd.merge(df, city_spending, left_on=\"Location of death (city)\", right_on=\"CITY\").drop(\"CITY\", axis=1)"
   ]
  },
  {
   "cell_type": "code",
   "execution_count": 122,
   "metadata": {},
   "outputs": [
    {
     "data": {
      "text/plain": [
       "<matplotlib.axes._subplots.AxesSubplot at 0x201366e2048>"
      ]
     },
     "execution_count": 122,
     "metadata": {},
     "output_type": "execute_result"
    },
    {
     "data": {
      "image/png": "[encoded data removed]",
      "text/plain": [
       "<Figure size 432x288 with 1 Axes>"
      ]
     },
     "metadata": {
      "needs_background": "light"
     },
     "output_type": "display_data"
    }
   ],
   "source": [
    "sns.scatterplot(data=city_spend_deaths[(city_spend_deaths['death_hthou']<4)&(city_spend_deaths['CITY $ PER RESIDENT FOR POLICE']<700)], x=\"death_hthou\", y=\"CITY $ PER RESIDENT FOR POLICE\")"
   ]
  },
  {
   "cell_type": "code",
   "execution_count": 120,
   "metadata": {},
   "outputs": [
    {
     "data": {
      "text/plain": [
       "<matplotlib.axes._subplots.AxesSubplot at 0x20136a77128>"
      ]
     },
     "execution_count": 120,
     "metadata": {},
     "output_type": "execute_result"
    },
    {
     "data": {
      "image/png": "[encoded data removed]",
      "text/plain": [
       "<Figure size 432x288 with 1 Axes>"
      ]
     },
     "metadata": {
      "needs_background": "light"
     },
     "output_type": "display_data"
    }
   ],
   "source": [
    "sns.scatterplot(data=city_spend_deaths[(city_spend_deaths['death_hthou']<4)&(city_spend_deaths['PERCENT OF CITY FUNDS SPENT ON POLICING']<0.5)], x=\"death_hthou\", y=\"PERCENT OF CITY FUNDS SPENT ON POLICING\")"
   ]
  },
  {
   "cell_type": "code",
   "execution_count": 146,
   "metadata": {},
   "outputs": [
    {
     "data": {
      "text/plain": [
       "<matplotlib.axes._subplots.AxesSubplot at 0x201373eaac8>"
      ]
     },
     "execution_count": 146,
     "metadata": {},
     "output_type": "execute_result"
    },
    {
     "data": {
      "image/png": "[encoded data removed]",
      "text/plain": [
       "<Figure size 432x288 with 1 Axes>"
      ]
     },
     "metadata": {
      "needs_background": "light"
     },
     "output_type": "display_data"
    }
   ],
   "source": [
    "sns.scatterplot(data=city_spend_deaths, x=\"death_count\", y=\"OVERALL POLICING BUDGET\")"
   ]
  },
  {
   "cell_type": "markdown",
   "metadata": {},
   "source": [
    "### Prepare data for deaths by race by city"
   ]
  },
  {
   "cell_type": "code",
   "execution_count": 92,
   "metadata": {},
   "outputs": [
    {
     "data": {
      "text/html": [
       "<div>\n",
       "<style scoped>\n",
       "    .dataframe tbody tr th:only-of-type {\n",
       "        vertical-align: middle;\n",
       "    }\n",
       "\n",
       "    .dataframe tbody tr th {\n",
       "        vertical-align: top;\n",
       "    }\n",
       "\n",
       "    .dataframe thead th {\n",
       "        text-align: right;\n",
       "    }\n",
       "</style>\n",
       "<table border=\"1\" class=\"dataframe\">\n",
       "  <thead>\n",
       "    <tr style=\"text-align: right;\">\n",
       "      <th></th>\n",
       "      <th>Date (Year)</th>\n",
       "      <th>Race</th>\n",
       "      <th>Location of death (city)</th>\n",
       "      <th>Latitude</th>\n",
       "      <th>Longitude</th>\n",
       "      <th>death_count</th>\n",
       "      <th>Count</th>\n",
       "      <th>Total Population</th>\n",
       "      <th>death_hthou</th>\n",
       "    </tr>\n",
       "  </thead>\n",
       "  <tbody>\n",
       "    <tr>\n",
       "      <th>0</th>\n",
       "      <td>2000</td>\n",
       "      <td>African-American/Black</td>\n",
       "      <td>Atlanta, GA</td>\n",
       "      <td>33.758454</td>\n",
       "      <td>-84.389228</td>\n",
       "      <td>2</td>\n",
       "      <td>245367</td>\n",
       "      <td>463875.000000</td>\n",
       "      <td>0.815106</td>\n",
       "    </tr>\n",
       "    <tr>\n",
       "      <th>1</th>\n",
       "      <td>2001</td>\n",
       "      <td>African-American/Black</td>\n",
       "      <td>Atlanta, GA</td>\n",
       "      <td>33.760775</td>\n",
       "      <td>-84.382842</td>\n",
       "      <td>2</td>\n",
       "      <td>245367</td>\n",
       "      <td>463875.000000</td>\n",
       "      <td>0.815106</td>\n",
       "    </tr>\n",
       "    <tr>\n",
       "      <th>2</th>\n",
       "      <td>2002</td>\n",
       "      <td>African-American/Black</td>\n",
       "      <td>Atlanta, GA</td>\n",
       "      <td>33.715428</td>\n",
       "      <td>-84.419019</td>\n",
       "      <td>2</td>\n",
       "      <td>245367</td>\n",
       "      <td>463875.000000</td>\n",
       "      <td>0.815106</td>\n",
       "    </tr>\n",
       "    <tr>\n",
       "      <th>3</th>\n",
       "      <td>2003</td>\n",
       "      <td>African-American/Black</td>\n",
       "      <td>Atlanta, GA</td>\n",
       "      <td>33.946915</td>\n",
       "      <td>-84.539537</td>\n",
       "      <td>1</td>\n",
       "      <td>245367</td>\n",
       "      <td>463875.000000</td>\n",
       "      <td>0.407553</td>\n",
       "    </tr>\n",
       "    <tr>\n",
       "      <th>4</th>\n",
       "      <td>2006</td>\n",
       "      <td>African-American/Black</td>\n",
       "      <td>Atlanta, GA</td>\n",
       "      <td>33.753291</td>\n",
       "      <td>-84.382133</td>\n",
       "      <td>2</td>\n",
       "      <td>245367</td>\n",
       "      <td>463875.000000</td>\n",
       "      <td>0.815106</td>\n",
       "    </tr>\n",
       "    <tr>\n",
       "      <th>...</th>\n",
       "      <td>...</td>\n",
       "      <td>...</td>\n",
       "      <td>...</td>\n",
       "      <td>...</td>\n",
       "      <td>...</td>\n",
       "      <td>...</td>\n",
       "      <td>...</td>\n",
       "      <td>...</td>\n",
       "      <td>...</td>\n",
       "    </tr>\n",
       "    <tr>\n",
       "      <th>58</th>\n",
       "      <td>2019</td>\n",
       "      <td>European-American/White</td>\n",
       "      <td>National Total</td>\n",
       "      <td>37.497761</td>\n",
       "      <td>-100.142884</td>\n",
       "      <td>222</td>\n",
       "      <td>31202172</td>\n",
       "      <td>336664.942857</td>\n",
       "      <td>0.711489</td>\n",
       "    </tr>\n",
       "    <tr>\n",
       "      <th>59</th>\n",
       "      <td>2019</td>\n",
       "      <td>Hispanic/Latino</td>\n",
       "      <td>National Total</td>\n",
       "      <td>35.362824</td>\n",
       "      <td>-104.216124</td>\n",
       "      <td>142</td>\n",
       "      <td>12588267</td>\n",
       "      <td>365928.348837</td>\n",
       "      <td>1.128035</td>\n",
       "    </tr>\n",
       "    <tr>\n",
       "      <th>60</th>\n",
       "      <td>2020</td>\n",
       "      <td>African-American/Black</td>\n",
       "      <td>National Total</td>\n",
       "      <td>36.585144</td>\n",
       "      <td>-93.114932</td>\n",
       "      <td>210</td>\n",
       "      <td>11040538</td>\n",
       "      <td>385608.518519</td>\n",
       "      <td>1.902081</td>\n",
       "    </tr>\n",
       "    <tr>\n",
       "      <th>61</th>\n",
       "      <td>2020</td>\n",
       "      <td>European-American/White</td>\n",
       "      <td>National Total</td>\n",
       "      <td>37.523533</td>\n",
       "      <td>-99.142116</td>\n",
       "      <td>169</td>\n",
       "      <td>24311059</td>\n",
       "      <td>282917.744000</td>\n",
       "      <td>0.695157</td>\n",
       "    </tr>\n",
       "    <tr>\n",
       "      <th>62</th>\n",
       "      <td>2020</td>\n",
       "      <td>Hispanic/Latino</td>\n",
       "      <td>National Total</td>\n",
       "      <td>35.898089</td>\n",
       "      <td>-106.948271</td>\n",
       "      <td>147</td>\n",
       "      <td>14776353</td>\n",
       "      <td>555567.611111</td>\n",
       "      <td>0.994833</td>\n",
       "    </tr>\n",
       "  </tbody>\n",
       "</table>\n",
       "<p>5720 rows × 9 columns</p>\n",
       "</div>"
      ],
      "text/plain": [
       "    Date (Year)                     Race Location of death (city)   Latitude  \\\n",
       "0          2000   African-American/Black              Atlanta, GA  33.758454   \n",
       "1          2001   African-American/Black              Atlanta, GA  33.760775   \n",
       "2          2002   African-American/Black              Atlanta, GA  33.715428   \n",
       "3          2003   African-American/Black              Atlanta, GA  33.946915   \n",
       "4          2006   African-American/Black              Atlanta, GA  33.753291   \n",
       "..          ...                      ...                      ...        ...   \n",
       "58         2019  European-American/White           National Total  37.497761   \n",
       "59         2019          Hispanic/Latino           National Total  35.362824   \n",
       "60         2020   African-American/Black           National Total  36.585144   \n",
       "61         2020  European-American/White           National Total  37.523533   \n",
       "62         2020          Hispanic/Latino           National Total  35.898089   \n",
       "\n",
       "     Longitude  death_count     Count  Total Population  death_hthou  \n",
       "0   -84.389228            2    245367     463875.000000     0.815106  \n",
       "1   -84.382842            2    245367     463875.000000     0.815106  \n",
       "2   -84.419019            2    245367     463875.000000     0.815106  \n",
       "3   -84.539537            1    245367     463875.000000     0.407553  \n",
       "4   -84.382133            2    245367     463875.000000     0.815106  \n",
       "..         ...          ...       ...               ...          ...  \n",
       "58 -100.142884          222  31202172     336664.942857     0.711489  \n",
       "59 -104.216124          142  12588267     365928.348837     1.128035  \n",
       "60  -93.114932          210  11040538     385608.518519     1.902081  \n",
       "61  -99.142116          169  24311059     282917.744000     0.695157  \n",
       "62 -106.948271          147  14776353     555567.611111     0.994833  \n",
       "\n",
       "[5720 rows x 9 columns]"
      ]
     },
     "execution_count": 92,
     "metadata": {},
     "output_type": "execute_result"
    }
   ],
   "source": [
    "df_race"
   ]
  },
  {
   "cell_type": "code",
   "execution_count": 203,
   "metadata": {},
   "outputs": [],
   "source": [
    "df_race = df_race.drop(['Latitude', 'Longitude', \"Count\"], axis=1)\n",
    "df_race.columns = ['date', 'race', 'city', 'death_count', 'race_pop', 'death_hthou']"
   ]
  },
  {
   "cell_type": "code",
   "execution_count": 204,
   "metadata": {},
   "outputs": [
    {
     "data": {
      "text/html": [
       "<div>\n",
       "<style scoped>\n",
       "    .dataframe tbody tr th:only-of-type {\n",
       "        vertical-align: middle;\n",
       "    }\n",
       "\n",
       "    .dataframe tbody tr th {\n",
       "        vertical-align: top;\n",
       "    }\n",
       "\n",
       "    .dataframe thead th {\n",
       "        text-align: right;\n",
       "    }\n",
       "</style>\n",
       "<table border=\"1\" class=\"dataframe\">\n",
       "  <thead>\n",
       "    <tr style=\"text-align: right;\">\n",
       "      <th></th>\n",
       "      <th>date</th>\n",
       "      <th>race</th>\n",
       "      <th>city</th>\n",
       "      <th>death_count</th>\n",
       "      <th>race_pop</th>\n",
       "      <th>death_hthou</th>\n",
       "    </tr>\n",
       "  </thead>\n",
       "  <tbody>\n",
       "    <tr>\n",
       "      <th>0</th>\n",
       "      <td>2000</td>\n",
       "      <td>African-American/Black</td>\n",
       "      <td>Atlanta, GA</td>\n",
       "      <td>2</td>\n",
       "      <td>463875.000000</td>\n",
       "      <td>0.815106</td>\n",
       "    </tr>\n",
       "    <tr>\n",
       "      <th>1</th>\n",
       "      <td>2001</td>\n",
       "      <td>African-American/Black</td>\n",
       "      <td>Atlanta, GA</td>\n",
       "      <td>2</td>\n",
       "      <td>463875.000000</td>\n",
       "      <td>0.815106</td>\n",
       "    </tr>\n",
       "    <tr>\n",
       "      <th>2</th>\n",
       "      <td>2002</td>\n",
       "      <td>African-American/Black</td>\n",
       "      <td>Atlanta, GA</td>\n",
       "      <td>2</td>\n",
       "      <td>463875.000000</td>\n",
       "      <td>0.815106</td>\n",
       "    </tr>\n",
       "    <tr>\n",
       "      <th>3</th>\n",
       "      <td>2003</td>\n",
       "      <td>African-American/Black</td>\n",
       "      <td>Atlanta, GA</td>\n",
       "      <td>1</td>\n",
       "      <td>463875.000000</td>\n",
       "      <td>0.407553</td>\n",
       "    </tr>\n",
       "    <tr>\n",
       "      <th>4</th>\n",
       "      <td>2006</td>\n",
       "      <td>African-American/Black</td>\n",
       "      <td>Atlanta, GA</td>\n",
       "      <td>2</td>\n",
       "      <td>463875.000000</td>\n",
       "      <td>0.815106</td>\n",
       "    </tr>\n",
       "    <tr>\n",
       "      <th>...</th>\n",
       "      <td>...</td>\n",
       "      <td>...</td>\n",
       "      <td>...</td>\n",
       "      <td>...</td>\n",
       "      <td>...</td>\n",
       "      <td>...</td>\n",
       "    </tr>\n",
       "    <tr>\n",
       "      <th>58</th>\n",
       "      <td>2019</td>\n",
       "      <td>European-American/White</td>\n",
       "      <td>National Total</td>\n",
       "      <td>222</td>\n",
       "      <td>336664.942857</td>\n",
       "      <td>0.711489</td>\n",
       "    </tr>\n",
       "    <tr>\n",
       "      <th>59</th>\n",
       "      <td>2019</td>\n",
       "      <td>Hispanic/Latino</td>\n",
       "      <td>National Total</td>\n",
       "      <td>142</td>\n",
       "      <td>365928.348837</td>\n",
       "      <td>1.128035</td>\n",
       "    </tr>\n",
       "    <tr>\n",
       "      <th>60</th>\n",
       "      <td>2020</td>\n",
       "      <td>African-American/Black</td>\n",
       "      <td>National Total</td>\n",
       "      <td>210</td>\n",
       "      <td>385608.518519</td>\n",
       "      <td>1.902081</td>\n",
       "    </tr>\n",
       "    <tr>\n",
       "      <th>61</th>\n",
       "      <td>2020</td>\n",
       "      <td>European-American/White</td>\n",
       "      <td>National Total</td>\n",
       "      <td>169</td>\n",
       "      <td>282917.744000</td>\n",
       "      <td>0.695157</td>\n",
       "    </tr>\n",
       "    <tr>\n",
       "      <th>62</th>\n",
       "      <td>2020</td>\n",
       "      <td>Hispanic/Latino</td>\n",
       "      <td>National Total</td>\n",
       "      <td>147</td>\n",
       "      <td>555567.611111</td>\n",
       "      <td>0.994833</td>\n",
       "    </tr>\n",
       "  </tbody>\n",
       "</table>\n",
       "<p>5720 rows × 6 columns</p>\n",
       "</div>"
      ],
      "text/plain": [
       "    date                     race            city  death_count       race_pop  \\\n",
       "0   2000   African-American/Black     Atlanta, GA            2  463875.000000   \n",
       "1   2001   African-American/Black     Atlanta, GA            2  463875.000000   \n",
       "2   2002   African-American/Black     Atlanta, GA            2  463875.000000   \n",
       "3   2003   African-American/Black     Atlanta, GA            1  463875.000000   \n",
       "4   2006   African-American/Black     Atlanta, GA            2  463875.000000   \n",
       "..   ...                      ...             ...          ...            ...   \n",
       "58  2019  European-American/White  National Total          222  336664.942857   \n",
       "59  2019          Hispanic/Latino  National Total          142  365928.348837   \n",
       "60  2020   African-American/Black  National Total          210  385608.518519   \n",
       "61  2020  European-American/White  National Total          169  282917.744000   \n",
       "62  2020          Hispanic/Latino  National Total          147  555567.611111   \n",
       "\n",
       "    death_hthou  \n",
       "0      0.815106  \n",
       "1      0.815106  \n",
       "2      0.815106  \n",
       "3      0.407553  \n",
       "4      0.815106  \n",
       "..          ...  \n",
       "58     0.711489  \n",
       "59     1.128035  \n",
       "60     1.902081  \n",
       "61     0.695157  \n",
       "62     0.994833  \n",
       "\n",
       "[5720 rows x 6 columns]"
      ]
     },
     "execution_count": 204,
     "metadata": {},
     "output_type": "execute_result"
    }
   ],
   "source": [
    "df_race"
   ]
  },
  {
   "cell_type": "code",
   "execution_count": 157,
   "metadata": {},
   "outputs": [],
   "source": [
    "test = df_race.pivot_table(index=['date', 'city'], columns='race',\n",
    "                           values='death_hthou').reset_index().rename(columns = {'African-American/Black': 'black', \n",
    "                                                                    'European-American/White': 'white', \n",
    "                                                                    'Hispanic/Latino': 'latino'}).sort_values(['city', 'date'])\n",
    "\n",
    "test['black'] = test['black'].interpolate()\n",
    "test['white'] = test['white'].interpolate()\n",
    "test['latino'] = test['latino'].interpolate()\n",
    "test.to_csv(f\"data/processed/deaths_by_race_city_year_{data_cov}.csv\")"
   ]
  },
  {
   "cell_type": "code",
   "execution_count": 373,
   "metadata": {},
   "outputs": [],
   "source": [
    "# df_race = df_race.pivot_table(index=['date', 'city'], columns='race',\n",
    "#                            values='death_hthou').reset_index().rename(columns = {'African-American/Black': 'black', \n",
    "#                                                                     'European-American/White': 'white', \n",
    "#                                                                     'Hispanic/Latino': 'latino'})\n",
    "\n",
    "# df_race.to_csv(\"data/deaths_by_race_city_year.csv\")"
   ]
  },
  {
   "cell_type": "markdown",
   "metadata": {},
   "source": [
    "### normalized map\n"
   ]
  },
  {
   "cell_type": "code",
   "execution_count": 205,
   "metadata": {},
   "outputs": [],
   "source": [
    "# add party\n",
    "df = pd.merge(df, votes, left_on='Location of death (city)', right_on='city', how='inner')#.drop('county', axis=1)"
   ]
  },
  {
   "cell_type": "code",
   "execution_count": 206,
   "metadata": {},
   "outputs": [],
   "source": [
    "# by year\n",
    "df[[\"Latitude\", \"Longitude\",\"death_count\", \"death_hthou\"]] = df[[\"Latitude\", \"Longitude\",\"death_count\", \"death_hthou\"]].apply(pd.to_numeric)\n",
    "\n",
    "\n",
    "df = df.groupby([\"Location of death (city)\", \"Date (Year)\", \"party\"]).agg(\n",
    "    { \"Latitude\": \"mean\", \"Longitude\": \"mean\", \"death_count\": \"sum\", \"death_hthou\": \"mean\", \"population\":\"mean\"}).reset_index()\n",
    "\n",
    "df.columns = [\"county\", \"date\", \"party\", \"Latitude\", \"Longitude\",\"death_count\", \"death_hthou\", \"population\"]"
   ]
  },
  {
   "cell_type": "code",
   "execution_count": 208,
   "metadata": {},
   "outputs": [],
   "source": [
    "df[df['county']!=\"United States\"].to_csv(f\"data/processed/citiesYearDeathsHT_party_n_{data_cov}.csv\")"
   ]
  },
  {
   "cell_type": "markdown",
   "metadata": {},
   "source": [
    "### Small Multiples"
   ]
  },
  {
   "cell_type": "code",
   "execution_count": 434,
   "metadata": {},
   "outputs": [],
   "source": [
    "# # for small multiples\n",
    "# df = df[df['Date (Year)'].isin([2000, 2010, 2019])].drop(['Latitude', 'Longitude'], axis=1).pivot(index = 'Location of death (city)', columns='Date (Year)', \n",
    "#          values='death_hthou').reset_index().rename(columns = {'Date (Year)': 'date', \n",
    "#                                                                     'Location of death (city)': 'county'}).dropna(subset=[2000, 2019])\n",
    "\n",
    "# # df = df.drop(['Latitude', 'Longitude'], axis=1).pivot(index = 'Location of death (city)', columns='Date (Year)', \n",
    "# #          values='death_hthou').reset_index().rename(columns = {'Date (Year)': 'date', \n",
    "# #                                                                     'Location of death (city)': 'county'}).dropna(subset=[2000, 2019])\n",
    "\n",
    "# df['change'] = df[2019] - df[2000]\n",
    "# df['%_change'] = ((df[2019] - df[2000])/df[2000])*100\n",
    "\n",
    "\n",
    "# ## Sort by % change\n",
    "# df_most = df.sort_values('%_change', ascending=False).head(20).append(df[df['county']=='United States'])\n",
    "# df_least = df.sort_values('%_change', ascending=True).head(20).append(df[df['county']=='United States'])\n",
    "\n",
    "# # Sort by number of Officers\n",
    "\n",
    "# df_most = pd.melt(df_most, id_vars = ['county', '%_change'], value_vars=[2000, 2010, 2019]).rename(columns = {'county': 'city', \n",
    "#                                                                     'Date (Year)': 'year'})\n",
    "\n",
    "# df_least = pd.melt(df_least, id_vars = ['county', '%_change'], value_vars=[2000, 2010, 2019]).rename(columns = {'county': 'city', \n",
    "#                                                                     'Date (Year)': 'year'})\n",
    "\n",
    "\n",
    "\n",
    "# df_most.to_csv('deaths_by_city_sm_most.csv')\n",
    "# df_least.to_csv('deaths_by_city_sm_least.csv')"
   ]
  },
  {
   "cell_type": "markdown",
   "metadata": {},
   "source": [
    "### Pick Up Here!"
   ]
  },
  {
   "cell_type": "markdown",
   "metadata": {},
   "source": [
    "### Police officers by City"
   ]
  },
  {
   "cell_type": "code",
   "execution_count": 221,
   "metadata": {},
   "outputs": [],
   "source": [
    "# years = [2000, 2010, 2020] #[2000, 2010, 2019] #np.arange(2000, 2020)\n",
    "years = list(np.arange(2000, 2021, 1))\n",
    "chart_wanted = \"SM\" # SM for small multiples and SC for scatter\n",
    "\n",
    "# for scatter plot and small multiples by police officers\n",
    "df = df[df['Date (Year)'].isin(years)].drop(['Latitude', 'Longitude'], axis=1).pivot(index = 'Location of death (city)', columns='Date (Year)', \n",
    "         values='death_hthou').reset_index().rename(columns = {'Date (Year)': 'date', \n",
    "                                                                    'Location of death (city)': 'county'}).dropna(subset=[2000])\n",
    "\n",
    "# df = df.drop(['Latitude', 'Longitude'], axis=1).pivot(index = 'Location of death (city)', columns='Date (Year)', \n",
    "#          values='death_hthou').reset_index().rename(columns = {'Date (Year)': 'date', \n",
    "#                                                                     'Location of death (city)': 'county'}).dropna(subset=[2000, 2019])\n",
    "\n",
    "df['change'] = df[years[-1]] - df[years[0]]\n",
    "df['%_change'] = ((df[years[-1]] - df[years[0]])/df[years[0]])*100\n",
    "\n",
    "if chart_wanted == \"SC\":\n",
    "    df = pd.merge(df, police_officers, left_on='county', right_on='city').drop('city', axis=1).append(df[df['county']=='United States'])\n",
    "\n",
    "    df = df[df['county']!='Newark, NJ']\n",
    "\n",
    "## Sort by % change\n",
    "    df_most = df.sort_values('police_hthou', ascending=False).head(20).append(df[df['county']=='United States'])\n",
    "    df_least = df.sort_values('police_hthou', ascending=True).head(20).append(df[df['county']=='United States'])\n",
    "\n",
    "    df_most = pd.melt(df_most, id_vars = ['county', '%_change'], value_vars=years).rename(columns = {'county': 'city', \n",
    "                                                                        'variable': 'year'})\n",
    "\n",
    "    df_least = pd.melt(df_least, id_vars = ['county', '%_change'], value_vars=years).rename(columns = {'county': 'city', \n",
    "                                                                        'variable': 'year'})\n",
    "\n",
    "# df.columns = df.columns.astype('str')\n",
    "\n",
    "# party\n",
    "df_votes = pd.merge(df, votes, left_on='county', right_on='city', how='inner')#.drop('county', axis=1)\n",
    "\n",
    "if chart_wanted == \"SM\":\n",
    "    df_party = pd.merge(df_votes, pop, on='city')\n",
    "    df_red = df_party[df_party['party']=='red'].sort_values('population', ascending=False).dropna(subset=[2000,2020]).head(20)\n",
    "    df_blue = df_party[df_party['party']=='blue'].sort_values('population', ascending=False).dropna(subset=[2000,2020]).head(20)\n",
    "    df_party = df_red.append(df_blue).sort_values('population', ascending=False).drop('population', axis = 1)\n",
    "    \n",
    "    # sort by party\n",
    "    df = df.rename(columns={\"county\": \"city\"})\n",
    "    df_party = pd.melt(df_party.append(df[df['city']=='United States']), id_vars = ['city', '%_change', 'party'], \n",
    "                                       value_vars=years).rename(columns = {'city': 'city','variable': 'year'})\n",
    "\n",
    "\n",
    "df_votes = df_votes.drop('county', axis=1)\n",
    "# df_votes.columns = ['d_2000', 'd_2010', 'd_2020', 'change', '%_change', 'Total Employees', 'population', 'police_hthou', 'city', 'party']\n",
    "df_votes.columns = ['d_2000', 'd_2001','d_2002','d_2003','d_2004','d_2005','d_2006','d_2007','d_2008', 'd_2009', \n",
    "                    'd_2010','d_2011','d_2012','d_2013','d_2014','d_2015','d_2016','d_2017','d_2018','d_2019', \n",
    "                    'd_2020', 'change', '%_change', 'Total Employees', 'population', 'police_hthou', 'city', 'party']\n",
    "\n",
    "# df_votes.to_csv('deaths_vs_officers.csv')\n",
    "# df_most.to_csv('deaths_by_city_sm_mostp_ty.csv')\n",
    "# df_least.to_csv('deaths_by_city_sm_leastp_line_ty.csv')\n",
    "# df_party.to_csv('death_by_city_party.csv')"
   ]
  },
  {
   "cell_type": "code",
   "execution_count": 130,
   "metadata": {},
   "outputs": [],
   "source": [
    "df_votes.to_csv(f'data/processed/deaths_vs_officers_20years_{data_cov}.csv')"
   ]
  },
  {
   "cell_type": "code",
   "execution_count": 223,
   "metadata": {},
   "outputs": [],
   "source": [
    "df_party.to_csv(f'data/processed/death_by_city_party_{data_cov}.csv')"
   ]
  },
  {
   "cell_type": "code",
   "execution_count": 9,
   "metadata": {},
   "outputs": [],
   "source": [
    "# df_party = pd.merge(df_votes, pop, on='city')\n",
    "# df_red = df_party[df_party['party']=='red'].sort_values('population', ascending=False).dropna().head(10)\n",
    "# df_blue = df_party[df_party['party']=='blue'].sort_values('population', ascending=False).dropna().head(10)\n",
    "# df_party = df_red.append(df_blue).sort_values('population', ascending=False).drop('population', axis = 1)\n"
   ]
  },
  {
   "cell_type": "markdown",
   "metadata": {},
   "source": [
    "### Aggregated party over time"
   ]
  },
  {
   "cell_type": "code",
   "execution_count": 231,
   "metadata": {},
   "outputs": [
    {
     "data": {
      "text/plain": [
       "<matplotlib.axes._subplots.AxesSubplot at 0x20136578d30>"
      ]
     },
     "execution_count": 231,
     "metadata": {},
     "output_type": "execute_result"
    },
    {
     "data": {
      "image/png": "[encoded data removed]",
      "text/plain": [
       "<Figure size 432x288 with 1 Axes>"
      ]
     },
     "metadata": {
      "needs_background": "light"
     },
     "output_type": "display_data"
    }
   ],
   "source": [
    "import seaborn as sns\n",
    "df_party_agg = df_party.groupby(['year', 'party']).mean().reset_index()\n",
    "sns.lineplot(data = df_party, x = 'year', y='value', hue='party')"
   ]
  },
  {
   "cell_type": "code",
   "execution_count": 232,
   "metadata": {},
   "outputs": [],
   "source": [
    "df_party_agg = df_party_agg.pivot(index = 'year', columns='party', \n",
    "         values='value').reset_index()\n",
    "\n",
    "df_party_agg.to_csv(f'data/processed/death_by_city_party_agg_{data_cov}.csv')"
   ]
  },
  {
   "cell_type": "code",
   "execution_count": 233,
   "metadata": {},
   "outputs": [
    {
     "data": {
      "text/html": [
       "<div>\n",
       "<style scoped>\n",
       "    .dataframe tbody tr th:only-of-type {\n",
       "        vertical-align: middle;\n",
       "    }\n",
       "\n",
       "    .dataframe tbody tr th {\n",
       "        vertical-align: top;\n",
       "    }\n",
       "\n",
       "    .dataframe thead th {\n",
       "        text-align: right;\n",
       "    }\n",
       "</style>\n",
       "<table border=\"1\" class=\"dataframe\">\n",
       "  <thead>\n",
       "    <tr style=\"text-align: right;\">\n",
       "      <th>party</th>\n",
       "      <th>year</th>\n",
       "      <th>blue</th>\n",
       "      <th>red</th>\n",
       "    </tr>\n",
       "  </thead>\n",
       "  <tbody>\n",
       "    <tr>\n",
       "      <th>0</th>\n",
       "      <td>2000</td>\n",
       "      <td>0.173701</td>\n",
       "      <td>0.405434</td>\n",
       "    </tr>\n",
       "    <tr>\n",
       "      <th>1</th>\n",
       "      <td>2001</td>\n",
       "      <td>0.170424</td>\n",
       "      <td>0.431629</td>\n",
       "    </tr>\n",
       "    <tr>\n",
       "      <th>2</th>\n",
       "      <td>2002</td>\n",
       "      <td>0.160849</td>\n",
       "      <td>0.397974</td>\n",
       "    </tr>\n",
       "    <tr>\n",
       "      <th>3</th>\n",
       "      <td>2003</td>\n",
       "      <td>0.185224</td>\n",
       "      <td>0.463922</td>\n",
       "    </tr>\n",
       "    <tr>\n",
       "      <th>4</th>\n",
       "      <td>2004</td>\n",
       "      <td>0.159002</td>\n",
       "      <td>0.740310</td>\n",
       "    </tr>\n",
       "    <tr>\n",
       "      <th>5</th>\n",
       "      <td>2005</td>\n",
       "      <td>0.177213</td>\n",
       "      <td>0.550806</td>\n",
       "    </tr>\n",
       "    <tr>\n",
       "      <th>6</th>\n",
       "      <td>2006</td>\n",
       "      <td>0.204830</td>\n",
       "      <td>0.451683</td>\n",
       "    </tr>\n",
       "    <tr>\n",
       "      <th>7</th>\n",
       "      <td>2007</td>\n",
       "      <td>0.237609</td>\n",
       "      <td>0.487461</td>\n",
       "    </tr>\n",
       "    <tr>\n",
       "      <th>8</th>\n",
       "      <td>2008</td>\n",
       "      <td>0.215841</td>\n",
       "      <td>0.543656</td>\n",
       "    </tr>\n",
       "    <tr>\n",
       "      <th>9</th>\n",
       "      <td>2009</td>\n",
       "      <td>0.200450</td>\n",
       "      <td>0.674025</td>\n",
       "    </tr>\n",
       "    <tr>\n",
       "      <th>10</th>\n",
       "      <td>2010</td>\n",
       "      <td>0.206521</td>\n",
       "      <td>0.559424</td>\n",
       "    </tr>\n",
       "    <tr>\n",
       "      <th>11</th>\n",
       "      <td>2011</td>\n",
       "      <td>0.189397</td>\n",
       "      <td>0.709008</td>\n",
       "    </tr>\n",
       "    <tr>\n",
       "      <th>12</th>\n",
       "      <td>2012</td>\n",
       "      <td>0.227072</td>\n",
       "      <td>0.520101</td>\n",
       "    </tr>\n",
       "    <tr>\n",
       "      <th>13</th>\n",
       "      <td>2013</td>\n",
       "      <td>0.257685</td>\n",
       "      <td>0.879350</td>\n",
       "    </tr>\n",
       "    <tr>\n",
       "      <th>14</th>\n",
       "      <td>2014</td>\n",
       "      <td>0.233338</td>\n",
       "      <td>0.659636</td>\n",
       "    </tr>\n",
       "    <tr>\n",
       "      <th>15</th>\n",
       "      <td>2015</td>\n",
       "      <td>0.195676</td>\n",
       "      <td>0.696568</td>\n",
       "    </tr>\n",
       "    <tr>\n",
       "      <th>16</th>\n",
       "      <td>2016</td>\n",
       "      <td>0.180617</td>\n",
       "      <td>0.690623</td>\n",
       "    </tr>\n",
       "    <tr>\n",
       "      <th>17</th>\n",
       "      <td>2017</td>\n",
       "      <td>0.186738</td>\n",
       "      <td>0.848956</td>\n",
       "    </tr>\n",
       "    <tr>\n",
       "      <th>18</th>\n",
       "      <td>2018</td>\n",
       "      <td>0.206612</td>\n",
       "      <td>0.675660</td>\n",
       "    </tr>\n",
       "    <tr>\n",
       "      <th>19</th>\n",
       "      <td>2019</td>\n",
       "      <td>0.197223</td>\n",
       "      <td>0.831009</td>\n",
       "    </tr>\n",
       "    <tr>\n",
       "      <th>20</th>\n",
       "      <td>2020</td>\n",
       "      <td>0.238149</td>\n",
       "      <td>0.983365</td>\n",
       "    </tr>\n",
       "  </tbody>\n",
       "</table>\n",
       "</div>"
      ],
      "text/plain": [
       "party  year      blue       red\n",
       "0      2000  0.173701  0.405434\n",
       "1      2001  0.170424  0.431629\n",
       "2      2002  0.160849  0.397974\n",
       "3      2003  0.185224  0.463922\n",
       "4      2004  0.159002  0.740310\n",
       "5      2005  0.177213  0.550806\n",
       "6      2006  0.204830  0.451683\n",
       "7      2007  0.237609  0.487461\n",
       "8      2008  0.215841  0.543656\n",
       "9      2009  0.200450  0.674025\n",
       "10     2010  0.206521  0.559424\n",
       "11     2011  0.189397  0.709008\n",
       "12     2012  0.227072  0.520101\n",
       "13     2013  0.257685  0.879350\n",
       "14     2014  0.233338  0.659636\n",
       "15     2015  0.195676  0.696568\n",
       "16     2016  0.180617  0.690623\n",
       "17     2017  0.186738  0.848956\n",
       "18     2018  0.206612  0.675660\n",
       "19     2019  0.197223  0.831009\n",
       "20     2020  0.238149  0.983365"
      ]
     },
     "execution_count": 233,
     "metadata": {},
     "output_type": "execute_result"
    }
   ],
   "source": [
    "df_party_agg"
   ]
  },
  {
   "cell_type": "markdown",
   "metadata": {},
   "source": [
    "### Per Capita Police Spending by City"
   ]
  },
  {
   "cell_type": "code",
   "execution_count": 422,
   "metadata": {},
   "outputs": [],
   "source": [
    "df['state'] = df['city'].str.split(', ').str[1]\n",
    "\n",
    "df = pd.merge(df, spending[spending['Year']=='2017'], left_on='state', right_on='abbreviation').drop(['Year', 'abbreviation'], axis=1)"
   ]
  },
  {
   "cell_type": "code",
   "execution_count": 434,
   "metadata": {},
   "outputs": [
    {
     "data": {
      "text/plain": [
       "<matplotlib.axes._subplots.AxesSubplot at 0x1502b1adb70>"
      ]
     },
     "execution_count": 434,
     "metadata": {},
     "output_type": "execute_result"
    },
    {
     "data": {
      "image/png": "[encoded data removed]",
      "text/plain": [
       "<Figure size 432x288 with 1 Axes>"
      ]
     },
     "metadata": {
      "needs_background": "light"
     },
     "output_type": "display_data"
    }
   ],
   "source": [
    "import seaborn as sns\n",
    "sns.regplot(data = df, x='police_exp', y='d_2000')"
   ]
  },
  {
   "cell_type": "code",
   "execution_count": 60,
   "metadata": {},
   "outputs": [
    {
     "data": {
      "text/plain": [
       "<matplotlib.axes._subplots.AxesSubplot at 0x2572d170828>"
      ]
     },
     "execution_count": 60,
     "metadata": {},
     "output_type": "execute_result"
    },
    {
     "data": {
      "image/png": "[encoded data removed]",
      "text/plain": [
       "<Figure size 432x288 with 1 Axes>"
      ]
     },
     "metadata": {
      "needs_background": "light"
     },
     "output_type": "display_data"
    }
   ],
   "source": [
    "import seaborn as sns\n",
    "sns.regplot(data = df[df['county']!='Newark, NJ'], x='police_hthou', y=df[2019])"
   ]
  },
  {
   "cell_type": "code",
   "execution_count": 315,
   "metadata": {},
   "outputs": [],
   "source": [
    "# for small multiples all data points\n",
    "# df = df[df['Date (Year)'].isin([2000, 2010, 2019])].drop(['Latitude', 'Longitude'], axis=1).pivot(index = 'Location of death (city)', columns='Date (Year)', \n",
    "#          values='death_hthou').reset_index().rename(columns = {'Date (Year)': 'date', \n",
    "#                                                                     'Location of death (city)': 'county'}).dropna()\n",
    "\n",
    "df = df.drop(['Latitude', 'Longitude'], axis=1).pivot(index = 'Location of death (city)', columns='Date (Year)', \n",
    "         values='death_hthou').reset_index().rename(columns = {'Date (Year)': 'date', \n",
    "                                                                    'Location of death (city)': 'county'}).dropna(subset=[2000, 2019])\n",
    "\n",
    "df['change'] = df[2019] - df[2000]\n",
    "df['%_change'] = ((df[2019] - df[2000])/df[2000])*100\n",
    "\n",
    "df_most = df.sort_values('%_change', ascending=False).head(20).append(df[df['county']=='United States'])\n",
    "df_least = df.sort_values('%_change', ascending=True).head(20).append(df[df['county']=='United States'])\n",
    "\n",
    "# df_most = pd.melt(df_most, id_vars = ['county', '%_change'], value_vars=list(np.arange(2000, 2020))).rename(columns = {'county': 'city', \n",
    "#                                                                     'Date (Year)': 'year'})\n",
    "\n",
    "# df_least = pd.melt(df_least, id_vars = ['county', '%_change'], value_vars=list(np.arange(2000, 2020))).rename(columns = {'county': 'city', \n",
    "#                                                                     'Date (Year)': 'year'})\n",
    "\n",
    "# df_most.to_csv('deaths_by_city_sm_most.csv')\n",
    "# df_least.to_csv('deaths_by_city_sm_least.csv')"
   ]
  },
  {
   "cell_type": "code",
   "execution_count": 8,
   "metadata": {},
   "outputs": [],
   "source": [
    "# for scatter plot and small multiples by police officers all data points\n",
    "df = df.drop(['Latitude', 'Longitude'], axis=1).pivot(index = 'Location of death (city)', columns='Date (Year)', \n",
    "         values='death_hthou').reset_index().rename(columns = {'Date (Year)': 'date', \n",
    "                                                                    'Location of death (city)': 'county'}).dropna(subset=[2000, 2019])\n",
    "\n",
    "# df = df.drop(['Latitude', 'Longitude'], axis=1).pivot(index = 'Location of death (city)', columns='Date (Year)', \n",
    "#          values='death_hthou').reset_index().rename(columns = {'Date (Year)': 'date', \n",
    "#                                                                     'Location of death (city)': 'county'}).dropna(subset=[2000, 2019])\n",
    "\n",
    "df['change'] = df[2019] - df[2000]\n",
    "df['%_change'] = ((df[2019] - df[2000])/df[2000])*100\n",
    "\n",
    "df = pd.merge(df, police_officers, left_on='county', right_on='city').drop('city', axis=1).append(df[df['county']=='United States'])\n",
    "\n",
    "df = df[df['county']!='Newark, NJ']\n",
    "df = df[df['county']!='Bakersfield, CA']\n",
    "\n",
    "## Sort by % change\n",
    "df_most = df.sort_values('police_hthou', ascending=False).head(20).append(df[df['county']=='United States'])\n",
    "df_least = df.sort_values('police_hthou', ascending=True).head(20).append(df[df['county']=='United States'])\n",
    "\n",
    "# Sort by number of Officers\n",
    "\n",
    "df_most = pd.melt(df_most, id_vars = ['county', '%_change'], value_vars=list(np.arange(2000, 2020))).rename(columns = {'county': 'city', \n",
    "                                                                    'variable': 'year'})\n",
    "\n",
    "df_least = pd.melt(df_least, id_vars = ['county', '%_change'], value_vars=list(np.arange(2000, 2020))).rename(columns = {'county': 'city', \n",
    "                                                                    'variable': 'year'})\n",
    "\n",
    "df.columns = ['']\n",
    "\n",
    "df.to_csv('deaths_vs_officers.csv')\n",
    "# df_most.to_csv('deaths_by_city_sm_mostp_all.csv')\n",
    "# df_least.to_csv('deaths_by_city_sm_leastp_all.csv')"
   ]
  },
  {
   "cell_type": "code",
   "execution_count": null,
   "metadata": {},
   "outputs": [],
   "source": []
  },
  {
   "cell_type": "code",
   "execution_count": null,
   "metadata": {},
   "outputs": [],
   "source": []
  },
  {
   "cell_type": "code",
   "execution_count": null,
   "metadata": {},
   "outputs": [],
   "source": []
  },
  {
   "cell_type": "code",
   "execution_count": null,
   "metadata": {},
   "outputs": [],
   "source": []
  },
  {
   "cell_type": "code",
   "execution_count": null,
   "metadata": {},
   "outputs": [],
   "source": []
  },
  {
   "cell_type": "code",
   "execution_count": null,
   "metadata": {},
   "outputs": [],
   "source": []
  },
  {
   "cell_type": "code",
   "execution_count": null,
   "metadata": {},
   "outputs": [],
   "source": []
  },
  {
   "cell_type": "code",
   "execution_count": null,
   "metadata": {},
   "outputs": [],
   "source": []
  },
  {
   "cell_type": "code",
   "execution_count": null,
   "metadata": {},
   "outputs": [],
   "source": []
  },
  {
   "cell_type": "code",
   "execution_count": null,
   "metadata": {},
   "outputs": [],
   "source": []
  },
  {
   "cell_type": "code",
   "execution_count": null,
   "metadata": {},
   "outputs": [],
   "source": []
  },
  {
   "cell_type": "code",
   "execution_count": null,
   "metadata": {},
   "outputs": [],
   "source": []
  },
  {
   "cell_type": "code",
   "execution_count": null,
   "metadata": {},
   "outputs": [],
   "source": []
  },
  {
   "cell_type": "code",
   "execution_count": 22,
   "metadata": {},
   "outputs": [],
   "source": [
    "df[\"Race\"].unique()\n",
    "df = df[df[\"Race\"].isin(['African-American/Black', 'Hispanic/Latino', 'European-American/White'])]\n",
    "\n",
    "df_month[\"Race\"].unique()\n",
    "df_month = df_month[df_month[\"Race\"].isin(['African-American/Black', 'Hispanic/Latino', 'European-American/White'])]"
   ]
  },
  {
   "cell_type": "code",
   "execution_count": 23,
   "metadata": {},
   "outputs": [],
   "source": [
    "# df['race_pop'][df[\"Race\"]==\"African-American/Black\"][df[\"Date (Year)\"]==2000]\n",
    "# df['race_pop'][df[\"Race\"]==\"African-American/Black\"][df[\"Date (Year)\"]==2000]\n",
    "# df['race_pop'][df[\"Race\"]==\"African-American/Black\"][df[\"Date (Year)\"]==2000]"
   ]
  },
  {
   "cell_type": "code",
   "execution_count": 25,
   "metadata": {},
   "outputs": [],
   "source": [
    "import seaborn as sns\n",
    "# df['month_year'] = pd.to_datetime(df['month_year']) \n",
    "df['race_pop'] = 0\n",
    "\n",
    "df['race_pop'][df[\"Race\"]==\"African-American/Black\"] = 44080000\n",
    "df['race_pop'][df[\"Race\"]=='European-American/White'] = 250520000\n",
    "df['race_pop'][df[\"Race\"]=='Hispanic/Latino'] = 52000000\n",
    "\n",
    "df_month['race_pop'] = 0\n",
    "\n",
    "df_month['race_pop'][df_month[\"Race\"]==\"African-American/Black\"] = 44080000\n",
    "df_month['race_pop'][df_month[\"Race\"]=='European-American/White'] = 250520000\n",
    "df_month['race_pop'][df_month[\"Race\"]=='Hispanic/Latino'] = 52000000"
   ]
  },
  {
   "cell_type": "code",
   "execution_count": 30,
   "metadata": {},
   "outputs": [],
   "source": [
    "df['deaths_hThousands'] = df['death_count']/df['race_pop']*1000000\n",
    "df = df[df[\"Date (Year)\"]<2020]\n",
    "df['pop_prop'] = df['race_pop']/328200000\n",
    "df.columns = [\"date\", \"race\", 'Latitude', 'Longitude', 'death_count', 'race_pop', 'deaths_thousands', 'pop_prop']\n",
    "df = df[[\"date\", \"race\", 'death_count', 'race_pop', 'deaths_thousands', 'pop_prop']]\n",
    "\n",
    "df_month['deaths_hThousands'] = df_month['death_count']/df_month['race_pop']*1000000\n",
    "df_month = df_month[df_month[\"Date (Year)\"]<2020]\n",
    "df_month['pop_prop'] = df_month['race_pop']/328200000\n",
    "df_month = df_month.drop('Date (Year)', axis=1)\n",
    "df_month.columns = [\"date\", \"race\", 'Latitude', 'Longitude', 'death_count', 'race_pop', 'deaths_thousands', 'pop_prop']\n",
    "df_month = df_month[[\"date\", \"race\", 'death_count', 'race_pop', 'deaths_thousands', 'pop_prop']]"
   ]
  },
  {
   "cell_type": "code",
   "execution_count": 31,
   "metadata": {},
   "outputs": [
    {
     "data": {
      "text/html": [
       "<div>\n",
       "<style scoped>\n",
       "    .dataframe tbody tr th:only-of-type {\n",
       "        vertical-align: middle;\n",
       "    }\n",
       "\n",
       "    .dataframe tbody tr th {\n",
       "        vertical-align: top;\n",
       "    }\n",
       "\n",
       "    .dataframe thead th {\n",
       "        text-align: right;\n",
       "    }\n",
       "</style>\n",
       "<table border=\"1\" class=\"dataframe\">\n",
       "  <thead>\n",
       "    <tr style=\"text-align: right;\">\n",
       "      <th></th>\n",
       "      <th>date</th>\n",
       "      <th>race</th>\n",
       "      <th>death_count</th>\n",
       "      <th>race_pop</th>\n",
       "      <th>deaths_thousands</th>\n",
       "      <th>pop_prop</th>\n",
       "    </tr>\n",
       "  </thead>\n",
       "  <tbody>\n",
       "    <tr>\n",
       "      <th>0</th>\n",
       "      <td>01/2000</td>\n",
       "      <td>African-American/Black</td>\n",
       "      <td>13</td>\n",
       "      <td>44080000</td>\n",
       "      <td>0.294918</td>\n",
       "      <td>0.134308</td>\n",
       "    </tr>\n",
       "    <tr>\n",
       "      <th>2</th>\n",
       "      <td>01/2000</td>\n",
       "      <td>European-American/White</td>\n",
       "      <td>16</td>\n",
       "      <td>250520000</td>\n",
       "      <td>0.063867</td>\n",
       "      <td>0.763315</td>\n",
       "    </tr>\n",
       "    <tr>\n",
       "      <th>3</th>\n",
       "      <td>01/2000</td>\n",
       "      <td>Hispanic/Latino</td>\n",
       "      <td>5</td>\n",
       "      <td>52000000</td>\n",
       "      <td>0.096154</td>\n",
       "      <td>0.158440</td>\n",
       "    </tr>\n",
       "    <tr>\n",
       "      <th>6</th>\n",
       "      <td>01/2001</td>\n",
       "      <td>African-American/Black</td>\n",
       "      <td>8</td>\n",
       "      <td>44080000</td>\n",
       "      <td>0.181488</td>\n",
       "      <td>0.134308</td>\n",
       "    </tr>\n",
       "    <tr>\n",
       "      <th>8</th>\n",
       "      <td>01/2001</td>\n",
       "      <td>European-American/White</td>\n",
       "      <td>6</td>\n",
       "      <td>250520000</td>\n",
       "      <td>0.023950</td>\n",
       "      <td>0.763315</td>\n",
       "    </tr>\n",
       "    <tr>\n",
       "      <th>...</th>\n",
       "      <td>...</td>\n",
       "      <td>...</td>\n",
       "      <td>...</td>\n",
       "      <td>...</td>\n",
       "      <td>...</td>\n",
       "      <td>...</td>\n",
       "    </tr>\n",
       "    <tr>\n",
       "      <th>1364</th>\n",
       "      <td>12/2018</td>\n",
       "      <td>European-American/White</td>\n",
       "      <td>51</td>\n",
       "      <td>250520000</td>\n",
       "      <td>0.203577</td>\n",
       "      <td>0.763315</td>\n",
       "    </tr>\n",
       "    <tr>\n",
       "      <th>1365</th>\n",
       "      <td>12/2018</td>\n",
       "      <td>Hispanic/Latino</td>\n",
       "      <td>24</td>\n",
       "      <td>52000000</td>\n",
       "      <td>0.461538</td>\n",
       "      <td>0.158440</td>\n",
       "    </tr>\n",
       "    <tr>\n",
       "      <th>1368</th>\n",
       "      <td>12/2019</td>\n",
       "      <td>African-American/Black</td>\n",
       "      <td>42</td>\n",
       "      <td>44080000</td>\n",
       "      <td>0.952813</td>\n",
       "      <td>0.134308</td>\n",
       "    </tr>\n",
       "    <tr>\n",
       "      <th>1370</th>\n",
       "      <td>12/2019</td>\n",
       "      <td>European-American/White</td>\n",
       "      <td>67</td>\n",
       "      <td>250520000</td>\n",
       "      <td>0.267444</td>\n",
       "      <td>0.763315</td>\n",
       "    </tr>\n",
       "    <tr>\n",
       "      <th>1371</th>\n",
       "      <td>12/2019</td>\n",
       "      <td>Hispanic/Latino</td>\n",
       "      <td>15</td>\n",
       "      <td>52000000</td>\n",
       "      <td>0.288462</td>\n",
       "      <td>0.158440</td>\n",
       "    </tr>\n",
       "  </tbody>\n",
       "</table>\n",
       "<p>720 rows × 6 columns</p>\n",
       "</div>"
      ],
      "text/plain": [
       "         date                     race  death_count   race_pop  \\\n",
       "0     01/2000   African-American/Black           13   44080000   \n",
       "2     01/2000  European-American/White           16  250520000   \n",
       "3     01/2000          Hispanic/Latino            5   52000000   \n",
       "6     01/2001   African-American/Black            8   44080000   \n",
       "8     01/2001  European-American/White            6  250520000   \n",
       "...       ...                      ...          ...        ...   \n",
       "1364  12/2018  European-American/White           51  250520000   \n",
       "1365  12/2018          Hispanic/Latino           24   52000000   \n",
       "1368  12/2019   African-American/Black           42   44080000   \n",
       "1370  12/2019  European-American/White           67  250520000   \n",
       "1371  12/2019          Hispanic/Latino           15   52000000   \n",
       "\n",
       "      deaths_thousands  pop_prop  \n",
       "0             0.294918  0.134308  \n",
       "2             0.063867  0.763315  \n",
       "3             0.096154  0.158440  \n",
       "6             0.181488  0.134308  \n",
       "8             0.023950  0.763315  \n",
       "...                ...       ...  \n",
       "1364          0.203577  0.763315  \n",
       "1365          0.461538  0.158440  \n",
       "1368          0.952813  0.134308  \n",
       "1370          0.267444  0.763315  \n",
       "1371          0.288462  0.158440  \n",
       "\n",
       "[720 rows x 6 columns]"
      ]
     },
     "execution_count": 31,
     "metadata": {},
     "output_type": "execute_result"
    }
   ],
   "source": [
    "df_month"
   ]
  },
  {
   "cell_type": "code",
   "execution_count": 165,
   "metadata": {},
   "outputs": [
    {
     "data": {
      "text/html": [
       "<div>\n",
       "<style scoped>\n",
       "    .dataframe tbody tr th:only-of-type {\n",
       "        vertical-align: middle;\n",
       "    }\n",
       "\n",
       "    .dataframe tbody tr th {\n",
       "        vertical-align: top;\n",
       "    }\n",
       "\n",
       "    .dataframe thead th {\n",
       "        text-align: right;\n",
       "    }\n",
       "</style>\n",
       "<table border=\"1\" class=\"dataframe\">\n",
       "  <thead>\n",
       "    <tr style=\"text-align: right;\">\n",
       "      <th></th>\n",
       "      <th>Date (Year)</th>\n",
       "      <th>Subject's race</th>\n",
       "      <th>Latitude</th>\n",
       "      <th>Longitude</th>\n",
       "      <th>death_count</th>\n",
       "      <th>Total Population</th>\n",
       "      <th>Count</th>\n",
       "      <th>death_hthou</th>\n",
       "    </tr>\n",
       "  </thead>\n",
       "  <tbody>\n",
       "    <tr>\n",
       "      <th>0</th>\n",
       "      <td>2000</td>\n",
       "      <td>African-American/Black</td>\n",
       "      <td>36.089207</td>\n",
       "      <td>-95.725438</td>\n",
       "      <td>75</td>\n",
       "      <td>556874.500000</td>\n",
       "      <td>7274893</td>\n",
       "      <td>10.309430</td>\n",
       "    </tr>\n",
       "    <tr>\n",
       "      <th>1</th>\n",
       "      <td>2000</td>\n",
       "      <td>European-American/White</td>\n",
       "      <td>36.842549</td>\n",
       "      <td>-102.338321</td>\n",
       "      <td>48</td>\n",
       "      <td>567799.897436</td>\n",
       "      <td>13908545</td>\n",
       "      <td>3.451116</td>\n",
       "    </tr>\n",
       "    <tr>\n",
       "      <th>2</th>\n",
       "      <td>2000</td>\n",
       "      <td>Hispanic/Latino</td>\n",
       "      <td>35.725296</td>\n",
       "      <td>-108.772303</td>\n",
       "      <td>35</td>\n",
       "      <td>731542.826087</td>\n",
       "      <td>6406818</td>\n",
       "      <td>5.462930</td>\n",
       "    </tr>\n",
       "    <tr>\n",
       "      <th>3</th>\n",
       "      <td>2001</td>\n",
       "      <td>African-American/Black</td>\n",
       "      <td>36.632090</td>\n",
       "      <td>-98.076589</td>\n",
       "      <td>59</td>\n",
       "      <td>552944.702703</td>\n",
       "      <td>4596612</td>\n",
       "      <td>12.835541</td>\n",
       "    </tr>\n",
       "    <tr>\n",
       "      <th>4</th>\n",
       "      <td>2001</td>\n",
       "      <td>European-American/White</td>\n",
       "      <td>38.801837</td>\n",
       "      <td>-105.049861</td>\n",
       "      <td>55</td>\n",
       "      <td>489274.761905</td>\n",
       "      <td>12723955</td>\n",
       "      <td>4.322555</td>\n",
       "    </tr>\n",
       "    <tr>\n",
       "      <th>...</th>\n",
       "      <td>...</td>\n",
       "      <td>...</td>\n",
       "      <td>...</td>\n",
       "      <td>...</td>\n",
       "      <td>...</td>\n",
       "      <td>...</td>\n",
       "      <td>...</td>\n",
       "      <td>...</td>\n",
       "    </tr>\n",
       "    <tr>\n",
       "      <th>58</th>\n",
       "      <td>2019</td>\n",
       "      <td>European-American/White</td>\n",
       "      <td>37.497761</td>\n",
       "      <td>-100.142884</td>\n",
       "      <td>222</td>\n",
       "      <td>336664.942857</td>\n",
       "      <td>31202172</td>\n",
       "      <td>7.114889</td>\n",
       "    </tr>\n",
       "    <tr>\n",
       "      <th>59</th>\n",
       "      <td>2019</td>\n",
       "      <td>Hispanic/Latino</td>\n",
       "      <td>35.362824</td>\n",
       "      <td>-104.216124</td>\n",
       "      <td>142</td>\n",
       "      <td>365928.348837</td>\n",
       "      <td>12588267</td>\n",
       "      <td>11.280345</td>\n",
       "    </tr>\n",
       "    <tr>\n",
       "      <th>60</th>\n",
       "      <td>2020</td>\n",
       "      <td>African-American/Black</td>\n",
       "      <td>36.255124</td>\n",
       "      <td>-92.519017</td>\n",
       "      <td>152</td>\n",
       "      <td>377526.112360</td>\n",
       "      <td>9759989</td>\n",
       "      <td>15.573788</td>\n",
       "    </tr>\n",
       "    <tr>\n",
       "      <th>61</th>\n",
       "      <td>2020</td>\n",
       "      <td>European-American/White</td>\n",
       "      <td>37.277020</td>\n",
       "      <td>-99.184543</td>\n",
       "      <td>132</td>\n",
       "      <td>289796.466019</td>\n",
       "      <td>20558108</td>\n",
       "      <td>6.420824</td>\n",
       "    </tr>\n",
       "    <tr>\n",
       "      <th>62</th>\n",
       "      <td>2020</td>\n",
       "      <td>Hispanic/Latino</td>\n",
       "      <td>35.345905</td>\n",
       "      <td>-106.229983</td>\n",
       "      <td>103</td>\n",
       "      <td>509186.368421</td>\n",
       "      <td>11600237</td>\n",
       "      <td>8.879129</td>\n",
       "    </tr>\n",
       "  </tbody>\n",
       "</table>\n",
       "<p>63 rows × 8 columns</p>\n",
       "</div>"
      ],
      "text/plain": [
       "    Date (Year)           Subject's race   Latitude   Longitude  death_count  \\\n",
       "0          2000   African-American/Black  36.089207  -95.725438           75   \n",
       "1          2000  European-American/White  36.842549 -102.338321           48   \n",
       "2          2000          Hispanic/Latino  35.725296 -108.772303           35   \n",
       "3          2001   African-American/Black  36.632090  -98.076589           59   \n",
       "4          2001  European-American/White  38.801837 -105.049861           55   \n",
       "..          ...                      ...        ...         ...          ...   \n",
       "58         2019  European-American/White  37.497761 -100.142884          222   \n",
       "59         2019          Hispanic/Latino  35.362824 -104.216124          142   \n",
       "60         2020   African-American/Black  36.255124  -92.519017          152   \n",
       "61         2020  European-American/White  37.277020  -99.184543          132   \n",
       "62         2020          Hispanic/Latino  35.345905 -106.229983          103   \n",
       "\n",
       "    Total Population     Count  death_hthou  \n",
       "0      556874.500000   7274893    10.309430  \n",
       "1      567799.897436  13908545     3.451116  \n",
       "2      731542.826087   6406818     5.462930  \n",
       "3      552944.702703   4596612    12.835541  \n",
       "4      489274.761905  12723955     4.322555  \n",
       "..               ...       ...          ...  \n",
       "58     336664.942857  31202172     7.114889  \n",
       "59     365928.348837  12588267    11.280345  \n",
       "60     377526.112360   9759989    15.573788  \n",
       "61     289796.466019  20558108     6.420824  \n",
       "62     509186.368421  11600237     8.879129  \n",
       "\n",
       "[63 rows x 8 columns]"
      ]
     },
     "execution_count": 165,
     "metadata": {},
     "output_type": "execute_result"
    }
   ],
   "source": [
    "test"
   ]
  },
  {
   "cell_type": "code",
   "execution_count": 168,
   "metadata": {},
   "outputs": [
    {
     "data": {
      "text/plain": [
       "<matplotlib.axes._subplots.AxesSubplot at 0x26f454944e0>"
      ]
     },
     "execution_count": 168,
     "metadata": {},
     "output_type": "execute_result"
    },
    {
     "data": {
      "image/png": "[encoded data removed]",
      "text/plain": [
       "<Figure size 432x288 with 1 Axes>"
      ]
     },
     "metadata": {
      "needs_background": "light"
     },
     "output_type": "display_data"
    }
   ],
   "source": [
    "import seaborn as sns\n",
    "sns.lineplot(data = test, x = \"Date (Year)\", y = 'death_hthou', hue=\"Race\")"
   ]
  },
  {
   "cell_type": "code",
   "execution_count": 18,
   "metadata": {},
   "outputs": [
    {
     "data": {
      "text/html": [
       "<div>\n",
       "<style scoped>\n",
       "    .dataframe tbody tr th:only-of-type {\n",
       "        vertical-align: middle;\n",
       "    }\n",
       "\n",
       "    .dataframe tbody tr th {\n",
       "        vertical-align: top;\n",
       "    }\n",
       "\n",
       "    .dataframe thead th {\n",
       "        text-align: right;\n",
       "    }\n",
       "</style>\n",
       "<table border=\"1\" class=\"dataframe\">\n",
       "  <thead>\n",
       "    <tr style=\"text-align: right;\">\n",
       "      <th></th>\n",
       "      <th>date</th>\n",
       "      <th>race</th>\n",
       "      <th>death_count</th>\n",
       "      <th>race_pop</th>\n",
       "      <th>deaths_thousands</th>\n",
       "      <th>pop_prop</th>\n",
       "    </tr>\n",
       "  </thead>\n",
       "  <tbody>\n",
       "    <tr>\n",
       "      <th>0</th>\n",
       "      <td>2000</td>\n",
       "      <td>African-American/Black</td>\n",
       "      <td>122</td>\n",
       "      <td>44080000</td>\n",
       "      <td>2.767695</td>\n",
       "      <td>0.134308</td>\n",
       "    </tr>\n",
       "    <tr>\n",
       "      <th>2</th>\n",
       "      <td>2000</td>\n",
       "      <td>European-American/White</td>\n",
       "      <td>120</td>\n",
       "      <td>250520000</td>\n",
       "      <td>0.479004</td>\n",
       "      <td>0.763315</td>\n",
       "    </tr>\n",
       "    <tr>\n",
       "      <th>3</th>\n",
       "      <td>2000</td>\n",
       "      <td>Hispanic/Latino</td>\n",
       "      <td>54</td>\n",
       "      <td>52000000</td>\n",
       "      <td>1.038462</td>\n",
       "      <td>0.158440</td>\n",
       "    </tr>\n",
       "    <tr>\n",
       "      <th>6</th>\n",
       "      <td>2001</td>\n",
       "      <td>African-American/Black</td>\n",
       "      <td>92</td>\n",
       "      <td>44080000</td>\n",
       "      <td>2.087114</td>\n",
       "      <td>0.134308</td>\n",
       "    </tr>\n",
       "    <tr>\n",
       "      <th>8</th>\n",
       "      <td>2001</td>\n",
       "      <td>European-American/White</td>\n",
       "      <td>118</td>\n",
       "      <td>250520000</td>\n",
       "      <td>0.471020</td>\n",
       "      <td>0.763315</td>\n",
       "    </tr>\n",
       "  </tbody>\n",
       "</table>\n",
       "</div>"
      ],
      "text/plain": [
       "   date                     race  death_count   race_pop  deaths_thousands  \\\n",
       "0  2000   African-American/Black          122   44080000          2.767695   \n",
       "2  2000  European-American/White          120  250520000          0.479004   \n",
       "3  2000          Hispanic/Latino           54   52000000          1.038462   \n",
       "6  2001   African-American/Black           92   44080000          2.087114   \n",
       "8  2001  European-American/White          118  250520000          0.471020   \n",
       "\n",
       "   pop_prop  \n",
       "0  0.134308  \n",
       "2  0.763315  \n",
       "3  0.158440  \n",
       "6  0.134308  \n",
       "8  0.763315  "
      ]
     },
     "execution_count": 18,
     "metadata": {},
     "output_type": "execute_result"
    }
   ],
   "source": [
    "df.head(5)"
   ]
  },
  {
   "cell_type": "code",
   "execution_count": 39,
   "metadata": {},
   "outputs": [
    {
     "data": {
      "text/html": [
       "<div>\n",
       "<style scoped>\n",
       "    .dataframe tbody tr th:only-of-type {\n",
       "        vertical-align: middle;\n",
       "    }\n",
       "\n",
       "    .dataframe tbody tr th {\n",
       "        vertical-align: top;\n",
       "    }\n",
       "\n",
       "    .dataframe thead th {\n",
       "        text-align: right;\n",
       "    }\n",
       "</style>\n",
       "<table border=\"1\" class=\"dataframe\">\n",
       "  <thead>\n",
       "    <tr style=\"text-align: right;\">\n",
       "      <th></th>\n",
       "      <th>date</th>\n",
       "      <th>race</th>\n",
       "      <th>death_count</th>\n",
       "      <th>race_pop</th>\n",
       "      <th>deaths_thousands</th>\n",
       "      <th>pop_prop</th>\n",
       "    </tr>\n",
       "  </thead>\n",
       "  <tbody>\n",
       "    <tr>\n",
       "      <th>0</th>\n",
       "      <td>2000-01-01</td>\n",
       "      <td>African-American/Black</td>\n",
       "      <td>13</td>\n",
       "      <td>44080000</td>\n",
       "      <td>0.294918</td>\n",
       "      <td>0.134308</td>\n",
       "    </tr>\n",
       "    <tr>\n",
       "      <th>2</th>\n",
       "      <td>2000-01-01</td>\n",
       "      <td>European-American/White</td>\n",
       "      <td>16</td>\n",
       "      <td>250520000</td>\n",
       "      <td>0.063867</td>\n",
       "      <td>0.763315</td>\n",
       "    </tr>\n",
       "    <tr>\n",
       "      <th>3</th>\n",
       "      <td>2000-01-01</td>\n",
       "      <td>Hispanic/Latino</td>\n",
       "      <td>5</td>\n",
       "      <td>52000000</td>\n",
       "      <td>0.096154</td>\n",
       "      <td>0.158440</td>\n",
       "    </tr>\n",
       "    <tr>\n",
       "      <th>6</th>\n",
       "      <td>2001-01-01</td>\n",
       "      <td>African-American/Black</td>\n",
       "      <td>8</td>\n",
       "      <td>44080000</td>\n",
       "      <td>0.181488</td>\n",
       "      <td>0.134308</td>\n",
       "    </tr>\n",
       "    <tr>\n",
       "      <th>8</th>\n",
       "      <td>2001-01-01</td>\n",
       "      <td>European-American/White</td>\n",
       "      <td>6</td>\n",
       "      <td>250520000</td>\n",
       "      <td>0.023950</td>\n",
       "      <td>0.763315</td>\n",
       "    </tr>\n",
       "    <tr>\n",
       "      <th>...</th>\n",
       "      <td>...</td>\n",
       "      <td>...</td>\n",
       "      <td>...</td>\n",
       "      <td>...</td>\n",
       "      <td>...</td>\n",
       "      <td>...</td>\n",
       "    </tr>\n",
       "    <tr>\n",
       "      <th>1364</th>\n",
       "      <td>2018-12-01</td>\n",
       "      <td>European-American/White</td>\n",
       "      <td>51</td>\n",
       "      <td>250520000</td>\n",
       "      <td>0.203577</td>\n",
       "      <td>0.763315</td>\n",
       "    </tr>\n",
       "    <tr>\n",
       "      <th>1365</th>\n",
       "      <td>2018-12-01</td>\n",
       "      <td>Hispanic/Latino</td>\n",
       "      <td>24</td>\n",
       "      <td>52000000</td>\n",
       "      <td>0.461538</td>\n",
       "      <td>0.158440</td>\n",
       "    </tr>\n",
       "    <tr>\n",
       "      <th>1368</th>\n",
       "      <td>2019-12-01</td>\n",
       "      <td>African-American/Black</td>\n",
       "      <td>42</td>\n",
       "      <td>44080000</td>\n",
       "      <td>0.952813</td>\n",
       "      <td>0.134308</td>\n",
       "    </tr>\n",
       "    <tr>\n",
       "      <th>1370</th>\n",
       "      <td>2019-12-01</td>\n",
       "      <td>European-American/White</td>\n",
       "      <td>67</td>\n",
       "      <td>250520000</td>\n",
       "      <td>0.267444</td>\n",
       "      <td>0.763315</td>\n",
       "    </tr>\n",
       "    <tr>\n",
       "      <th>1371</th>\n",
       "      <td>2019-12-01</td>\n",
       "      <td>Hispanic/Latino</td>\n",
       "      <td>15</td>\n",
       "      <td>52000000</td>\n",
       "      <td>0.288462</td>\n",
       "      <td>0.158440</td>\n",
       "    </tr>\n",
       "  </tbody>\n",
       "</table>\n",
       "<p>720 rows × 6 columns</p>\n",
       "</div>"
      ],
      "text/plain": [
       "           date                     race  death_count   race_pop  \\\n",
       "0    2000-01-01   African-American/Black           13   44080000   \n",
       "2    2000-01-01  European-American/White           16  250520000   \n",
       "3    2000-01-01          Hispanic/Latino            5   52000000   \n",
       "6    2001-01-01   African-American/Black            8   44080000   \n",
       "8    2001-01-01  European-American/White            6  250520000   \n",
       "...         ...                      ...          ...        ...   \n",
       "1364 2018-12-01  European-American/White           51  250520000   \n",
       "1365 2018-12-01          Hispanic/Latino           24   52000000   \n",
       "1368 2019-12-01   African-American/Black           42   44080000   \n",
       "1370 2019-12-01  European-American/White           67  250520000   \n",
       "1371 2019-12-01          Hispanic/Latino           15   52000000   \n",
       "\n",
       "      deaths_thousands  pop_prop  \n",
       "0             0.294918  0.134308  \n",
       "2             0.063867  0.763315  \n",
       "3             0.096154  0.158440  \n",
       "6             0.181488  0.134308  \n",
       "8             0.023950  0.763315  \n",
       "...                ...       ...  \n",
       "1364          0.203577  0.763315  \n",
       "1365          0.461538  0.158440  \n",
       "1368          0.952813  0.134308  \n",
       "1370          0.267444  0.763315  \n",
       "1371          0.288462  0.158440  \n",
       "\n",
       "[720 rows x 6 columns]"
      ]
     },
     "execution_count": 39,
     "metadata": {},
     "output_type": "execute_result"
    }
   ],
   "source": [
    "df_month['date'] = pd.to_datetime(df_month['date']) "
   ]
  },
  {
   "cell_type": "code",
   "execution_count": 41,
   "metadata": {},
   "outputs": [],
   "source": [
    "# df_month.pivot(index='date', columns='race', \n",
    "#          values='deaths_thousands').reset_index().rename(columns = {'African-American/Black': 'black', \n",
    "#                                                                     'European-American/White': 'white', \n",
    "#                                                                     'Hispanic/Latino': 'latino'})"
   ]
  },
  {
   "cell_type": "code",
   "execution_count": 42,
   "metadata": {},
   "outputs": [],
   "source": [
    "# df.pivot(index='date', columns='race', \n",
    "#          values='deaths_thousands').reset_index().rename(columns = {'African-American/Black': 'black', \n",
    "#                                                                     'European-American/White': 'white', \n",
    "#                                                                     'Hispanic/Latino': 'latino'}).to_csv(\"deaths_by_race.csv\")\n",
    "df_month.pivot(index='date', columns='race', \n",
    "         values='deaths_thousands').reset_index().rename(columns = {'African-American/Black': 'black', \n",
    "                                                                    'European-American/White': 'white', \n",
    "                                                                    'Hispanic/Latino': 'latino'}).to_csv(\"deaths_by_race_month.csv\")\n",
    "\n",
    "# df.groupby('date').mean().reset_index().to_csv('deaths_time.csv')"
   ]
  },
  {
   "cell_type": "code",
   "execution_count": 38,
   "metadata": {},
   "outputs": [
    {
     "data": {
      "text/plain": [
       "<matplotlib.axes._subplots.AxesSubplot at 0x1a6d4bd98d0>"
      ]
     },
     "execution_count": 38,
     "metadata": {},
     "output_type": "execute_result"
    },
    {
     "data": {
      "image/png": "[encoded data removed]",
      "text/plain": [
       "<Figure size 432x288 with 1 Axes>"
      ]
     },
     "metadata": {
      "needs_background": "light"
     },
     "output_type": "display_data"
    }
   ],
   "source": [
    "sns.lineplot(data = df.groupby('date').mean().reset_index(), x = \"date\", y = 'deaths_thousands')"
   ]
  },
  {
   "cell_type": "code",
   "execution_count": null,
   "metadata": {},
   "outputs": [],
   "source": []
  },
  {
   "cell_type": "code",
   "execution_count": 223,
   "metadata": {},
   "outputs": [],
   "source": [
    "counties_deaths = pd.merge(counties, df, left_on=\"NAME\", \n",
    "                           right_on = \"Location of death (county)\", \n",
    "                           how = \"left\")\n",
    "\n",
    "counties_deaths = counties_deaths[['NAME','geometry', 'death_count']]"
   ]
  },
  {
   "cell_type": "code",
   "execution_count": 225,
   "metadata": {},
   "outputs": [],
   "source": [
    "counties_deaths['death_count'] = counties_deaths['death_count'].fillna(0)"
   ]
  },
  {
   "cell_type": "code",
   "execution_count": 111,
   "metadata": {},
   "outputs": [],
   "source": [
    "# counties_deaths.geometry = counties_deaths.centroid"
   ]
  },
  {
   "cell_type": "code",
   "execution_count": 226,
   "metadata": {},
   "outputs": [],
   "source": [
    "counties_deaths['Longitude'] = counties_deaths.geometry.centroid.x\n",
    "counties_deaths['Latitude'] = counties_deaths.geometry.centroid.y"
   ]
  },
  {
   "cell_type": "code",
   "execution_count": 227,
   "metadata": {},
   "outputs": [
    {
     "data": {
      "text/html": [
       "<div>\n",
       "<style scoped>\n",
       "    .dataframe tbody tr th:only-of-type {\n",
       "        vertical-align: middle;\n",
       "    }\n",
       "\n",
       "    .dataframe tbody tr th {\n",
       "        vertical-align: top;\n",
       "    }\n",
       "\n",
       "    .dataframe thead th {\n",
       "        text-align: right;\n",
       "    }\n",
       "</style>\n",
       "<table border=\"1\" class=\"dataframe\">\n",
       "  <thead>\n",
       "    <tr style=\"text-align: right;\">\n",
       "      <th></th>\n",
       "      <th>NAME</th>\n",
       "      <th>geometry</th>\n",
       "      <th>death_count</th>\n",
       "      <th>Longitude</th>\n",
       "      <th>Latitude</th>\n",
       "    </tr>\n",
       "  </thead>\n",
       "  <tbody>\n",
       "    <tr>\n",
       "      <th>0</th>\n",
       "      <td>Cuming</td>\n",
       "      <td>POLYGON ((-97.01952 42.00410, -97.01952 42.004...</td>\n",
       "      <td>0.0</td>\n",
       "      <td>-96.787400</td>\n",
       "      <td>41.916403</td>\n",
       "    </tr>\n",
       "    <tr>\n",
       "      <th>1</th>\n",
       "      <td>Wahkiakum</td>\n",
       "      <td>POLYGON ((-123.43639 46.23820, -123.44759 46.2...</td>\n",
       "      <td>0.0</td>\n",
       "      <td>-123.433470</td>\n",
       "      <td>46.291134</td>\n",
       "    </tr>\n",
       "    <tr>\n",
       "      <th>2</th>\n",
       "      <td>De Baca</td>\n",
       "      <td>POLYGON ((-104.56739 33.99757, -104.56772 33.9...</td>\n",
       "      <td>1.0</td>\n",
       "      <td>-104.411958</td>\n",
       "      <td>34.342414</td>\n",
       "    </tr>\n",
       "    <tr>\n",
       "      <th>3</th>\n",
       "      <td>Lancaster</td>\n",
       "      <td>POLYGON ((-96.91060 40.95841, -96.91060 40.958...</td>\n",
       "      <td>48.0</td>\n",
       "      <td>-96.687756</td>\n",
       "      <td>40.784174</td>\n",
       "    </tr>\n",
       "    <tr>\n",
       "      <th>4</th>\n",
       "      <td>Nuckolls</td>\n",
       "      <td>POLYGON ((-98.27367 40.08940, -98.27367 40.089...</td>\n",
       "      <td>0.0</td>\n",
       "      <td>-98.047185</td>\n",
       "      <td>40.176380</td>\n",
       "    </tr>\n",
       "    <tr>\n",
       "      <th>...</th>\n",
       "      <td>...</td>\n",
       "      <td>...</td>\n",
       "      <td>...</td>\n",
       "      <td>...</td>\n",
       "      <td>...</td>\n",
       "    </tr>\n",
       "    <tr>\n",
       "      <th>3228</th>\n",
       "      <td>Gilmer</td>\n",
       "      <td>POLYGON ((-84.65478 34.66559, -84.65488 34.669...</td>\n",
       "      <td>0.0</td>\n",
       "      <td>-84.455627</td>\n",
       "      <td>34.691178</td>\n",
       "    </tr>\n",
       "    <tr>\n",
       "      <th>3229</th>\n",
       "      <td>Roseau</td>\n",
       "      <td>POLYGON ((-96.40466 48.80528, -96.40467 48.813...</td>\n",
       "      <td>0.0</td>\n",
       "      <td>-95.810817</td>\n",
       "      <td>48.775139</td>\n",
       "    </tr>\n",
       "    <tr>\n",
       "      <th>3230</th>\n",
       "      <td>Madison</td>\n",
       "      <td>POLYGON ((-90.09363 32.70763, -90.09360 32.707...</td>\n",
       "      <td>142.0</td>\n",
       "      <td>-90.033714</td>\n",
       "      <td>32.634710</td>\n",
       "    </tr>\n",
       "    <tr>\n",
       "      <th>3231</th>\n",
       "      <td>Howard</td>\n",
       "      <td>POLYGON ((-101.69227 32.27106, -101.69221 32.2...</td>\n",
       "      <td>26.0</td>\n",
       "      <td>-101.435505</td>\n",
       "      <td>32.306169</td>\n",
       "    </tr>\n",
       "    <tr>\n",
       "      <th>3232</th>\n",
       "      <td>Wayne</td>\n",
       "      <td>POLYGON ((-82.59529 38.36978, -82.59515 38.369...</td>\n",
       "      <td>292.0</td>\n",
       "      <td>-82.426950</td>\n",
       "      <td>38.145949</td>\n",
       "    </tr>\n",
       "  </tbody>\n",
       "</table>\n",
       "<p>3233 rows × 5 columns</p>\n",
       "</div>"
      ],
      "text/plain": [
       "           NAME                                           geometry  \\\n",
       "0        Cuming  POLYGON ((-97.01952 42.00410, -97.01952 42.004...   \n",
       "1     Wahkiakum  POLYGON ((-123.43639 46.23820, -123.44759 46.2...   \n",
       "2       De Baca  POLYGON ((-104.56739 33.99757, -104.56772 33.9...   \n",
       "3     Lancaster  POLYGON ((-96.91060 40.95841, -96.91060 40.958...   \n",
       "4      Nuckolls  POLYGON ((-98.27367 40.08940, -98.27367 40.089...   \n",
       "...         ...                                                ...   \n",
       "3228     Gilmer  POLYGON ((-84.65478 34.66559, -84.65488 34.669...   \n",
       "3229     Roseau  POLYGON ((-96.40466 48.80528, -96.40467 48.813...   \n",
       "3230    Madison  POLYGON ((-90.09363 32.70763, -90.09360 32.707...   \n",
       "3231     Howard  POLYGON ((-101.69227 32.27106, -101.69221 32.2...   \n",
       "3232      Wayne  POLYGON ((-82.59529 38.36978, -82.59515 38.369...   \n",
       "\n",
       "      death_count   Longitude   Latitude  \n",
       "0             0.0  -96.787400  41.916403  \n",
       "1             0.0 -123.433470  46.291134  \n",
       "2             1.0 -104.411958  34.342414  \n",
       "3            48.0  -96.687756  40.784174  \n",
       "4             0.0  -98.047185  40.176380  \n",
       "...           ...         ...        ...  \n",
       "3228          0.0  -84.455627  34.691178  \n",
       "3229          0.0  -95.810817  48.775139  \n",
       "3230        142.0  -90.033714  32.634710  \n",
       "3231         26.0 -101.435505  32.306169  \n",
       "3232        292.0  -82.426950  38.145949  \n",
       "\n",
       "[3233 rows x 5 columns]"
      ]
     },
     "execution_count": 227,
     "metadata": {},
     "output_type": "execute_result"
    }
   ],
   "source": [
    "counties_deaths"
   ]
  },
  {
   "cell_type": "code",
   "execution_count": 156,
   "metadata": {},
   "outputs": [
    {
     "data": {
      "text/plain": [
       "(2728, 4)"
      ]
     },
     "execution_count": 156,
     "metadata": {},
     "output_type": "execute_result"
    }
   ],
   "source": [
    "counties_deaths = counties_deaths.dropna()\n",
    "counties_deaths = counties_deaths[['NAME','death_count', 'Longitude', 'Latitude']]\n",
    "counties_deaths.shape"
   ]
  },
  {
   "cell_type": "code",
   "execution_count": 234,
   "metadata": {},
   "outputs": [
    {
     "name": "stdout",
     "output_type": "stream",
     "text": [
      "<class 'geopandas.geodataframe.GeoDataFrame'>\n",
      "Int64Index: 3233 entries, 0 to 3232\n",
      "Data columns (total 5 columns):\n",
      " #   Column       Non-Null Count  Dtype   \n",
      "---  ------       --------------  -----   \n",
      " 0   NAME         3233 non-null   object  \n",
      " 1   geometry     3233 non-null   geometry\n",
      " 2   death_count  3233 non-null   float64 \n",
      " 3   Longitude    3233 non-null   float64 \n",
      " 4   Latitude     3233 non-null   float64 \n",
      "dtypes: float64(3), geometry(1), object(1)\n",
      "memory usage: 151.5+ KB\n"
     ]
    }
   ],
   "source": [
    "counties_deaths.info()"
   ]
  },
  {
   "cell_type": "code",
   "execution_count": 236,
   "metadata": {},
   "outputs": [],
   "source": [
    "counties_deaths.dropna().to_file('counties_deaths_cl.geojson', driver=\"GeoJSON\")"
   ]
  },
  {
   "cell_type": "code",
   "execution_count": 233,
   "metadata": {},
   "outputs": [
    {
     "data": {
      "text/html": [
       "<div>\n",
       "<style scoped>\n",
       "    .dataframe tbody tr th:only-of-type {\n",
       "        vertical-align: middle;\n",
       "    }\n",
       "\n",
       "    .dataframe tbody tr th {\n",
       "        vertical-align: top;\n",
       "    }\n",
       "\n",
       "    .dataframe thead th {\n",
       "        text-align: right;\n",
       "    }\n",
       "</style>\n",
       "<table border=\"1\" class=\"dataframe\">\n",
       "  <thead>\n",
       "    <tr style=\"text-align: right;\">\n",
       "      <th></th>\n",
       "      <th>NAME</th>\n",
       "      <th>geometry</th>\n",
       "      <th>death_count</th>\n",
       "      <th>Longitude</th>\n",
       "      <th>Latitude</th>\n",
       "    </tr>\n",
       "  </thead>\n",
       "  <tbody>\n",
       "    <tr>\n",
       "      <th>0</th>\n",
       "      <td>Cuming</td>\n",
       "      <td>POLYGON ((-97.01952 42.00410, -97.01952 42.004...</td>\n",
       "      <td>0.0</td>\n",
       "      <td>-96.787400</td>\n",
       "      <td>41.916403</td>\n",
       "    </tr>\n",
       "    <tr>\n",
       "      <th>1</th>\n",
       "      <td>Wahkiakum</td>\n",
       "      <td>POLYGON ((-123.43639 46.23820, -123.44759 46.2...</td>\n",
       "      <td>0.0</td>\n",
       "      <td>-123.433470</td>\n",
       "      <td>46.291134</td>\n",
       "    </tr>\n",
       "    <tr>\n",
       "      <th>2</th>\n",
       "      <td>De Baca</td>\n",
       "      <td>POLYGON ((-104.56739 33.99757, -104.56772 33.9...</td>\n",
       "      <td>1.0</td>\n",
       "      <td>-104.411958</td>\n",
       "      <td>34.342414</td>\n",
       "    </tr>\n",
       "    <tr>\n",
       "      <th>3</th>\n",
       "      <td>Lancaster</td>\n",
       "      <td>POLYGON ((-96.91060 40.95841, -96.91060 40.958...</td>\n",
       "      <td>48.0</td>\n",
       "      <td>-96.687756</td>\n",
       "      <td>40.784174</td>\n",
       "    </tr>\n",
       "    <tr>\n",
       "      <th>4</th>\n",
       "      <td>Nuckolls</td>\n",
       "      <td>POLYGON ((-98.27367 40.08940, -98.27367 40.089...</td>\n",
       "      <td>0.0</td>\n",
       "      <td>-98.047185</td>\n",
       "      <td>40.176380</td>\n",
       "    </tr>\n",
       "    <tr>\n",
       "      <th>...</th>\n",
       "      <td>...</td>\n",
       "      <td>...</td>\n",
       "      <td>...</td>\n",
       "      <td>...</td>\n",
       "      <td>...</td>\n",
       "    </tr>\n",
       "    <tr>\n",
       "      <th>3228</th>\n",
       "      <td>Gilmer</td>\n",
       "      <td>POLYGON ((-84.65478 34.66559, -84.65488 34.669...</td>\n",
       "      <td>0.0</td>\n",
       "      <td>-84.455627</td>\n",
       "      <td>34.691178</td>\n",
       "    </tr>\n",
       "    <tr>\n",
       "      <th>3229</th>\n",
       "      <td>Roseau</td>\n",
       "      <td>POLYGON ((-96.40466 48.80528, -96.40467 48.813...</td>\n",
       "      <td>0.0</td>\n",
       "      <td>-95.810817</td>\n",
       "      <td>48.775139</td>\n",
       "    </tr>\n",
       "    <tr>\n",
       "      <th>3230</th>\n",
       "      <td>Madison</td>\n",
       "      <td>POLYGON ((-90.09363 32.70763, -90.09360 32.707...</td>\n",
       "      <td>142.0</td>\n",
       "      <td>-90.033714</td>\n",
       "      <td>32.634710</td>\n",
       "    </tr>\n",
       "    <tr>\n",
       "      <th>3231</th>\n",
       "      <td>Howard</td>\n",
       "      <td>POLYGON ((-101.69227 32.27106, -101.69221 32.2...</td>\n",
       "      <td>26.0</td>\n",
       "      <td>-101.435505</td>\n",
       "      <td>32.306169</td>\n",
       "    </tr>\n",
       "    <tr>\n",
       "      <th>3232</th>\n",
       "      <td>Wayne</td>\n",
       "      <td>POLYGON ((-82.59529 38.36978, -82.59515 38.369...</td>\n",
       "      <td>292.0</td>\n",
       "      <td>-82.426950</td>\n",
       "      <td>38.145949</td>\n",
       "    </tr>\n",
       "  </tbody>\n",
       "</table>\n",
       "<p>3233 rows × 5 columns</p>\n",
       "</div>"
      ],
      "text/plain": [
       "           NAME                                           geometry  \\\n",
       "0        Cuming  POLYGON ((-97.01952 42.00410, -97.01952 42.004...   \n",
       "1     Wahkiakum  POLYGON ((-123.43639 46.23820, -123.44759 46.2...   \n",
       "2       De Baca  POLYGON ((-104.56739 33.99757, -104.56772 33.9...   \n",
       "3     Lancaster  POLYGON ((-96.91060 40.95841, -96.91060 40.958...   \n",
       "4      Nuckolls  POLYGON ((-98.27367 40.08940, -98.27367 40.089...   \n",
       "...         ...                                                ...   \n",
       "3228     Gilmer  POLYGON ((-84.65478 34.66559, -84.65488 34.669...   \n",
       "3229     Roseau  POLYGON ((-96.40466 48.80528, -96.40467 48.813...   \n",
       "3230    Madison  POLYGON ((-90.09363 32.70763, -90.09360 32.707...   \n",
       "3231     Howard  POLYGON ((-101.69227 32.27106, -101.69221 32.2...   \n",
       "3232      Wayne  POLYGON ((-82.59529 38.36978, -82.59515 38.369...   \n",
       "\n",
       "      death_count   Longitude   Latitude  \n",
       "0             0.0  -96.787400  41.916403  \n",
       "1             0.0 -123.433470  46.291134  \n",
       "2             1.0 -104.411958  34.342414  \n",
       "3            48.0  -96.687756  40.784174  \n",
       "4             0.0  -98.047185  40.176380  \n",
       "...           ...         ...        ...  \n",
       "3228          0.0  -84.455627  34.691178  \n",
       "3229          0.0  -95.810817  48.775139  \n",
       "3230        142.0  -90.033714  32.634710  \n",
       "3231         26.0 -101.435505  32.306169  \n",
       "3232        292.0  -82.426950  38.145949  \n",
       "\n",
       "[3233 rows x 5 columns]"
      ]
     },
     "execution_count": 233,
     "metadata": {},
     "output_type": "execute_result"
    }
   ],
   "source": [
    "counties_deaths"
   ]
  }
 ],
 "metadata": {
  "kernelspec": {
   "display_name": "Python 3",
   "language": "python",
   "name": "python3"
  },
  "language_info": {
   "codemirror_mode": {
    "name": "ipython",
    "version": 3
   },
   "file_extension": ".py",
   "mimetype": "text/x-python",
   "name": "python",
   "nbconvert_exporter": "python",
   "pygments_lexer": "ipython3",
   "version": "3.7.3"
  }
 },
 "nbformat": 4,
 "nbformat_minor": 4
}
