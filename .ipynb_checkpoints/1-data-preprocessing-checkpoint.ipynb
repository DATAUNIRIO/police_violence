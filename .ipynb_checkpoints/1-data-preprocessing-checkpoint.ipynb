{
 "cells": [
  {
   "cell_type": "markdown",
   "metadata": {},
   "source": [
    "## Data\n",
    "\n",
    "- https://www.governing.com/gov-data/safety-justice/law-enforcement-police-department-employee-totals-for-cities.html\n",
    "- https://www.census.gov/data/tables/time-series/demo/popest/2010s-total-cities-and-towns.html#ds\n",
    "- https://simplemaps.com/data/us-cities\n",
    "- https://killedbypolice.net/\n",
    "- https://docs.google.com/spreadsheets/d/1dKmaV_JiWcG8XBoRgP8b4e9Eopkpgt7FL7nyspvzAsE/edit#gid=0\n",
    "- https://mappingpoliceviolence.org/aboutthedata\n",
    "- https://www.taxpolicycenter.org/statistics/state-and-local-general-expenditures-capita"
   ]
  },
  {
   "cell_type": "code",
   "execution_count": 1,
   "metadata": {},
   "outputs": [],
   "source": [
    "import pandas as pd\n",
    "import geopandas as gpd\n",
    "import numpy as np"
   ]
  },
  {
   "cell_type": "markdown",
   "metadata": {},
   "source": [
    "### Clean data for Bubble Map"
   ]
  },
  {
   "cell_type": "code",
   "execution_count": 63,
   "metadata": {},
   "outputs": [
    {
     "data": {
      "text/plain": [
       "(28837, 29)"
      ]
     },
     "execution_count": 63,
     "metadata": {},
     "output_type": "execute_result"
    }
   ],
   "source": [
    "# clean fatal encounters from missing values\n",
    "pop = pd.read_csv('../uscities.csv') #, encoding = \"ISO-8859-1\"\n",
    "us_pop = pd.read_csv('../POPTOTUSA647NWDB.csv')\n",
    "state_abr = pd.read_csv('../abbr-name-list.csv')\n",
    "police_officers = pd.read_csv('../police_officers.csv')\n",
    "votes = pd.read_csv('../countypres_2000-2016.csv')\n",
    "spending = pd.read_csv('../results.csv', skiprows=[0,1])\n",
    "df = pd.read_csv(\"../fatal_encounters.csv\")\n",
    "df.shape"
   ]
  },
  {
   "cell_type": "code",
   "execution_count": 64,
   "metadata": {},
   "outputs": [
    {
     "data": {
      "text/plain": [
       "(28836, 29)"
      ]
     },
     "execution_count": 64,
     "metadata": {},
     "output_type": "execute_result"
    }
   ],
   "source": [
    "df = df.dropna(subset=['Longitude', 'Latitude'])\n",
    "df.shape"
   ]
  },
  {
   "cell_type": "code",
   "execution_count": 7,
   "metadata": {},
   "outputs": [],
   "source": [
    "df.to_csv('data/fatal_encounters_cl.csv')"
   ]
  },
  {
   "cell_type": "code",
   "execution_count": 65,
   "metadata": {},
   "outputs": [],
   "source": [
    "# get counties centroids\n",
    "counties = gpd.read_file(\"../geodata/tl_2017_us_county.shp\")"
   ]
  },
  {
   "cell_type": "code",
   "execution_count": 209,
   "metadata": {},
   "outputs": [],
   "source": [
    "# counties['NAME'] = counties['name']"
   ]
  },
  {
   "cell_type": "code",
   "execution_count": 163,
   "metadata": {},
   "outputs": [],
   "source": [
    "# counties['centroid'] = counties['geometry'].centroid"
   ]
  },
  {
   "cell_type": "code",
   "execution_count": 61,
   "metadata": {},
   "outputs": [],
   "source": [
    "# aggregated since 2000\n",
    "df['death_count'] = 1 \n",
    "# df = df[[\"Subject's name\", \"Subject's age\", \"Subject's race\", \"Subject's gender\", \n",
    "#          \"Date of injury resulting in death (month/day/year)\", \n",
    "#          \"Location of death (county)\", \"Latitude\", \"Longitude\",\n",
    "#          \"Date (Year)\", \"death_count\"]]\n",
    "df[[\"Latitude\", \"Longitude\",\"death_count\"]] = df[[\"Latitude\", \"Longitude\",\"death_count\"]].apply(pd.to_numeric)\n",
    "\n",
    "\n",
    "\n",
    "df = df.groupby(\"Location of death (county)\").agg(\n",
    "    { \"Latitude\": \"mean\", \"Longitude\": \"mean\", \"death_count\": \"sum\"}).reset_index()\n",
    "df.columns = [\"county\", \"Latitude\", \"Longitude\",\"death_count\"]\n",
    "\n",
    "df = df.dropna(subset=['Longitude', 'Latitude'])\n",
    "\n",
    "df.to_csv(\"data/countiesDeaths.csv\")"
   ]
  },
  {
   "cell_type": "code",
   "execution_count": 77,
   "metadata": {},
   "outputs": [],
   "source": [
    "# by month/year\n",
    "df['death_count'] = 1 \n",
    "# df = df[[\"Subject's name\", \"Subject's age\", \"Subject's race\", \"Subject's gender\", \n",
    "#          \"Date of injury resulting in death (month/day/year)\", \n",
    "#          \"Location of death (county)\", \"Latitude\", \"Longitude\",\n",
    "#          \"Date (Year)\", \"death_count\"]]\n",
    "\n",
    "df['month'] = df['Date of injury resulting in death (month/day/year)'].str[:2]\n",
    "\n",
    "df['month_year'] = df['month'].astype('str') + \"/\" + df['Date (Year)'].astype('str')\n",
    "\n",
    "df[[\"Latitude\", \"Longitude\",\"death_count\"]] = df[[\"Latitude\", \"Longitude\",\"death_count\"]].apply(pd.to_numeric)\n",
    "\n",
    "\n",
    "\n",
    "df = df.groupby([\"Location of death (county)\", \"month_year\"]).agg(\n",
    "    { \"Latitude\": \"mean\", \"Longitude\": \"mean\", \"death_count\": \"sum\"}).reset_index()\n",
    "df.columns = [\"county\", \"date\", \"Latitude\", \"Longitude\",\"death_count\"]\n",
    "\n",
    "df = df.dropna(subset=['Longitude', 'Latitude'])\n",
    "\n",
    "df.to_csv(\"data/citiesYearDeaths.csv\")"
   ]
  },
  {
   "cell_type": "code",
   "execution_count": 5,
   "metadata": {},
   "outputs": [],
   "source": [
    "# by year\n",
    "df['death_count'] = 1 \n",
    "# df = df[[\"Subject's name\", \"Subject's age\", \"Subject's race\", \"Subject's gender\", \n",
    "#          \"Date of injury resulting in death (month/day/year)\", \n",
    "#          \"Location of death (county)\", \"Latitude\", \"Longitude\",\n",
    "#          \"Date (Year)\", \"death_count\"]]\n",
    "\n",
    "df[[\"Latitude\", \"Longitude\",\"death_count\"]] = df[[\"Latitude\", \"Longitude\",\"death_count\"]].apply(pd.to_numeric)\n",
    "\n",
    "\n",
    "\n",
    "df = df.groupby([\"Location of death (county)\", \"Date (Year)\"]).agg(\n",
    "    { \"Latitude\": \"mean\", \"Longitude\": \"mean\", \"death_count\": \"sum\"}).reset_index()\n",
    "df.columns = [\"county\", \"date\", \"Latitude\", \"Longitude\",\"death_count\"]\n",
    "\n"
   ]
  },
  {
   "cell_type": "code",
   "execution_count": 7,
   "metadata": {},
   "outputs": [],
   "source": [
    "# add population for that city\n"
   ]
  },
  {
   "cell_type": "code",
   "execution_count": null,
   "metadata": {},
   "outputs": [],
   "source": [
    "df = df.dropna(subset=['Longitude', 'Latitude'])\n",
    "\n",
    "df.to_csv(\"data/citiesYearDeaths.csv\")"
   ]
  },
  {
   "cell_type": "markdown",
   "metadata": {},
   "source": [
    "### Clean data for line chart"
   ]
  },
  {
   "cell_type": "code",
   "execution_count": 21,
   "metadata": {},
   "outputs": [],
   "source": [
    "import requests\n",
    "import pandas as pd\n",
    "from zipfile import ZipFile\n",
    "\n",
    "#scrape police officers by city\n",
    "# police_officers = pd.read_html('https://www.governing.com/gov-data/safety-justice/law-enforcement-police-department-employee-totals-for-cities.html')[0]\n",
    "police_officers = pd.read_html('https://www.governing.com/gov-data/safety-justice/police-officers-per-capita-rates-employment-for-city-departments.html')\n",
    "police_officers[2].to_csv('police_officers.csv')"
   ]
  },
  {
   "cell_type": "code",
   "execution_count": 12,
   "metadata": {},
   "outputs": [],
   "source": [
    "df = pd.read_csv('fatal_encounters_cl.csv')"
   ]
  },
  {
   "cell_type": "code",
   "execution_count": 13,
   "metadata": {},
   "outputs": [],
   "source": [
    "# spending on police by state\n",
    "spending = spending.replace({\"DC\":\"District Of Columbia\"})[~spending.State.str.contains(\"Data may be unavailable for some years\")]\n",
    "spending = pd.merge(state_abr.append({'name': 'United States', 'abbreviation': 'United States'}, ignore_index=True), spending, \n",
    "                    left_on='name', right_on='State', how='right')\n",
    "\n",
    "spending['police_exp'] = pd.to_numeric(spending['(E019) Police & Fire Protection-Dir Exp'].str[1:]) + pd.to_numeric(spending['(E087) Police Prot-Direct Exp'].str[1:]) + pd.to_numeric(spending['(E088) Police Prot-Cur Oper (E62)'].str[1:]) + pd.to_numeric(spending['(E089) Police Prot-Cap Outlay'].str[1:])\n",
    "spending = spending[['abbreviation', 'Year', 'police_exp']]\n",
    "# spending = spending.drop(columns=[\"name\", \"State\"])\n",
    "# spending['State'][spending['State']!= 'United States'] = spending['State'] + \", \" + spending['abbreviation']"
   ]
  },
  {
   "cell_type": "code",
   "execution_count": 66,
   "metadata": {},
   "outputs": [
    {
     "name": "stderr",
     "output_type": "stream",
     "text": [
      "C:\\Users\\Leonardo\\Anaconda3\\lib\\site-packages\\ipykernel_launcher.py:8: SettingWithCopyWarning: \n",
      "A value is trying to be set on a copy of a slice from a DataFrame\n",
      "\n",
      "See the caveats in the documentation: https://pandas.pydata.org/pandas-docs/stable/user_guide/indexing.html#returning-a-view-versus-a-copy\n",
      "  \n",
      "C:\\Users\\Leonardo\\Anaconda3\\lib\\site-packages\\ipykernel_launcher.py:9: SettingWithCopyWarning: \n",
      "A value is trying to be set on a copy of a slice from a DataFrame\n",
      "\n",
      "See the caveats in the documentation: https://pandas.pydata.org/pandas-docs/stable/user_guide/indexing.html#returning-a-view-versus-a-copy\n",
      "  if __name__ == '__main__':\n",
      "C:\\Users\\Leonardo\\Anaconda3\\lib\\site-packages\\ipykernel_launcher.py:13: SettingWithCopyWarning: \n",
      "A value is trying to be set on a copy of a slice from a DataFrame.\n",
      "Try using .loc[row_indexer,col_indexer] = value instead\n",
      "\n",
      "See the caveats in the documentation: https://pandas.pydata.org/pandas-docs/stable/user_guide/indexing.html#returning-a-view-versus-a-copy\n",
      "  del sys.path[0]\n"
     ]
    }
   ],
   "source": [
    "# compute majority party by city\n",
    "votes = votes[votes['year'] == 2016]\n",
    "votes['county'] = votes['county'] + \", \" + votes['state_po']\n",
    "votes = votes[['county', 'party', 'candidatevotes']].dropna()\n",
    "\n",
    "votes = votes.pivot_table(index = 'county', columns='party', values='candidatevotes').reset_index()\n",
    "votes['party'] = \"r\"\n",
    "votes['party'][votes['democrat']>votes['republican']] = 'blue'\n",
    "votes['party'][votes['democrat']<votes['republican']] = 'red'\n",
    "votes = votes[['county', 'party']].dropna()\n",
    "\n",
    "city_key = pop[['city', 'county_name', 'state_id']]\n",
    "city_key['city'], city_key['county_name'] = city_key[\"city\"] + \", \" + city_key[\"state_id\"], city_key[\"county_name\"] + \", \" + city_key[\"state_id\"]\n",
    "votes = pd.merge(votes, city_key, left_on='county', right_on='county_name', how='left')\n",
    "votes = votes[['city', 'party']].dropna()\n",
    "\n",
    "# police officers by city\n",
    "police_officers = pd.merge(police_officers, state_abr, left_on='State', right_on='name')\n",
    "police_officers['city'] = police_officers['City'] + \", \" + police_officers['abbreviation']\n",
    "police_officers = police_officers[['city', 'Total Officers']]\n",
    "\n",
    "df = df[[\"Subject's name\", \"Subject's age\", \"Subject's race\", \"Subject's gender\", \n",
    "         \"Date of injury resulting in death (month/day/year)\", \n",
    "         \"Latitude\", \"Longitude\", \"Date (Year)\", \"Location of death (city)\", \"Location of death (state)\"]]"
   ]
  },
  {
   "cell_type": "code",
   "execution_count": 66,
   "metadata": {},
   "outputs": [],
   "source": [
    "# # group by everything, month\n",
    "# df['death_count'] = 1 \n",
    "\n",
    "# df['month'] = df['Date of injury resulting in death (month/day/year)'].str[:2]\n",
    "\n",
    "# df['month_year'] = df['month'].astype('str') + \"/\" + df['Date (Year)'].astype('str')\n",
    "\n",
    "# df = df.groupby(\"month_year\").agg(\n",
    "#     { \"Latitude\": \"mean\", \"Longitude\": \"mean\", \"death_count\": \"sum\", \"Date (Year)\": \"mean\"}).reset_index()"
   ]
  },
  {
   "cell_type": "code",
   "execution_count": 21,
   "metadata": {},
   "outputs": [],
   "source": [
    "# # group by race, month\n",
    "# df['death_count'] = 1 \n",
    "\n",
    "# df['month'] = df['Date of injury resulting in death (month/day/year)'].str[:2]\n",
    "\n",
    "# df['month_year'] = df['month'].astype('str') + \"/\" + df['Date (Year)'].astype('str')\n",
    "\n",
    "# df['Location of death (city)'] = df['Location of death (city)'].astype('str') + \" city\"\n",
    "\n",
    "# df_month = df.groupby([\"month_year\", \"Subject's race\"]).agg(\n",
    "#     { \"Latitude\": \"mean\", \"Longitude\": \"mean\", \"death_count\": \"sum\", \"Date (Year)\": \"mean\"}).reset_index()\n",
    "\n",
    "# df = df.groupby([\"Date (Year)\", \"Subject's race\"]).agg(\n",
    "#     { \"Latitude\": \"mean\", \"Longitude\": \"mean\", \"death_count\": \"sum\"}).reset_index()"
   ]
  },
  {
   "cell_type": "code",
   "execution_count": 67,
   "metadata": {},
   "outputs": [],
   "source": [
    "# group by race, month, county\n",
    "\n",
    "pop['city'] = pop['city'] + \", \" + pop['state_id']\n",
    "pop = pop[['city', 'population']]\n",
    "\n",
    "df[\"Location of death (city)\"] = df[\"Location of death (city)\"] + \", \" + df[\"Location of death (state)\"]\n",
    "\n",
    "df = pd.merge(df, pop, left_on='Location of death (city)', right_on='city')\n",
    "\n",
    "police_officers = pd.merge(police_officers, pop, left_on='city', right_on='city')\n",
    "\n",
    "# df = df[df['population']!=0][df['population']>100000]\n",
    "\n",
    "df['death_count'] = 1 \n",
    "\n",
    "df['month'] = df['Date of injury resulting in death (month/day/year)'].str[:2]\n",
    "\n",
    "df['month_year'] = df['month'].astype('str') + \"/\" + df['Date (Year)'].astype('str')\n",
    "\n",
    "df_month = df.groupby([\"month_year\", \"Subject's race\", \"Location of death (city)\"]).agg(\n",
    "    { \"Latitude\": \"mean\", \"Longitude\": \"mean\", \"death_count\": \"sum\", \"Date (Year)\": \"mean\"}).reset_index()\n",
    "\n",
    "# Aggregated Line chart by race\n",
    "# df = df.groupby([\"Date (Year)\", \"Subject's race\", \"Location of death (county)\"]).agg(\n",
    "#     { \"Latitude\": \"mean\", \"Longitude\": \"mean\", \"death_count\": \"sum\"}).reset_index()\n",
    "\n",
    "df = df.groupby([\"Date (Year)\", \"Location of death (city)\"]).agg(\n",
    "    { \"Latitude\": \"mean\", \"Longitude\": \"mean\", \"death_count\": \"sum\", \"population\": \"mean\"}).reset_index()\n",
    "\n",
    "# compute total for United States\n",
    "us_tot = df.groupby(\"Date (Year)\").agg(\n",
    "    { \"Latitude\": \"mean\", \"Longitude\": \"mean\", \"death_count\": \"sum\"}).reset_index()\n",
    "us_tot['population'] = np.append(np.array(us_pop[us_pop['DATE']>'1999-01-01']['POPTOTUSA647NWDB']), 0)\n",
    "us_tot['Location of death (city)'] = 'United States'\n",
    "\n",
    "# police officers\n",
    "# df = pd.merge(df, police_officers, left_on='Location of death (city)', right_on='city')\n",
    "# df['population'] = df['population_x']\n",
    "# df = df.drop(columns=['population_x', 'population_y', 'city'])\n",
    "\n",
    "df = df.append(us_tot)\n",
    "\n",
    "df['death_hthou'] = df['death_count']/df['population']*1000000\n",
    "police_officers['police_hthou'] = police_officers['Total Officers']/police_officers['population']*1000000"
   ]
  },
  {
   "cell_type": "markdown",
   "metadata": {},
   "source": [
    "### normalized map\n"
   ]
  },
  {
   "cell_type": "code",
   "execution_count": 70,
   "metadata": {},
   "outputs": [],
   "source": [
    "# by year\n",
    "\n",
    "df[[\"Latitude\", \"Longitude\",\"death_count\", \"death_hthou\"]] = df[[\"Latitude\", \"Longitude\",\"death_count\", \"death_hthou\"]].apply(pd.to_numeric)\n",
    "\n",
    "\n",
    "\n",
    "df = df.groupby([\"Location of death (city)\", \"Date (Year)\"]).agg(\n",
    "    { \"Latitude\": \"mean\", \"Longitude\": \"mean\", \"death_count\": \"sum\", \"death_hthou\": \"mean\", \"population\":\"mean\"}).reset_index()\n",
    "\n",
    "df.columns = [\"county\", \"date\", \"Latitude\", \"Longitude\",\"death_count\", \"population\", \"death_hthou\"]"
   ]
  },
  {
   "cell_type": "code",
   "execution_count": 73,
   "metadata": {},
   "outputs": [],
   "source": [
    "df.to_csv(\"data/citiesYearDeathsHT.csv\")"
   ]
  },
  {
   "cell_type": "code",
   "execution_count": null,
   "metadata": {},
   "outputs": [],
   "source": []
  },
  {
   "cell_type": "code",
   "execution_count": null,
   "metadata": {},
   "outputs": [],
   "source": []
  },
  {
   "cell_type": "markdown",
   "metadata": {},
   "source": [
    "### Small Multiples"
   ]
  },
  {
   "cell_type": "code",
   "execution_count": 434,
   "metadata": {},
   "outputs": [],
   "source": [
    "# for small multiples\n",
    "df = df[df['Date (Year)'].isin([2000, 2010, 2019])].drop(['Latitude', 'Longitude'], axis=1).pivot(index = 'Location of death (city)', columns='Date (Year)', \n",
    "         values='death_hthou').reset_index().rename(columns = {'Date (Year)': 'date', \n",
    "                                                                    'Location of death (city)': 'county'}).dropna(subset=[2000, 2019])\n",
    "\n",
    "# df = df.drop(['Latitude', 'Longitude'], axis=1).pivot(index = 'Location of death (city)', columns='Date (Year)', \n",
    "#          values='death_hthou').reset_index().rename(columns = {'Date (Year)': 'date', \n",
    "#                                                                     'Location of death (city)': 'county'}).dropna(subset=[2000, 2019])\n",
    "\n",
    "df['change'] = df[2019] - df[2000]\n",
    "df['%_change'] = ((df[2019] - df[2000])/df[2000])*100\n",
    "\n",
    "\n",
    "## Sort by % change\n",
    "df_most = df.sort_values('%_change', ascending=False).head(20).append(df[df['county']=='United States'])\n",
    "df_least = df.sort_values('%_change', ascending=True).head(20).append(df[df['county']=='United States'])\n",
    "\n",
    "# Sort by number of Officers\n",
    "\n",
    "df_most = pd.melt(df_most, id_vars = ['county', '%_change'], value_vars=[2000, 2010, 2019]).rename(columns = {'county': 'city', \n",
    "                                                                    'Date (Year)': 'year'})\n",
    "\n",
    "df_least = pd.melt(df_least, id_vars = ['county', '%_change'], value_vars=[2000, 2010, 2019]).rename(columns = {'county': 'city', \n",
    "                                                                    'Date (Year)': 'year'})\n",
    "\n",
    "\n",
    "\n",
    "df_most.to_csv('deaths_by_city_sm_most.csv')\n",
    "df_least.to_csv('deaths_by_city_sm_least.csv')"
   ]
  },
  {
   "cell_type": "markdown",
   "metadata": {},
   "source": [
    "### Pick Up Here!"
   ]
  },
  {
   "cell_type": "markdown",
   "metadata": {},
   "source": [
    "### Police officers by City"
   ]
  },
  {
   "cell_type": "code",
   "execution_count": 42,
   "metadata": {},
   "outputs": [],
   "source": [
    "years = np.arange(2000, 2020) #[2000, 2010, 2019] #np.arange(2000, 2020)\n",
    "chart_wanted = \"SC\" # SM for small multiples and SC for scatter\n",
    "\n",
    "# for scatter plot and small multiples by police officers\n",
    "df = df[df['Date (Year)'].isin(years)].drop(['Latitude', 'Longitude'], axis=1).pivot(index = 'Location of death (city)', columns='Date (Year)', \n",
    "         values='death_hthou').reset_index().rename(columns = {'Date (Year)': 'date', \n",
    "                                                                    'Location of death (city)': 'county'}).dropna(subset=[2000])\n",
    "\n",
    "# df = df.drop(['Latitude', 'Longitude'], axis=1).pivot(index = 'Location of death (city)', columns='Date (Year)', \n",
    "#          values='death_hthou').reset_index().rename(columns = {'Date (Year)': 'date', \n",
    "#                                                                     'Location of death (city)': 'county'}).dropna(subset=[2000, 2019])\n",
    "\n",
    "df['change'] = df[years[-1]] - df[years[0]]\n",
    "df['%_change'] = ((df[years[-1]] - df[years[0]])/df[years[0]])*100\n",
    "\n",
    "if chart_wanted == \"SC\":\n",
    "    df = pd.merge(df, police_officers, left_on='county', right_on='city').drop('city', axis=1).append(df[df['county']=='United States'])\n",
    "\n",
    "    df = df[df['county']!='Newark, NJ']\n",
    "\n",
    "## Sort by % change\n",
    "    df_most = df.sort_values('police_hthou', ascending=False).head(20).append(df[df['county']=='United States'])\n",
    "    df_least = df.sort_values('police_hthou', ascending=True).head(20).append(df[df['county']=='United States'])\n",
    "\n",
    "    df_most = pd.melt(df_most, id_vars = ['county', '%_change'], value_vars=years).rename(columns = {'county': 'city', \n",
    "                                                                        'variable': 'year'})\n",
    "\n",
    "    df_least = pd.melt(df_least, id_vars = ['county', '%_change'], value_vars=years).rename(columns = {'county': 'city', \n",
    "                                                                        'variable': 'year'})\n",
    "\n",
    "# df.columns = df.columns.astype('str')\n",
    "\n",
    "# party\n",
    "df_votes = pd.merge(df, votes, left_on='county', right_on='city', how='inner')#.drop('county', axis=1)\n",
    "\n",
    "if chart_wanted == \"SM\":\n",
    "    df_party = pd.merge(df_votes, pop, on='city')\n",
    "    df_red = df_party[df_party['party']=='red'].sort_values('population', ascending=False).dropna().head(20)\n",
    "    df_blue = df_party[df_party['party']=='blue'].sort_values('population', ascending=False).dropna().head(20)\n",
    "    df_party = df_red.append(df_blue).sort_values('population', ascending=False).drop('population', axis = 1)\n",
    "    \n",
    "# sort by party\n",
    "df_party = pd.melt(df_party.append(df[df['county']=='United States']), id_vars = ['county', '%_change', 'party'], \n",
    "                                   value_vars=years).rename(columns = {'county': 'city','variable': 'year'})\n",
    "\n",
    "\n",
    "df_votes = df_votes.drop('county', axis=1)\n",
    "# df_votes.columns = ['d_2000', 'd_2010', 'd_2019', 'change', '%_change', 'Total Officers', 'population', 'police_hthou', 'city', 'party']\n",
    "\n",
    "# df_votes.to_csv('deaths_vs_officers.csv')\n",
    "# df_most.to_csv('deaths_by_city_sm_mostp_ty.csv')\n",
    "# df_least.to_csv('deaths_by_city_sm_leastp_line_ty.csv')\n",
    "# df_party.to_csv('death_by_city_party.csv')"
   ]
  },
  {
   "cell_type": "code",
   "execution_count": 9,
   "metadata": {},
   "outputs": [],
   "source": [
    "# df_party = pd.merge(df_votes, pop, on='city')\n",
    "# df_red = df_party[df_party['party']=='red'].sort_values('population', ascending=False).dropna().head(10)\n",
    "# df_blue = df_party[df_party['party']=='blue'].sort_values('population', ascending=False).dropna().head(10)\n",
    "# df_party = df_red.append(df_blue).sort_values('population', ascending=False).drop('population', axis = 1)\n"
   ]
  },
  {
   "cell_type": "markdown",
   "metadata": {},
   "source": [
    "### Aggregated party over time"
   ]
  },
  {
   "cell_type": "code",
   "execution_count": 18,
   "metadata": {},
   "outputs": [],
   "source": [
    "import seaborn as sns\n",
    "df_party_agg = df_party.groupby(['year', 'party']).mean().reset_index()\n",
    "sns.lineplot(data = df_party, x = 'year', y='value', hue='party')"
   ]
  },
  {
   "cell_type": "code",
   "execution_count": 24,
   "metadata": {},
   "outputs": [],
   "source": [
    "# df_party_agg = df_party_agg.pivot(index = 'year', columns='party', \n",
    "#          values='value').reset_index()\n",
    "\n",
    "df_party_agg.to_csv('death_by_city_party_agg.csv')"
   ]
  },
  {
   "cell_type": "code",
   "execution_count": 25,
   "metadata": {},
   "outputs": [
    {
     "data": {
      "text/html": [
       "<div>\n",
       "<style scoped>\n",
       "    .dataframe tbody tr th:only-of-type {\n",
       "        vertical-align: middle;\n",
       "    }\n",
       "\n",
       "    .dataframe tbody tr th {\n",
       "        vertical-align: top;\n",
       "    }\n",
       "\n",
       "    .dataframe thead th {\n",
       "        text-align: right;\n",
       "    }\n",
       "</style>\n",
       "<table border=\"1\" class=\"dataframe\">\n",
       "  <thead>\n",
       "    <tr style=\"text-align: right;\">\n",
       "      <th>party</th>\n",
       "      <th>year</th>\n",
       "      <th>blue</th>\n",
       "      <th>red</th>\n",
       "    </tr>\n",
       "  </thead>\n",
       "  <tbody>\n",
       "    <tr>\n",
       "      <th>0</th>\n",
       "      <td>2000</td>\n",
       "      <td>1.940851</td>\n",
       "      <td>4.378451</td>\n",
       "    </tr>\n",
       "    <tr>\n",
       "      <th>1</th>\n",
       "      <td>2001</td>\n",
       "      <td>1.931301</td>\n",
       "      <td>5.713283</td>\n",
       "    </tr>\n",
       "    <tr>\n",
       "      <th>2</th>\n",
       "      <td>2002</td>\n",
       "      <td>2.141052</td>\n",
       "      <td>3.257630</td>\n",
       "    </tr>\n",
       "    <tr>\n",
       "      <th>3</th>\n",
       "      <td>2003</td>\n",
       "      <td>2.204077</td>\n",
       "      <td>4.517799</td>\n",
       "    </tr>\n",
       "    <tr>\n",
       "      <th>4</th>\n",
       "      <td>2004</td>\n",
       "      <td>2.070590</td>\n",
       "      <td>6.953844</td>\n",
       "    </tr>\n",
       "    <tr>\n",
       "      <th>5</th>\n",
       "      <td>2005</td>\n",
       "      <td>2.346532</td>\n",
       "      <td>4.279265</td>\n",
       "    </tr>\n",
       "    <tr>\n",
       "      <th>6</th>\n",
       "      <td>2006</td>\n",
       "      <td>2.591513</td>\n",
       "      <td>4.354105</td>\n",
       "    </tr>\n",
       "    <tr>\n",
       "      <th>7</th>\n",
       "      <td>2007</td>\n",
       "      <td>2.724241</td>\n",
       "      <td>4.204137</td>\n",
       "    </tr>\n",
       "    <tr>\n",
       "      <th>8</th>\n",
       "      <td>2008</td>\n",
       "      <td>2.499382</td>\n",
       "      <td>5.272696</td>\n",
       "    </tr>\n",
       "    <tr>\n",
       "      <th>9</th>\n",
       "      <td>2009</td>\n",
       "      <td>2.412901</td>\n",
       "      <td>3.833319</td>\n",
       "    </tr>\n",
       "    <tr>\n",
       "      <th>10</th>\n",
       "      <td>2010</td>\n",
       "      <td>2.750540</td>\n",
       "      <td>6.534883</td>\n",
       "    </tr>\n",
       "    <tr>\n",
       "      <th>11</th>\n",
       "      <td>2011</td>\n",
       "      <td>2.652419</td>\n",
       "      <td>7.435535</td>\n",
       "    </tr>\n",
       "    <tr>\n",
       "      <th>12</th>\n",
       "      <td>2012</td>\n",
       "      <td>2.520310</td>\n",
       "      <td>6.617658</td>\n",
       "    </tr>\n",
       "    <tr>\n",
       "      <th>13</th>\n",
       "      <td>2013</td>\n",
       "      <td>3.246554</td>\n",
       "      <td>7.635489</td>\n",
       "    </tr>\n",
       "    <tr>\n",
       "      <th>14</th>\n",
       "      <td>2014</td>\n",
       "      <td>3.025975</td>\n",
       "      <td>7.847961</td>\n",
       "    </tr>\n",
       "    <tr>\n",
       "      <th>15</th>\n",
       "      <td>2015</td>\n",
       "      <td>2.970188</td>\n",
       "      <td>6.721948</td>\n",
       "    </tr>\n",
       "    <tr>\n",
       "      <th>16</th>\n",
       "      <td>2016</td>\n",
       "      <td>2.474564</td>\n",
       "      <td>7.502888</td>\n",
       "    </tr>\n",
       "    <tr>\n",
       "      <th>17</th>\n",
       "      <td>2017</td>\n",
       "      <td>2.436564</td>\n",
       "      <td>7.881906</td>\n",
       "    </tr>\n",
       "    <tr>\n",
       "      <th>18</th>\n",
       "      <td>2018</td>\n",
       "      <td>3.107265</td>\n",
       "      <td>10.358397</td>\n",
       "    </tr>\n",
       "    <tr>\n",
       "      <th>19</th>\n",
       "      <td>2019</td>\n",
       "      <td>2.668994</td>\n",
       "      <td>6.477675</td>\n",
       "    </tr>\n",
       "  </tbody>\n",
       "</table>\n",
       "</div>"
      ],
      "text/plain": [
       "party  year      blue        red\n",
       "0      2000  1.940851   4.378451\n",
       "1      2001  1.931301   5.713283\n",
       "2      2002  2.141052   3.257630\n",
       "3      2003  2.204077   4.517799\n",
       "4      2004  2.070590   6.953844\n",
       "5      2005  2.346532   4.279265\n",
       "6      2006  2.591513   4.354105\n",
       "7      2007  2.724241   4.204137\n",
       "8      2008  2.499382   5.272696\n",
       "9      2009  2.412901   3.833319\n",
       "10     2010  2.750540   6.534883\n",
       "11     2011  2.652419   7.435535\n",
       "12     2012  2.520310   6.617658\n",
       "13     2013  3.246554   7.635489\n",
       "14     2014  3.025975   7.847961\n",
       "15     2015  2.970188   6.721948\n",
       "16     2016  2.474564   7.502888\n",
       "17     2017  2.436564   7.881906\n",
       "18     2018  3.107265  10.358397\n",
       "19     2019  2.668994   6.477675"
      ]
     },
     "execution_count": 25,
     "metadata": {},
     "output_type": "execute_result"
    }
   ],
   "source": [
    "df_party_agg"
   ]
  },
  {
   "cell_type": "markdown",
   "metadata": {},
   "source": [
    "### Per Capita Police Spending by City"
   ]
  },
  {
   "cell_type": "code",
   "execution_count": 422,
   "metadata": {},
   "outputs": [],
   "source": [
    "df['state'] = df['city'].str.split(', ').str[1]\n",
    "\n",
    "df = pd.merge(df, spending[spending['Year']=='2017'], left_on='state', right_on='abbreviation').drop(['Year', 'abbreviation'], axis=1)"
   ]
  },
  {
   "cell_type": "code",
   "execution_count": 434,
   "metadata": {},
   "outputs": [
    {
     "data": {
      "text/plain": [
       "<matplotlib.axes._subplots.AxesSubplot at 0x1502b1adb70>"
      ]
     },
     "execution_count": 434,
     "metadata": {},
     "output_type": "execute_result"
    },
    {
     "data": {
      "image/png": "[encoded data removed]",
      "text/plain": [
       "<Figure size 432x288 with 1 Axes>"
      ]
     },
     "metadata": {
      "needs_background": "light"
     },
     "output_type": "display_data"
    }
   ],
   "source": [
    "import seaborn as sns\n",
    "sns.regplot(data = df, x='police_exp', y='d_2000')"
   ]
  },
  {
   "cell_type": "code",
   "execution_count": 60,
   "metadata": {},
   "outputs": [
    {
     "data": {
      "text/plain": [
       "<matplotlib.axes._subplots.AxesSubplot at 0x2572d170828>"
      ]
     },
     "execution_count": 60,
     "metadata": {},
     "output_type": "execute_result"
    },
    {
     "data": {
      "image/png": "[encoded data removed]",
      "text/plain": [
       "<Figure size 432x288 with 1 Axes>"
      ]
     },
     "metadata": {
      "needs_background": "light"
     },
     "output_type": "display_data"
    }
   ],
   "source": [
    "import seaborn as sns\n",
    "sns.regplot(data = df[df['county']!='Newark, NJ'], x='police_hthou', y=df[2019])"
   ]
  },
  {
   "cell_type": "code",
   "execution_count": 315,
   "metadata": {},
   "outputs": [],
   "source": [
    "# for small multiples all data points\n",
    "# df = df[df['Date (Year)'].isin([2000, 2010, 2019])].drop(['Latitude', 'Longitude'], axis=1).pivot(index = 'Location of death (city)', columns='Date (Year)', \n",
    "#          values='death_hthou').reset_index().rename(columns = {'Date (Year)': 'date', \n",
    "#                                                                     'Location of death (city)': 'county'}).dropna()\n",
    "\n",
    "df = df.drop(['Latitude', 'Longitude'], axis=1).pivot(index = 'Location of death (city)', columns='Date (Year)', \n",
    "         values='death_hthou').reset_index().rename(columns = {'Date (Year)': 'date', \n",
    "                                                                    'Location of death (city)': 'county'}).dropna(subset=[2000, 2019])\n",
    "\n",
    "df['change'] = df[2019] - df[2000]\n",
    "df['%_change'] = ((df[2019] - df[2000])/df[2000])*100\n",
    "\n",
    "df_most = df.sort_values('%_change', ascending=False).head(20).append(df[df['county']=='United States'])\n",
    "df_least = df.sort_values('%_change', ascending=True).head(20).append(df[df['county']=='United States'])\n",
    "\n",
    "# df_most = pd.melt(df_most, id_vars = ['county', '%_change'], value_vars=list(np.arange(2000, 2020))).rename(columns = {'county': 'city', \n",
    "#                                                                     'Date (Year)': 'year'})\n",
    "\n",
    "# df_least = pd.melt(df_least, id_vars = ['county', '%_change'], value_vars=list(np.arange(2000, 2020))).rename(columns = {'county': 'city', \n",
    "#                                                                     'Date (Year)': 'year'})\n",
    "\n",
    "# df_most.to_csv('deaths_by_city_sm_most.csv')\n",
    "# df_least.to_csv('deaths_by_city_sm_least.csv')"
   ]
  },
  {
   "cell_type": "code",
   "execution_count": 8,
   "metadata": {},
   "outputs": [],
   "source": [
    "# for scatter plot and small multiples by police officers all data points\n",
    "df = df.drop(['Latitude', 'Longitude'], axis=1).pivot(index = 'Location of death (city)', columns='Date (Year)', \n",
    "         values='death_hthou').reset_index().rename(columns = {'Date (Year)': 'date', \n",
    "                                                                    'Location of death (city)': 'county'}).dropna(subset=[2000, 2019])\n",
    "\n",
    "# df = df.drop(['Latitude', 'Longitude'], axis=1).pivot(index = 'Location of death (city)', columns='Date (Year)', \n",
    "#          values='death_hthou').reset_index().rename(columns = {'Date (Year)': 'date', \n",
    "#                                                                     'Location of death (city)': 'county'}).dropna(subset=[2000, 2019])\n",
    "\n",
    "df['change'] = df[2019] - df[2000]\n",
    "df['%_change'] = ((df[2019] - df[2000])/df[2000])*100\n",
    "\n",
    "df = pd.merge(df, police_officers, left_on='county', right_on='city').drop('city', axis=1).append(df[df['county']=='United States'])\n",
    "\n",
    "df = df[df['county']!='Newark, NJ']\n",
    "df = df[df['county']!='Bakersfield, CA']\n",
    "\n",
    "## Sort by % change\n",
    "df_most = df.sort_values('police_hthou', ascending=False).head(20).append(df[df['county']=='United States'])\n",
    "df_least = df.sort_values('police_hthou', ascending=True).head(20).append(df[df['county']=='United States'])\n",
    "\n",
    "# Sort by number of Officers\n",
    "\n",
    "df_most = pd.melt(df_most, id_vars = ['county', '%_change'], value_vars=list(np.arange(2000, 2020))).rename(columns = {'county': 'city', \n",
    "                                                                    'variable': 'year'})\n",
    "\n",
    "df_least = pd.melt(df_least, id_vars = ['county', '%_change'], value_vars=list(np.arange(2000, 2020))).rename(columns = {'county': 'city', \n",
    "                                                                    'variable': 'year'})\n",
    "\n",
    "df.columns = ['']\n",
    "\n",
    "df.to_csv('deaths_vs_officers.csv')\n",
    "# df_most.to_csv('deaths_by_city_sm_mostp_all.csv')\n",
    "# df_least.to_csv('deaths_by_city_sm_leastp_all.csv')"
   ]
  },
  {
   "cell_type": "code",
   "execution_count": null,
   "metadata": {},
   "outputs": [],
   "source": []
  },
  {
   "cell_type": "code",
   "execution_count": null,
   "metadata": {},
   "outputs": [],
   "source": []
  },
  {
   "cell_type": "code",
   "execution_count": null,
   "metadata": {},
   "outputs": [],
   "source": []
  },
  {
   "cell_type": "code",
   "execution_count": null,
   "metadata": {},
   "outputs": [],
   "source": []
  },
  {
   "cell_type": "code",
   "execution_count": null,
   "metadata": {},
   "outputs": [],
   "source": []
  },
  {
   "cell_type": "code",
   "execution_count": null,
   "metadata": {},
   "outputs": [],
   "source": []
  },
  {
   "cell_type": "code",
   "execution_count": null,
   "metadata": {},
   "outputs": [],
   "source": []
  },
  {
   "cell_type": "code",
   "execution_count": null,
   "metadata": {},
   "outputs": [],
   "source": []
  },
  {
   "cell_type": "code",
   "execution_count": null,
   "metadata": {},
   "outputs": [],
   "source": []
  },
  {
   "cell_type": "code",
   "execution_count": null,
   "metadata": {},
   "outputs": [],
   "source": []
  },
  {
   "cell_type": "code",
   "execution_count": null,
   "metadata": {},
   "outputs": [],
   "source": []
  },
  {
   "cell_type": "code",
   "execution_count": null,
   "metadata": {},
   "outputs": [],
   "source": []
  },
  {
   "cell_type": "code",
   "execution_count": null,
   "metadata": {},
   "outputs": [],
   "source": []
  },
  {
   "cell_type": "code",
   "execution_count": 22,
   "metadata": {},
   "outputs": [],
   "source": [
    "df[\"Subject's race\"].unique()\n",
    "df = df[df[\"Subject's race\"].isin(['African-American/Black', 'Hispanic/Latino', 'European-American/White'])]\n",
    "\n",
    "df_month[\"Subject's race\"].unique()\n",
    "df_month = df_month[df_month[\"Subject's race\"].isin(['African-American/Black', 'Hispanic/Latino', 'European-American/White'])]"
   ]
  },
  {
   "cell_type": "code",
   "execution_count": 23,
   "metadata": {},
   "outputs": [],
   "source": [
    "# df['race_pop'][df[\"Subject's race\"]==\"African-American/Black\"][df[\"Date (Year)\"]==2000]\n",
    "# df['race_pop'][df[\"Subject's race\"]==\"African-American/Black\"][df[\"Date (Year)\"]==2000]\n",
    "# df['race_pop'][df[\"Subject's race\"]==\"African-American/Black\"][df[\"Date (Year)\"]==2000]"
   ]
  },
  {
   "cell_type": "code",
   "execution_count": 25,
   "metadata": {},
   "outputs": [],
   "source": [
    "import seaborn as sns\n",
    "# df['month_year'] = pd.to_datetime(df['month_year']) \n",
    "df['race_pop'] = 0\n",
    "\n",
    "df['race_pop'][df[\"Subject's race\"]==\"African-American/Black\"] = 44080000\n",
    "df['race_pop'][df[\"Subject's race\"]=='European-American/White'] = 250520000\n",
    "df['race_pop'][df[\"Subject's race\"]=='Hispanic/Latino'] = 52000000\n",
    "\n",
    "df_month['race_pop'] = 0\n",
    "\n",
    "df_month['race_pop'][df_month[\"Subject's race\"]==\"African-American/Black\"] = 44080000\n",
    "df_month['race_pop'][df_month[\"Subject's race\"]=='European-American/White'] = 250520000\n",
    "df_month['race_pop'][df_month[\"Subject's race\"]=='Hispanic/Latino'] = 52000000"
   ]
  },
  {
   "cell_type": "code",
   "execution_count": 30,
   "metadata": {},
   "outputs": [],
   "source": [
    "df['deaths_hThousands'] = df['death_count']/df['race_pop']*1000000\n",
    "df = df[df[\"Date (Year)\"]<2020]\n",
    "df['pop_prop'] = df['race_pop']/328200000\n",
    "df.columns = [\"date\", \"race\", 'Latitude', 'Longitude', 'death_count', 'race_pop', 'deaths_thousands', 'pop_prop']\n",
    "df = df[[\"date\", \"race\", 'death_count', 'race_pop', 'deaths_thousands', 'pop_prop']]\n",
    "\n",
    "df_month['deaths_hThousands'] = df_month['death_count']/df_month['race_pop']*1000000\n",
    "df_month = df_month[df_month[\"Date (Year)\"]<2020]\n",
    "df_month['pop_prop'] = df_month['race_pop']/328200000\n",
    "df_month = df_month.drop('Date (Year)', axis=1)\n",
    "df_month.columns = [\"date\", \"race\", 'Latitude', 'Longitude', 'death_count', 'race_pop', 'deaths_thousands', 'pop_prop']\n",
    "df_month = df_month[[\"date\", \"race\", 'death_count', 'race_pop', 'deaths_thousands', 'pop_prop']]"
   ]
  },
  {
   "cell_type": "code",
   "execution_count": 31,
   "metadata": {},
   "outputs": [
    {
     "data": {
      "text/html": [
       "<div>\n",
       "<style scoped>\n",
       "    .dataframe tbody tr th:only-of-type {\n",
       "        vertical-align: middle;\n",
       "    }\n",
       "\n",
       "    .dataframe tbody tr th {\n",
       "        vertical-align: top;\n",
       "    }\n",
       "\n",
       "    .dataframe thead th {\n",
       "        text-align: right;\n",
       "    }\n",
       "</style>\n",
       "<table border=\"1\" class=\"dataframe\">\n",
       "  <thead>\n",
       "    <tr style=\"text-align: right;\">\n",
       "      <th></th>\n",
       "      <th>date</th>\n",
       "      <th>race</th>\n",
       "      <th>death_count</th>\n",
       "      <th>race_pop</th>\n",
       "      <th>deaths_thousands</th>\n",
       "      <th>pop_prop</th>\n",
       "    </tr>\n",
       "  </thead>\n",
       "  <tbody>\n",
       "    <tr>\n",
       "      <th>0</th>\n",
       "      <td>01/2000</td>\n",
       "      <td>African-American/Black</td>\n",
       "      <td>13</td>\n",
       "      <td>44080000</td>\n",
       "      <td>0.294918</td>\n",
       "      <td>0.134308</td>\n",
       "    </tr>\n",
       "    <tr>\n",
       "      <th>2</th>\n",
       "      <td>01/2000</td>\n",
       "      <td>European-American/White</td>\n",
       "      <td>16</td>\n",
       "      <td>250520000</td>\n",
       "      <td>0.063867</td>\n",
       "      <td>0.763315</td>\n",
       "    </tr>\n",
       "    <tr>\n",
       "      <th>3</th>\n",
       "      <td>01/2000</td>\n",
       "      <td>Hispanic/Latino</td>\n",
       "      <td>5</td>\n",
       "      <td>52000000</td>\n",
       "      <td>0.096154</td>\n",
       "      <td>0.158440</td>\n",
       "    </tr>\n",
       "    <tr>\n",
       "      <th>6</th>\n",
       "      <td>01/2001</td>\n",
       "      <td>African-American/Black</td>\n",
       "      <td>8</td>\n",
       "      <td>44080000</td>\n",
       "      <td>0.181488</td>\n",
       "      <td>0.134308</td>\n",
       "    </tr>\n",
       "    <tr>\n",
       "      <th>8</th>\n",
       "      <td>01/2001</td>\n",
       "      <td>European-American/White</td>\n",
       "      <td>6</td>\n",
       "      <td>250520000</td>\n",
       "      <td>0.023950</td>\n",
       "      <td>0.763315</td>\n",
       "    </tr>\n",
       "    <tr>\n",
       "      <th>...</th>\n",
       "      <td>...</td>\n",
       "      <td>...</td>\n",
       "      <td>...</td>\n",
       "      <td>...</td>\n",
       "      <td>...</td>\n",
       "      <td>...</td>\n",
       "    </tr>\n",
       "    <tr>\n",
       "      <th>1364</th>\n",
       "      <td>12/2018</td>\n",
       "      <td>European-American/White</td>\n",
       "      <td>51</td>\n",
       "      <td>250520000</td>\n",
       "      <td>0.203577</td>\n",
       "      <td>0.763315</td>\n",
       "    </tr>\n",
       "    <tr>\n",
       "      <th>1365</th>\n",
       "      <td>12/2018</td>\n",
       "      <td>Hispanic/Latino</td>\n",
       "      <td>24</td>\n",
       "      <td>52000000</td>\n",
       "      <td>0.461538</td>\n",
       "      <td>0.158440</td>\n",
       "    </tr>\n",
       "    <tr>\n",
       "      <th>1368</th>\n",
       "      <td>12/2019</td>\n",
       "      <td>African-American/Black</td>\n",
       "      <td>42</td>\n",
       "      <td>44080000</td>\n",
       "      <td>0.952813</td>\n",
       "      <td>0.134308</td>\n",
       "    </tr>\n",
       "    <tr>\n",
       "      <th>1370</th>\n",
       "      <td>12/2019</td>\n",
       "      <td>European-American/White</td>\n",
       "      <td>67</td>\n",
       "      <td>250520000</td>\n",
       "      <td>0.267444</td>\n",
       "      <td>0.763315</td>\n",
       "    </tr>\n",
       "    <tr>\n",
       "      <th>1371</th>\n",
       "      <td>12/2019</td>\n",
       "      <td>Hispanic/Latino</td>\n",
       "      <td>15</td>\n",
       "      <td>52000000</td>\n",
       "      <td>0.288462</td>\n",
       "      <td>0.158440</td>\n",
       "    </tr>\n",
       "  </tbody>\n",
       "</table>\n",
       "<p>720 rows × 6 columns</p>\n",
       "</div>"
      ],
      "text/plain": [
       "         date                     race  death_count   race_pop  \\\n",
       "0     01/2000   African-American/Black           13   44080000   \n",
       "2     01/2000  European-American/White           16  250520000   \n",
       "3     01/2000          Hispanic/Latino            5   52000000   \n",
       "6     01/2001   African-American/Black            8   44080000   \n",
       "8     01/2001  European-American/White            6  250520000   \n",
       "...       ...                      ...          ...        ...   \n",
       "1364  12/2018  European-American/White           51  250520000   \n",
       "1365  12/2018          Hispanic/Latino           24   52000000   \n",
       "1368  12/2019   African-American/Black           42   44080000   \n",
       "1370  12/2019  European-American/White           67  250520000   \n",
       "1371  12/2019          Hispanic/Latino           15   52000000   \n",
       "\n",
       "      deaths_thousands  pop_prop  \n",
       "0             0.294918  0.134308  \n",
       "2             0.063867  0.763315  \n",
       "3             0.096154  0.158440  \n",
       "6             0.181488  0.134308  \n",
       "8             0.023950  0.763315  \n",
       "...                ...       ...  \n",
       "1364          0.203577  0.763315  \n",
       "1365          0.461538  0.158440  \n",
       "1368          0.952813  0.134308  \n",
       "1370          0.267444  0.763315  \n",
       "1371          0.288462  0.158440  \n",
       "\n",
       "[720 rows x 6 columns]"
      ]
     },
     "execution_count": 31,
     "metadata": {},
     "output_type": "execute_result"
    }
   ],
   "source": [
    "df_month"
   ]
  },
  {
   "cell_type": "code",
   "execution_count": 33,
   "metadata": {},
   "outputs": [
    {
     "data": {
      "text/plain": [
       "<matplotlib.axes._subplots.AxesSubplot at 0x2e145008860>"
      ]
     },
     "execution_count": 33,
     "metadata": {},
     "output_type": "execute_result"
    },
    {
     "data": {
      "image/png": "[encoded data removed]",
      "text/plain": [
       "<Figure size 432x288 with 1 Axes>"
      ]
     },
     "metadata": {
      "needs_background": "light"
     },
     "output_type": "display_data"
    }
   ],
   "source": [
    "sns.lineplot(data = df_month, x = \"date\", y = 'deaths_thousands', hue=\"race\")"
   ]
  },
  {
   "cell_type": "code",
   "execution_count": 18,
   "metadata": {},
   "outputs": [
    {
     "data": {
      "text/html": [
       "<div>\n",
       "<style scoped>\n",
       "    .dataframe tbody tr th:only-of-type {\n",
       "        vertical-align: middle;\n",
       "    }\n",
       "\n",
       "    .dataframe tbody tr th {\n",
       "        vertical-align: top;\n",
       "    }\n",
       "\n",
       "    .dataframe thead th {\n",
       "        text-align: right;\n",
       "    }\n",
       "</style>\n",
       "<table border=\"1\" class=\"dataframe\">\n",
       "  <thead>\n",
       "    <tr style=\"text-align: right;\">\n",
       "      <th></th>\n",
       "      <th>date</th>\n",
       "      <th>race</th>\n",
       "      <th>death_count</th>\n",
       "      <th>race_pop</th>\n",
       "      <th>deaths_thousands</th>\n",
       "      <th>pop_prop</th>\n",
       "    </tr>\n",
       "  </thead>\n",
       "  <tbody>\n",
       "    <tr>\n",
       "      <th>0</th>\n",
       "      <td>2000</td>\n",
       "      <td>African-American/Black</td>\n",
       "      <td>122</td>\n",
       "      <td>44080000</td>\n",
       "      <td>2.767695</td>\n",
       "      <td>0.134308</td>\n",
       "    </tr>\n",
       "    <tr>\n",
       "      <th>2</th>\n",
       "      <td>2000</td>\n",
       "      <td>European-American/White</td>\n",
       "      <td>120</td>\n",
       "      <td>250520000</td>\n",
       "      <td>0.479004</td>\n",
       "      <td>0.763315</td>\n",
       "    </tr>\n",
       "    <tr>\n",
       "      <th>3</th>\n",
       "      <td>2000</td>\n",
       "      <td>Hispanic/Latino</td>\n",
       "      <td>54</td>\n",
       "      <td>52000000</td>\n",
       "      <td>1.038462</td>\n",
       "      <td>0.158440</td>\n",
       "    </tr>\n",
       "    <tr>\n",
       "      <th>6</th>\n",
       "      <td>2001</td>\n",
       "      <td>African-American/Black</td>\n",
       "      <td>92</td>\n",
       "      <td>44080000</td>\n",
       "      <td>2.087114</td>\n",
       "      <td>0.134308</td>\n",
       "    </tr>\n",
       "    <tr>\n",
       "      <th>8</th>\n",
       "      <td>2001</td>\n",
       "      <td>European-American/White</td>\n",
       "      <td>118</td>\n",
       "      <td>250520000</td>\n",
       "      <td>0.471020</td>\n",
       "      <td>0.763315</td>\n",
       "    </tr>\n",
       "  </tbody>\n",
       "</table>\n",
       "</div>"
      ],
      "text/plain": [
       "   date                     race  death_count   race_pop  deaths_thousands  \\\n",
       "0  2000   African-American/Black          122   44080000          2.767695   \n",
       "2  2000  European-American/White          120  250520000          0.479004   \n",
       "3  2000          Hispanic/Latino           54   52000000          1.038462   \n",
       "6  2001   African-American/Black           92   44080000          2.087114   \n",
       "8  2001  European-American/White          118  250520000          0.471020   \n",
       "\n",
       "   pop_prop  \n",
       "0  0.134308  \n",
       "2  0.763315  \n",
       "3  0.158440  \n",
       "6  0.134308  \n",
       "8  0.763315  "
      ]
     },
     "execution_count": 18,
     "metadata": {},
     "output_type": "execute_result"
    }
   ],
   "source": [
    "df.head(5)"
   ]
  },
  {
   "cell_type": "code",
   "execution_count": 39,
   "metadata": {},
   "outputs": [
    {
     "data": {
      "text/html": [
       "<div>\n",
       "<style scoped>\n",
       "    .dataframe tbody tr th:only-of-type {\n",
       "        vertical-align: middle;\n",
       "    }\n",
       "\n",
       "    .dataframe tbody tr th {\n",
       "        vertical-align: top;\n",
       "    }\n",
       "\n",
       "    .dataframe thead th {\n",
       "        text-align: right;\n",
       "    }\n",
       "</style>\n",
       "<table border=\"1\" class=\"dataframe\">\n",
       "  <thead>\n",
       "    <tr style=\"text-align: right;\">\n",
       "      <th></th>\n",
       "      <th>date</th>\n",
       "      <th>race</th>\n",
       "      <th>death_count</th>\n",
       "      <th>race_pop</th>\n",
       "      <th>deaths_thousands</th>\n",
       "      <th>pop_prop</th>\n",
       "    </tr>\n",
       "  </thead>\n",
       "  <tbody>\n",
       "    <tr>\n",
       "      <th>0</th>\n",
       "      <td>2000-01-01</td>\n",
       "      <td>African-American/Black</td>\n",
       "      <td>13</td>\n",
       "      <td>44080000</td>\n",
       "      <td>0.294918</td>\n",
       "      <td>0.134308</td>\n",
       "    </tr>\n",
       "    <tr>\n",
       "      <th>2</th>\n",
       "      <td>2000-01-01</td>\n",
       "      <td>European-American/White</td>\n",
       "      <td>16</td>\n",
       "      <td>250520000</td>\n",
       "      <td>0.063867</td>\n",
       "      <td>0.763315</td>\n",
       "    </tr>\n",
       "    <tr>\n",
       "      <th>3</th>\n",
       "      <td>2000-01-01</td>\n",
       "      <td>Hispanic/Latino</td>\n",
       "      <td>5</td>\n",
       "      <td>52000000</td>\n",
       "      <td>0.096154</td>\n",
       "      <td>0.158440</td>\n",
       "    </tr>\n",
       "    <tr>\n",
       "      <th>6</th>\n",
       "      <td>2001-01-01</td>\n",
       "      <td>African-American/Black</td>\n",
       "      <td>8</td>\n",
       "      <td>44080000</td>\n",
       "      <td>0.181488</td>\n",
       "      <td>0.134308</td>\n",
       "    </tr>\n",
       "    <tr>\n",
       "      <th>8</th>\n",
       "      <td>2001-01-01</td>\n",
       "      <td>European-American/White</td>\n",
       "      <td>6</td>\n",
       "      <td>250520000</td>\n",
       "      <td>0.023950</td>\n",
       "      <td>0.763315</td>\n",
       "    </tr>\n",
       "    <tr>\n",
       "      <th>...</th>\n",
       "      <td>...</td>\n",
       "      <td>...</td>\n",
       "      <td>...</td>\n",
       "      <td>...</td>\n",
       "      <td>...</td>\n",
       "      <td>...</td>\n",
       "    </tr>\n",
       "    <tr>\n",
       "      <th>1364</th>\n",
       "      <td>2018-12-01</td>\n",
       "      <td>European-American/White</td>\n",
       "      <td>51</td>\n",
       "      <td>250520000</td>\n",
       "      <td>0.203577</td>\n",
       "      <td>0.763315</td>\n",
       "    </tr>\n",
       "    <tr>\n",
       "      <th>1365</th>\n",
       "      <td>2018-12-01</td>\n",
       "      <td>Hispanic/Latino</td>\n",
       "      <td>24</td>\n",
       "      <td>52000000</td>\n",
       "      <td>0.461538</td>\n",
       "      <td>0.158440</td>\n",
       "    </tr>\n",
       "    <tr>\n",
       "      <th>1368</th>\n",
       "      <td>2019-12-01</td>\n",
       "      <td>African-American/Black</td>\n",
       "      <td>42</td>\n",
       "      <td>44080000</td>\n",
       "      <td>0.952813</td>\n",
       "      <td>0.134308</td>\n",
       "    </tr>\n",
       "    <tr>\n",
       "      <th>1370</th>\n",
       "      <td>2019-12-01</td>\n",
       "      <td>European-American/White</td>\n",
       "      <td>67</td>\n",
       "      <td>250520000</td>\n",
       "      <td>0.267444</td>\n",
       "      <td>0.763315</td>\n",
       "    </tr>\n",
       "    <tr>\n",
       "      <th>1371</th>\n",
       "      <td>2019-12-01</td>\n",
       "      <td>Hispanic/Latino</td>\n",
       "      <td>15</td>\n",
       "      <td>52000000</td>\n",
       "      <td>0.288462</td>\n",
       "      <td>0.158440</td>\n",
       "    </tr>\n",
       "  </tbody>\n",
       "</table>\n",
       "<p>720 rows × 6 columns</p>\n",
       "</div>"
      ],
      "text/plain": [
       "           date                     race  death_count   race_pop  \\\n",
       "0    2000-01-01   African-American/Black           13   44080000   \n",
       "2    2000-01-01  European-American/White           16  250520000   \n",
       "3    2000-01-01          Hispanic/Latino            5   52000000   \n",
       "6    2001-01-01   African-American/Black            8   44080000   \n",
       "8    2001-01-01  European-American/White            6  250520000   \n",
       "...         ...                      ...          ...        ...   \n",
       "1364 2018-12-01  European-American/White           51  250520000   \n",
       "1365 2018-12-01          Hispanic/Latino           24   52000000   \n",
       "1368 2019-12-01   African-American/Black           42   44080000   \n",
       "1370 2019-12-01  European-American/White           67  250520000   \n",
       "1371 2019-12-01          Hispanic/Latino           15   52000000   \n",
       "\n",
       "      deaths_thousands  pop_prop  \n",
       "0             0.294918  0.134308  \n",
       "2             0.063867  0.763315  \n",
       "3             0.096154  0.158440  \n",
       "6             0.181488  0.134308  \n",
       "8             0.023950  0.763315  \n",
       "...                ...       ...  \n",
       "1364          0.203577  0.763315  \n",
       "1365          0.461538  0.158440  \n",
       "1368          0.952813  0.134308  \n",
       "1370          0.267444  0.763315  \n",
       "1371          0.288462  0.158440  \n",
       "\n",
       "[720 rows x 6 columns]"
      ]
     },
     "execution_count": 39,
     "metadata": {},
     "output_type": "execute_result"
    }
   ],
   "source": [
    "df_month['date'] = pd.to_datetime(df_month['date']) "
   ]
  },
  {
   "cell_type": "code",
   "execution_count": 41,
   "metadata": {},
   "outputs": [],
   "source": [
    "# df_month.pivot(index='date', columns='race', \n",
    "#          values='deaths_thousands').reset_index().rename(columns = {'African-American/Black': 'black', \n",
    "#                                                                     'European-American/White': 'white', \n",
    "#                                                                     'Hispanic/Latino': 'latino'})"
   ]
  },
  {
   "cell_type": "code",
   "execution_count": 42,
   "metadata": {},
   "outputs": [],
   "source": [
    "# df.pivot(index='date', columns='race', \n",
    "#          values='deaths_thousands').reset_index().rename(columns = {'African-American/Black': 'black', \n",
    "#                                                                     'European-American/White': 'white', \n",
    "#                                                                     'Hispanic/Latino': 'latino'}).to_csv(\"deaths_by_race.csv\")\n",
    "df_month.pivot(index='date', columns='race', \n",
    "         values='deaths_thousands').reset_index().rename(columns = {'African-American/Black': 'black', \n",
    "                                                                    'European-American/White': 'white', \n",
    "                                                                    'Hispanic/Latino': 'latino'}).to_csv(\"deaths_by_race_month.csv\")\n",
    "\n",
    "# df.groupby('date').mean().reset_index().to_csv('deaths_time.csv')"
   ]
  },
  {
   "cell_type": "code",
   "execution_count": 38,
   "metadata": {},
   "outputs": [
    {
     "data": {
      "text/plain": [
       "<matplotlib.axes._subplots.AxesSubplot at 0x1a6d4bd98d0>"
      ]
     },
     "execution_count": 38,
     "metadata": {},
     "output_type": "execute_result"
    },
    {
     "data": {
      "image/png": "[encoded data removed]",
      "text/plain": [
       "<Figure size 432x288 with 1 Axes>"
      ]
     },
     "metadata": {
      "needs_background": "light"
     },
     "output_type": "display_data"
    }
   ],
   "source": [
    "sns.lineplot(data = df.groupby('date').mean().reset_index(), x = \"date\", y = 'deaths_thousands')"
   ]
  },
  {
   "cell_type": "code",
   "execution_count": null,
   "metadata": {},
   "outputs": [],
   "source": []
  },
  {
   "cell_type": "code",
   "execution_count": 223,
   "metadata": {},
   "outputs": [],
   "source": [
    "counties_deaths = pd.merge(counties, df, left_on=\"NAME\", \n",
    "                           right_on = \"Location of death (county)\", \n",
    "                           how = \"left\")\n",
    "\n",
    "counties_deaths = counties_deaths[['NAME','geometry', 'death_count']]"
   ]
  },
  {
   "cell_type": "code",
   "execution_count": 225,
   "metadata": {},
   "outputs": [],
   "source": [
    "counties_deaths['death_count'] = counties_deaths['death_count'].fillna(0)"
   ]
  },
  {
   "cell_type": "code",
   "execution_count": 111,
   "metadata": {},
   "outputs": [],
   "source": [
    "# counties_deaths.geometry = counties_deaths.centroid"
   ]
  },
  {
   "cell_type": "code",
   "execution_count": 226,
   "metadata": {},
   "outputs": [],
   "source": [
    "counties_deaths['Longitude'] = counties_deaths.geometry.centroid.x\n",
    "counties_deaths['Latitude'] = counties_deaths.geometry.centroid.y"
   ]
  },
  {
   "cell_type": "code",
   "execution_count": 227,
   "metadata": {},
   "outputs": [
    {
     "data": {
      "text/html": [
       "<div>\n",
       "<style scoped>\n",
       "    .dataframe tbody tr th:only-of-type {\n",
       "        vertical-align: middle;\n",
       "    }\n",
       "\n",
       "    .dataframe tbody tr th {\n",
       "        vertical-align: top;\n",
       "    }\n",
       "\n",
       "    .dataframe thead th {\n",
       "        text-align: right;\n",
       "    }\n",
       "</style>\n",
       "<table border=\"1\" class=\"dataframe\">\n",
       "  <thead>\n",
       "    <tr style=\"text-align: right;\">\n",
       "      <th></th>\n",
       "      <th>NAME</th>\n",
       "      <th>geometry</th>\n",
       "      <th>death_count</th>\n",
       "      <th>Longitude</th>\n",
       "      <th>Latitude</th>\n",
       "    </tr>\n",
       "  </thead>\n",
       "  <tbody>\n",
       "    <tr>\n",
       "      <th>0</th>\n",
       "      <td>Cuming</td>\n",
       "      <td>POLYGON ((-97.01952 42.00410, -97.01952 42.004...</td>\n",
       "      <td>0.0</td>\n",
       "      <td>-96.787400</td>\n",
       "      <td>41.916403</td>\n",
       "    </tr>\n",
       "    <tr>\n",
       "      <th>1</th>\n",
       "      <td>Wahkiakum</td>\n",
       "      <td>POLYGON ((-123.43639 46.23820, -123.44759 46.2...</td>\n",
       "      <td>0.0</td>\n",
       "      <td>-123.433470</td>\n",
       "      <td>46.291134</td>\n",
       "    </tr>\n",
       "    <tr>\n",
       "      <th>2</th>\n",
       "      <td>De Baca</td>\n",
       "      <td>POLYGON ((-104.56739 33.99757, -104.56772 33.9...</td>\n",
       "      <td>1.0</td>\n",
       "      <td>-104.411958</td>\n",
       "      <td>34.342414</td>\n",
       "    </tr>\n",
       "    <tr>\n",
       "      <th>3</th>\n",
       "      <td>Lancaster</td>\n",
       "      <td>POLYGON ((-96.91060 40.95841, -96.91060 40.958...</td>\n",
       "      <td>48.0</td>\n",
       "      <td>-96.687756</td>\n",
       "      <td>40.784174</td>\n",
       "    </tr>\n",
       "    <tr>\n",
       "      <th>4</th>\n",
       "      <td>Nuckolls</td>\n",
       "      <td>POLYGON ((-98.27367 40.08940, -98.27367 40.089...</td>\n",
       "      <td>0.0</td>\n",
       "      <td>-98.047185</td>\n",
       "      <td>40.176380</td>\n",
       "    </tr>\n",
       "    <tr>\n",
       "      <th>...</th>\n",
       "      <td>...</td>\n",
       "      <td>...</td>\n",
       "      <td>...</td>\n",
       "      <td>...</td>\n",
       "      <td>...</td>\n",
       "    </tr>\n",
       "    <tr>\n",
       "      <th>3228</th>\n",
       "      <td>Gilmer</td>\n",
       "      <td>POLYGON ((-84.65478 34.66559, -84.65488 34.669...</td>\n",
       "      <td>0.0</td>\n",
       "      <td>-84.455627</td>\n",
       "      <td>34.691178</td>\n",
       "    </tr>\n",
       "    <tr>\n",
       "      <th>3229</th>\n",
       "      <td>Roseau</td>\n",
       "      <td>POLYGON ((-96.40466 48.80528, -96.40467 48.813...</td>\n",
       "      <td>0.0</td>\n",
       "      <td>-95.810817</td>\n",
       "      <td>48.775139</td>\n",
       "    </tr>\n",
       "    <tr>\n",
       "      <th>3230</th>\n",
       "      <td>Madison</td>\n",
       "      <td>POLYGON ((-90.09363 32.70763, -90.09360 32.707...</td>\n",
       "      <td>142.0</td>\n",
       "      <td>-90.033714</td>\n",
       "      <td>32.634710</td>\n",
       "    </tr>\n",
       "    <tr>\n",
       "      <th>3231</th>\n",
       "      <td>Howard</td>\n",
       "      <td>POLYGON ((-101.69227 32.27106, -101.69221 32.2...</td>\n",
       "      <td>26.0</td>\n",
       "      <td>-101.435505</td>\n",
       "      <td>32.306169</td>\n",
       "    </tr>\n",
       "    <tr>\n",
       "      <th>3232</th>\n",
       "      <td>Wayne</td>\n",
       "      <td>POLYGON ((-82.59529 38.36978, -82.59515 38.369...</td>\n",
       "      <td>292.0</td>\n",
       "      <td>-82.426950</td>\n",
       "      <td>38.145949</td>\n",
       "    </tr>\n",
       "  </tbody>\n",
       "</table>\n",
       "<p>3233 rows × 5 columns</p>\n",
       "</div>"
      ],
      "text/plain": [
       "           NAME                                           geometry  \\\n",
       "0        Cuming  POLYGON ((-97.01952 42.00410, -97.01952 42.004...   \n",
       "1     Wahkiakum  POLYGON ((-123.43639 46.23820, -123.44759 46.2...   \n",
       "2       De Baca  POLYGON ((-104.56739 33.99757, -104.56772 33.9...   \n",
       "3     Lancaster  POLYGON ((-96.91060 40.95841, -96.91060 40.958...   \n",
       "4      Nuckolls  POLYGON ((-98.27367 40.08940, -98.27367 40.089...   \n",
       "...         ...                                                ...   \n",
       "3228     Gilmer  POLYGON ((-84.65478 34.66559, -84.65488 34.669...   \n",
       "3229     Roseau  POLYGON ((-96.40466 48.80528, -96.40467 48.813...   \n",
       "3230    Madison  POLYGON ((-90.09363 32.70763, -90.09360 32.707...   \n",
       "3231     Howard  POLYGON ((-101.69227 32.27106, -101.69221 32.2...   \n",
       "3232      Wayne  POLYGON ((-82.59529 38.36978, -82.59515 38.369...   \n",
       "\n",
       "      death_count   Longitude   Latitude  \n",
       "0             0.0  -96.787400  41.916403  \n",
       "1             0.0 -123.433470  46.291134  \n",
       "2             1.0 -104.411958  34.342414  \n",
       "3            48.0  -96.687756  40.784174  \n",
       "4             0.0  -98.047185  40.176380  \n",
       "...           ...         ...        ...  \n",
       "3228          0.0  -84.455627  34.691178  \n",
       "3229          0.0  -95.810817  48.775139  \n",
       "3230        142.0  -90.033714  32.634710  \n",
       "3231         26.0 -101.435505  32.306169  \n",
       "3232        292.0  -82.426950  38.145949  \n",
       "\n",
       "[3233 rows x 5 columns]"
      ]
     },
     "execution_count": 227,
     "metadata": {},
     "output_type": "execute_result"
    }
   ],
   "source": [
    "counties_deaths"
   ]
  },
  {
   "cell_type": "code",
   "execution_count": 156,
   "metadata": {},
   "outputs": [
    {
     "data": {
      "text/plain": [
       "(2728, 4)"
      ]
     },
     "execution_count": 156,
     "metadata": {},
     "output_type": "execute_result"
    }
   ],
   "source": [
    "counties_deaths = counties_deaths.dropna()\n",
    "counties_deaths = counties_deaths[['NAME','death_count', 'Longitude', 'Latitude']]\n",
    "counties_deaths.shape"
   ]
  },
  {
   "cell_type": "code",
   "execution_count": 234,
   "metadata": {},
   "outputs": [
    {
     "name": "stdout",
     "output_type": "stream",
     "text": [
      "<class 'geopandas.geodataframe.GeoDataFrame'>\n",
      "Int64Index: 3233 entries, 0 to 3232\n",
      "Data columns (total 5 columns):\n",
      " #   Column       Non-Null Count  Dtype   \n",
      "---  ------       --------------  -----   \n",
      " 0   NAME         3233 non-null   object  \n",
      " 1   geometry     3233 non-null   geometry\n",
      " 2   death_count  3233 non-null   float64 \n",
      " 3   Longitude    3233 non-null   float64 \n",
      " 4   Latitude     3233 non-null   float64 \n",
      "dtypes: float64(3), geometry(1), object(1)\n",
      "memory usage: 151.5+ KB\n"
     ]
    }
   ],
   "source": [
    "counties_deaths.info()"
   ]
  },
  {
   "cell_type": "code",
   "execution_count": 236,
   "metadata": {},
   "outputs": [],
   "source": [
    "counties_deaths.dropna().to_file('counties_deaths_cl.geojson', driver=\"GeoJSON\")"
   ]
  },
  {
   "cell_type": "code",
   "execution_count": 233,
   "metadata": {},
   "outputs": [
    {
     "data": {
      "text/html": [
       "<div>\n",
       "<style scoped>\n",
       "    .dataframe tbody tr th:only-of-type {\n",
       "        vertical-align: middle;\n",
       "    }\n",
       "\n",
       "    .dataframe tbody tr th {\n",
       "        vertical-align: top;\n",
       "    }\n",
       "\n",
       "    .dataframe thead th {\n",
       "        text-align: right;\n",
       "    }\n",
       "</style>\n",
       "<table border=\"1\" class=\"dataframe\">\n",
       "  <thead>\n",
       "    <tr style=\"text-align: right;\">\n",
       "      <th></th>\n",
       "      <th>NAME</th>\n",
       "      <th>geometry</th>\n",
       "      <th>death_count</th>\n",
       "      <th>Longitude</th>\n",
       "      <th>Latitude</th>\n",
       "    </tr>\n",
       "  </thead>\n",
       "  <tbody>\n",
       "    <tr>\n",
       "      <th>0</th>\n",
       "      <td>Cuming</td>\n",
       "      <td>POLYGON ((-97.01952 42.00410, -97.01952 42.004...</td>\n",
       "      <td>0.0</td>\n",
       "      <td>-96.787400</td>\n",
       "      <td>41.916403</td>\n",
       "    </tr>\n",
       "    <tr>\n",
       "      <th>1</th>\n",
       "      <td>Wahkiakum</td>\n",
       "      <td>POLYGON ((-123.43639 46.23820, -123.44759 46.2...</td>\n",
       "      <td>0.0</td>\n",
       "      <td>-123.433470</td>\n",
       "      <td>46.291134</td>\n",
       "    </tr>\n",
       "    <tr>\n",
       "      <th>2</th>\n",
       "      <td>De Baca</td>\n",
       "      <td>POLYGON ((-104.56739 33.99757, -104.56772 33.9...</td>\n",
       "      <td>1.0</td>\n",
       "      <td>-104.411958</td>\n",
       "      <td>34.342414</td>\n",
       "    </tr>\n",
       "    <tr>\n",
       "      <th>3</th>\n",
       "      <td>Lancaster</td>\n",
       "      <td>POLYGON ((-96.91060 40.95841, -96.91060 40.958...</td>\n",
       "      <td>48.0</td>\n",
       "      <td>-96.687756</td>\n",
       "      <td>40.784174</td>\n",
       "    </tr>\n",
       "    <tr>\n",
       "      <th>4</th>\n",
       "      <td>Nuckolls</td>\n",
       "      <td>POLYGON ((-98.27367 40.08940, -98.27367 40.089...</td>\n",
       "      <td>0.0</td>\n",
       "      <td>-98.047185</td>\n",
       "      <td>40.176380</td>\n",
       "    </tr>\n",
       "    <tr>\n",
       "      <th>...</th>\n",
       "      <td>...</td>\n",
       "      <td>...</td>\n",
       "      <td>...</td>\n",
       "      <td>...</td>\n",
       "      <td>...</td>\n",
       "    </tr>\n",
       "    <tr>\n",
       "      <th>3228</th>\n",
       "      <td>Gilmer</td>\n",
       "      <td>POLYGON ((-84.65478 34.66559, -84.65488 34.669...</td>\n",
       "      <td>0.0</td>\n",
       "      <td>-84.455627</td>\n",
       "      <td>34.691178</td>\n",
       "    </tr>\n",
       "    <tr>\n",
       "      <th>3229</th>\n",
       "      <td>Roseau</td>\n",
       "      <td>POLYGON ((-96.40466 48.80528, -96.40467 48.813...</td>\n",
       "      <td>0.0</td>\n",
       "      <td>-95.810817</td>\n",
       "      <td>48.775139</td>\n",
       "    </tr>\n",
       "    <tr>\n",
       "      <th>3230</th>\n",
       "      <td>Madison</td>\n",
       "      <td>POLYGON ((-90.09363 32.70763, -90.09360 32.707...</td>\n",
       "      <td>142.0</td>\n",
       "      <td>-90.033714</td>\n",
       "      <td>32.634710</td>\n",
       "    </tr>\n",
       "    <tr>\n",
       "      <th>3231</th>\n",
       "      <td>Howard</td>\n",
       "      <td>POLYGON ((-101.69227 32.27106, -101.69221 32.2...</td>\n",
       "      <td>26.0</td>\n",
       "      <td>-101.435505</td>\n",
       "      <td>32.306169</td>\n",
       "    </tr>\n",
       "    <tr>\n",
       "      <th>3232</th>\n",
       "      <td>Wayne</td>\n",
       "      <td>POLYGON ((-82.59529 38.36978, -82.59515 38.369...</td>\n",
       "      <td>292.0</td>\n",
       "      <td>-82.426950</td>\n",
       "      <td>38.145949</td>\n",
       "    </tr>\n",
       "  </tbody>\n",
       "</table>\n",
       "<p>3233 rows × 5 columns</p>\n",
       "</div>"
      ],
      "text/plain": [
       "           NAME                                           geometry  \\\n",
       "0        Cuming  POLYGON ((-97.01952 42.00410, -97.01952 42.004...   \n",
       "1     Wahkiakum  POLYGON ((-123.43639 46.23820, -123.44759 46.2...   \n",
       "2       De Baca  POLYGON ((-104.56739 33.99757, -104.56772 33.9...   \n",
       "3     Lancaster  POLYGON ((-96.91060 40.95841, -96.91060 40.958...   \n",
       "4      Nuckolls  POLYGON ((-98.27367 40.08940, -98.27367 40.089...   \n",
       "...         ...                                                ...   \n",
       "3228     Gilmer  POLYGON ((-84.65478 34.66559, -84.65488 34.669...   \n",
       "3229     Roseau  POLYGON ((-96.40466 48.80528, -96.40467 48.813...   \n",
       "3230    Madison  POLYGON ((-90.09363 32.70763, -90.09360 32.707...   \n",
       "3231     Howard  POLYGON ((-101.69227 32.27106, -101.69221 32.2...   \n",
       "3232      Wayne  POLYGON ((-82.59529 38.36978, -82.59515 38.369...   \n",
       "\n",
       "      death_count   Longitude   Latitude  \n",
       "0             0.0  -96.787400  41.916403  \n",
       "1             0.0 -123.433470  46.291134  \n",
       "2             1.0 -104.411958  34.342414  \n",
       "3            48.0  -96.687756  40.784174  \n",
       "4             0.0  -98.047185  40.176380  \n",
       "...           ...         ...        ...  \n",
       "3228          0.0  -84.455627  34.691178  \n",
       "3229          0.0  -95.810817  48.775139  \n",
       "3230        142.0  -90.033714  32.634710  \n",
       "3231         26.0 -101.435505  32.306169  \n",
       "3232        292.0  -82.426950  38.145949  \n",
       "\n",
       "[3233 rows x 5 columns]"
      ]
     },
     "execution_count": 233,
     "metadata": {},
     "output_type": "execute_result"
    }
   ],
   "source": [
    "counties_deaths"
   ]
  }
 ],
 "metadata": {
  "kernelspec": {
   "display_name": "Python 3",
   "language": "python",
   "name": "python3"
  },
  "language_info": {
   "codemirror_mode": {
    "name": "ipython",
    "version": 3
   },
   "file_extension": ".py",
   "mimetype": "text/x-python",
   "name": "python",
   "nbconvert_exporter": "python",
   "pygments_lexer": "ipython3",
   "version": "3.7.3"
  }
 },
 "nbformat": 4,
 "nbformat_minor": 4
}
